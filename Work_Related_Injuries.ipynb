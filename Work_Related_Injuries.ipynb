{
  "nbformat": 4,
  "nbformat_minor": 0,
  "metadata": {
    "colab": {
      "provenance": [],
      "authorship_tag": "ABX9TyMKZyuNFMd9l/zu/xb4XbR+",
      "include_colab_link": true
    },
    "kernelspec": {
      "name": "python3",
      "display_name": "Python 3"
    },
    "language_info": {
      "name": "python"
    },
    "widgets": {
      "application/vnd.jupyter.widget-state+json": {
        "fa1b7223d4064c86a1cef19edc1e6ed6": {
          "model_module": "@jupyter-widgets/controls",
          "model_name": "HBoxModel",
          "model_module_version": "1.5.0",
          "state": {
            "_dom_classes": [],
            "_model_module": "@jupyter-widgets/controls",
            "_model_module_version": "1.5.0",
            "_model_name": "HBoxModel",
            "_view_count": null,
            "_view_module": "@jupyter-widgets/controls",
            "_view_module_version": "1.5.0",
            "_view_name": "HBoxView",
            "box_style": "",
            "children": [
              "IPY_MODEL_3c53df28d2424f52b1625b4b29395e3e",
              "IPY_MODEL_31798fc273f3473ab1dc5547d5ca05ba",
              "IPY_MODEL_c64efc7b4af9447ba06d8d99c90a626e"
            ],
            "layout": "IPY_MODEL_d395e426c7c94081847bddc9194c0933"
          }
        },
        "3c53df28d2424f52b1625b4b29395e3e": {
          "model_module": "@jupyter-widgets/controls",
          "model_name": "HTMLModel",
          "model_module_version": "1.5.0",
          "state": {
            "_dom_classes": [],
            "_model_module": "@jupyter-widgets/controls",
            "_model_module_version": "1.5.0",
            "_model_name": "HTMLModel",
            "_view_count": null,
            "_view_module": "@jupyter-widgets/controls",
            "_view_module_version": "1.5.0",
            "_view_name": "HTMLView",
            "description": "",
            "description_tooltip": null,
            "layout": "IPY_MODEL_12d125c6b827418380c09027090e1940",
            "placeholder": "​",
            "style": "IPY_MODEL_b0d49a837cb0454d8535fedef908fe5f",
            "value": "Feature: dafw rate                           "
          }
        },
        "31798fc273f3473ab1dc5547d5ca05ba": {
          "model_module": "@jupyter-widgets/controls",
          "model_name": "FloatProgressModel",
          "model_module_version": "1.5.0",
          "state": {
            "_dom_classes": [],
            "_model_module": "@jupyter-widgets/controls",
            "_model_module_version": "1.5.0",
            "_model_name": "FloatProgressModel",
            "_view_count": null,
            "_view_module": "@jupyter-widgets/controls",
            "_view_module_version": "1.5.0",
            "_view_name": "ProgressView",
            "bar_style": "",
            "description": "",
            "description_tooltip": null,
            "layout": "IPY_MODEL_271fb6c01b5a45dfb381d7894ffd0e6a",
            "max": 31,
            "min": 0,
            "orientation": "horizontal",
            "style": "IPY_MODEL_f9b9cce6f584491dbae36d8a93b67e31",
            "value": 29
          }
        },
        "c64efc7b4af9447ba06d8d99c90a626e": {
          "model_module": "@jupyter-widgets/controls",
          "model_name": "HTMLModel",
          "model_module_version": "1.5.0",
          "state": {
            "_dom_classes": [],
            "_model_module": "@jupyter-widgets/controls",
            "_model_module_version": "1.5.0",
            "_model_name": "HTMLModel",
            "_view_count": null,
            "_view_module": "@jupyter-widgets/controls",
            "_view_module_version": "1.5.0",
            "_view_name": "HTMLView",
            "description": "",
            "description_tooltip": null,
            "layout": "IPY_MODEL_2aad4923c9f545369593cdaf3ccf31b7",
            "placeholder": "​",
            "style": "IPY_MODEL_7506cbff1efd4277bf3cd245c74fe1d5",
            "value": " [ 94%]   01:10 -&gt; (00:02 left)"
          }
        },
        "d395e426c7c94081847bddc9194c0933": {
          "model_module": "@jupyter-widgets/base",
          "model_name": "LayoutModel",
          "model_module_version": "1.2.0",
          "state": {
            "_model_module": "@jupyter-widgets/base",
            "_model_module_version": "1.2.0",
            "_model_name": "LayoutModel",
            "_view_count": null,
            "_view_module": "@jupyter-widgets/base",
            "_view_module_version": "1.2.0",
            "_view_name": "LayoutView",
            "align_content": null,
            "align_items": null,
            "align_self": null,
            "border": null,
            "bottom": null,
            "display": "inline-flex",
            "flex": null,
            "flex_flow": "row wrap",
            "grid_area": null,
            "grid_auto_columns": null,
            "grid_auto_flow": null,
            "grid_auto_rows": null,
            "grid_column": null,
            "grid_gap": null,
            "grid_row": null,
            "grid_template_areas": null,
            "grid_template_columns": null,
            "grid_template_rows": null,
            "height": null,
            "justify_content": null,
            "justify_items": null,
            "left": null,
            "margin": null,
            "max_height": null,
            "max_width": null,
            "min_height": null,
            "min_width": null,
            "object_fit": null,
            "object_position": null,
            "order": null,
            "overflow": null,
            "overflow_x": null,
            "overflow_y": null,
            "padding": null,
            "right": null,
            "top": null,
            "visibility": null,
            "width": "100%"
          }
        },
        "12d125c6b827418380c09027090e1940": {
          "model_module": "@jupyter-widgets/base",
          "model_name": "LayoutModel",
          "model_module_version": "1.2.0",
          "state": {
            "_model_module": "@jupyter-widgets/base",
            "_model_module_version": "1.2.0",
            "_model_name": "LayoutModel",
            "_view_count": null,
            "_view_module": "@jupyter-widgets/base",
            "_view_module_version": "1.2.0",
            "_view_name": "LayoutView",
            "align_content": null,
            "align_items": null,
            "align_self": null,
            "border": null,
            "bottom": null,
            "display": null,
            "flex": null,
            "flex_flow": null,
            "grid_area": null,
            "grid_auto_columns": null,
            "grid_auto_flow": null,
            "grid_auto_rows": null,
            "grid_column": null,
            "grid_gap": null,
            "grid_row": null,
            "grid_template_areas": null,
            "grid_template_columns": null,
            "grid_template_rows": null,
            "height": null,
            "justify_content": null,
            "justify_items": null,
            "left": null,
            "margin": null,
            "max_height": null,
            "max_width": null,
            "min_height": null,
            "min_width": null,
            "object_fit": null,
            "object_position": null,
            "order": null,
            "overflow": null,
            "overflow_x": null,
            "overflow_y": null,
            "padding": null,
            "right": null,
            "top": null,
            "visibility": null,
            "width": null
          }
        },
        "b0d49a837cb0454d8535fedef908fe5f": {
          "model_module": "@jupyter-widgets/controls",
          "model_name": "DescriptionStyleModel",
          "model_module_version": "1.5.0",
          "state": {
            "_model_module": "@jupyter-widgets/controls",
            "_model_module_version": "1.5.0",
            "_model_name": "DescriptionStyleModel",
            "_view_count": null,
            "_view_module": "@jupyter-widgets/base",
            "_view_module_version": "1.2.0",
            "_view_name": "StyleView",
            "description_width": ""
          }
        },
        "271fb6c01b5a45dfb381d7894ffd0e6a": {
          "model_module": "@jupyter-widgets/base",
          "model_name": "LayoutModel",
          "model_module_version": "1.2.0",
          "state": {
            "_model_module": "@jupyter-widgets/base",
            "_model_module_version": "1.2.0",
            "_model_name": "LayoutModel",
            "_view_count": null,
            "_view_module": "@jupyter-widgets/base",
            "_view_module_version": "1.2.0",
            "_view_name": "LayoutView",
            "align_content": null,
            "align_items": null,
            "align_self": null,
            "border": null,
            "bottom": null,
            "display": null,
            "flex": "2",
            "flex_flow": null,
            "grid_area": null,
            "grid_auto_columns": null,
            "grid_auto_flow": null,
            "grid_auto_rows": null,
            "grid_column": null,
            "grid_gap": null,
            "grid_row": null,
            "grid_template_areas": null,
            "grid_template_columns": null,
            "grid_template_rows": null,
            "height": null,
            "justify_content": null,
            "justify_items": null,
            "left": null,
            "margin": null,
            "max_height": null,
            "max_width": null,
            "min_height": null,
            "min_width": null,
            "object_fit": null,
            "object_position": null,
            "order": null,
            "overflow": null,
            "overflow_x": null,
            "overflow_y": null,
            "padding": null,
            "right": null,
            "top": null,
            "visibility": null,
            "width": null
          }
        },
        "f9b9cce6f584491dbae36d8a93b67e31": {
          "model_module": "@jupyter-widgets/controls",
          "model_name": "ProgressStyleModel",
          "model_module_version": "1.5.0",
          "state": {
            "_model_module": "@jupyter-widgets/controls",
            "_model_module_version": "1.5.0",
            "_model_name": "ProgressStyleModel",
            "_view_count": null,
            "_view_module": "@jupyter-widgets/base",
            "_view_module_version": "1.2.0",
            "_view_name": "StyleView",
            "bar_color": null,
            "description_width": ""
          }
        },
        "2aad4923c9f545369593cdaf3ccf31b7": {
          "model_module": "@jupyter-widgets/base",
          "model_name": "LayoutModel",
          "model_module_version": "1.2.0",
          "state": {
            "_model_module": "@jupyter-widgets/base",
            "_model_module_version": "1.2.0",
            "_model_name": "LayoutModel",
            "_view_count": null,
            "_view_module": "@jupyter-widgets/base",
            "_view_module_version": "1.2.0",
            "_view_name": "LayoutView",
            "align_content": null,
            "align_items": null,
            "align_self": null,
            "border": null,
            "bottom": null,
            "display": null,
            "flex": null,
            "flex_flow": null,
            "grid_area": null,
            "grid_auto_columns": null,
            "grid_auto_flow": null,
            "grid_auto_rows": null,
            "grid_column": null,
            "grid_gap": null,
            "grid_row": null,
            "grid_template_areas": null,
            "grid_template_columns": null,
            "grid_template_rows": null,
            "height": null,
            "justify_content": null,
            "justify_items": null,
            "left": null,
            "margin": null,
            "max_height": null,
            "max_width": null,
            "min_height": null,
            "min_width": null,
            "object_fit": null,
            "object_position": null,
            "order": null,
            "overflow": null,
            "overflow_x": null,
            "overflow_y": null,
            "padding": null,
            "right": null,
            "top": null,
            "visibility": null,
            "width": null
          }
        },
        "7506cbff1efd4277bf3cd245c74fe1d5": {
          "model_module": "@jupyter-widgets/controls",
          "model_name": "DescriptionStyleModel",
          "model_module_version": "1.5.0",
          "state": {
            "_model_module": "@jupyter-widgets/controls",
            "_model_module_version": "1.5.0",
            "_model_name": "DescriptionStyleModel",
            "_view_count": null,
            "_view_module": "@jupyter-widgets/base",
            "_view_module_version": "1.2.0",
            "_view_name": "StyleView",
            "description_width": ""
          }
        }
      }
    }
  },
  "cells": [
    {
      "cell_type": "markdown",
      "metadata": {
        "id": "view-in-github",
        "colab_type": "text"
      },
      "source": [
        "<a href=\"https://colab.research.google.com/github/mamadqolami/Aviation-Accidents/blob/master/Work_Related_Injuries.ipynb\" target=\"_parent\"><img src=\"https://colab.research.google.com/assets/colab-badge.svg\" alt=\"Open In Colab\"/></a>"
      ]
    },
    {
      "cell_type": "markdown",
      "source": [
        "# By Mohammad Gholami"
      ],
      "metadata": {
        "id": "JDcUTclAKM-p"
      }
    },
    {
      "cell_type": "markdown",
      "source": [
        "# About Project"
      ],
      "metadata": {
        "id": "W1PQgNYdKWgg"
      }
    },
    {
      "cell_type": "markdown",
      "source": [
        "**In this study, work-related injuries are investigated and analyzed. This study aims to examine two public datasets published by the US Occupational Safety and Health Administration (OSHA), first perform an exploratory data analysis (EDA) on both datasets, then use standard and hybrid machine learning algorithms for the objective variable of the problem to predict. Finally, association rules are extracted on both datasets.**\n",
        "\n",
        "The questions of this study are:\n",
        "1. What factors have the greatest impact on occupational injuries?\n",
        "2. Which category or field has experienced the highest number of occupational injuries?\n",
        "3. What are the consequences of occupational injuries for workers, society, and the industry?\n",
        "4. To what extent are machine algorithms applicable in predicting work-related injuries?\n",
        "5. What are suitable strategies for eliminating, reducing, and managing occupational injuries?"
      ],
      "metadata": {
        "id": "vmkXg9qxKWLh"
      }
    },
    {
      "cell_type": "markdown",
      "source": [
        "## I. About Dataset 1\n",
        "### OSHA Establishment Specific Injury and Illness Data (Injury Tracking Application):\n",
        "**Data Dictionay:**\n",
        "\n",
        "| Index | Data Element | Definition |\n",
        "| --- | --- | --- |\n",
        "| 1 | ID  | Unique number for each record |\n",
        "| 2 | establishment_name | Employer Identification Number (EIN) is also known as Federal Tax Identification Number |\n",
        "| 3 | company_name | The name of the company that owns the establishment |\n",
        "| 4 | street_address | The street address of the establishment |\n",
        "| 5 | city | The city where the establishment is located |\n",
        "| 6 | state | The state where the establishment is located |\n",
        "| 7 | zip_code | The full zip code for the establishment |\n",
        "| 8 | naics_code | The North American Industry Classification System (NAICS) code which classifies an establishment’s business. |\n",
        "| 9 | industry_description | Industry Description |\n",
        "| 10 | size | The size of the establishment based on the maximum number of employees that worked there at any point in the year you are submitting data for. * Enter 1 if the establishment has < 20 employees * Enter 2 if the establishment has 20-249 employees * Enter 3 if the establishment has 250+ employees |\n",
        "| 11 | establishment_type | Identify if the establishment is part of a state or local government. * Enter 1 if the establishment is not a government entity * Enter 2 if the establishment is a State Government entity * Enter 3 if the establishment is a Local Government entity |\n",
        "| 12 | year_filing_for | The calendar year in which the injuries and illnesses reported occurred at the establishment. |\n",
        "| 13 | annual_average_employees | Annual Average Number of Employees |\n",
        "| 14 | total_hours_worked | Total hours worked by all employees |\n",
        "| 15 | no_injuries_illnesses | Whether the establishment had any OSHA recordable work-related injuries or illnesses during the year. * Enter 1 if the establishment had injuries or illnesses * Enter 2 if the establishment did not have injuries or illnesses |\n",
        "| 16 | total_deaths | Total number of deaths (Form 300A Field G) |\n",
        "| 17 | total_dafw_cases | Total number of cases with days away from work (Form 300A Field H) * Must be >= 0 * Must be a number |\n",
        "| 18 | total_djtr_cases | Total number of cases with job transfer or restriction (Form 300A Field I) |\n",
        "| 19 | total_other_cases | Total number of other recordable cases (Form 300A Field J) |\n",
        "| 20 | total_dafw_days | Total number of days away from work (Form 300A Field K) |\n",
        "| 21 | total_djtr_days | Total number of days of job transfer or restriction (Form 300A Field L) |\n",
        "| 22 | total_injuries | Total number of injuries (Form 300A Field M(1)) * Must be >= 0 * Must be a number |\n",
        "| 23 | total_skin_disorders | Total number of skin disorders (Form 300A Field M(2)) |\n",
        "| 24 | total_respiratory_conditions | Total number of respiratory conditions (Form 300A Field M(3)) |\n",
        "| 25 | total_poisonings | Total number of poisonings (Form 300A Field M(4)) |\n",
        "| 26 | total_hearing_loss | Total number of hearing loss (Form 300A Field M(5)) |\n",
        "| 27 | total_other_illnesses | Total number of all other illnesses (Form 300A Field M(6)) |\n",
        "| 28 | establishment_ID | Unique number for each establishment created under an individual user account |\n",
        "| 29 | created_timestamp | The date and time a record was submitted to the ITA |\n",
        "| 30 | Change_reason | The reason why an establishment’s injury and illness summary was changed, if applicable |\n",
        "\n",
        "Link to access the dataset:\n",
        "https://www.osha.gov/Establishment-Specific-Injury-and-Illness-Data"
      ],
      "metadata": {
        "id": "Aklq4yARKWCB"
      }
    },
    {
      "cell_type": "markdown",
      "source": [
        "## II. About Dataset 2\n",
        "### OSHA Severe Injury Reports:\n",
        "**Data Dictionay:**\n",
        "\n",
        "| Index | Data Element | Definition |\n",
        "| --- | --- | --- |\n",
        "| 1 | ID | Unique number for each record |\n",
        "| 2 | UPA | UPA code |\n",
        "| 3 | EventDate | The date of the event |\n",
        "| 4 |Employer | The name of the employer's organization |\n",
        "| 5 | Address1 | Address number 1 of the institution |\n",
        "| 6 | Address1 | Address number 2 of the institution |\n",
        "| 7 | City | Institute city |\n",
        "| 8 | State | Institution state |\n",
        "| 9 | Zip | Institute zip code |\n",
        "| 10 | Latitude | Institute Latitude |\n",
        "| 11 | Longitude | Institute Longitude |\n",
        "| 12 | Primary NAICS | Primary The North American Industry Classification System (NAICS) code which classifies an establishment’s business |\n",
        "| 13 | Hospitalized | 0 means not hospitalized and 1 means hospitalized |\n",
        "| 14 | Amputation | 0 means no amputation, 1 means amputation |\n",
        "| 15 | Inspection | Inspection code|\n",
        "| 16 | Final Narrative | The final narrative of the accident |\n",
        "| 17 | Nature | Nature of injury code |\n",
        "| 18 | NatureTitle | Nature of injury title |\n",
        "| 19 | Part of Body | Part of body code |\n",
        "| 20 | Part of Body Title | Part of body title |\n",
        "| 21 | Event | Event code |\n",
        "| 22 | EventTitle | Event title |\n",
        "| 23 | Source | Source of accident code |\n",
        "| 24 | SourceTitle | Source of accident title |\n",
        "| 25 | Secondary Source | Secondary Source of accident code |\n",
        "| 26 | Secondary Source Title | Secondary Source of accident title |\n",
        "\n",
        "Link to access the dataset:\n",
        "https://www.osha.gov/severeinjury"
      ],
      "metadata": {
        "id": "8mMhBbiwKV64"
      }
    },
    {
      "cell_type": "markdown",
      "source": [
        "**First, Let's look at the First dataset**"
      ],
      "metadata": {
        "id": "_i36eEo3KVyh"
      }
    },
    {
      "cell_type": "markdown",
      "source": [
        "# 1. Data Collection"
      ],
      "metadata": {
        "id": "W7mGWnXMLHP3"
      }
    },
    {
      "cell_type": "markdown",
      "source": [
        "## 1.1 Import Libraries For Overview & EDA"
      ],
      "metadata": {
        "id": "MW9fQVp7LKQQ"
      }
    },
    {
      "cell_type": "code",
      "source": [
        "%pip install sweetviz"
      ],
      "metadata": {
        "colab": {
          "base_uri": "https://localhost:8080/"
        },
        "id": "wYh8IEgdp-87",
        "outputId": "1b87e3a1-a0ca-4974-f99c-743b21b07ca5"
      },
      "execution_count": 1,
      "outputs": [
        {
          "output_type": "stream",
          "name": "stdout",
          "text": [
            "Looking in indexes: https://pypi.org/simple, https://us-python.pkg.dev/colab-wheels/public/simple/\n",
            "Requirement already satisfied: sweetviz in /usr/local/lib/python3.10/dist-packages (2.1.4)\n",
            "Requirement already satisfied: pandas!=1.0.0,!=1.0.1,!=1.0.2,>=0.25.3 in /usr/local/lib/python3.10/dist-packages (from sweetviz) (1.5.3)\n",
            "Requirement already satisfied: numpy>=1.16.0 in /usr/local/lib/python3.10/dist-packages (from sweetviz) (1.22.4)\n",
            "Requirement already satisfied: matplotlib>=3.1.3 in /usr/local/lib/python3.10/dist-packages (from sweetviz) (3.7.1)\n",
            "Requirement already satisfied: tqdm>=4.43.0 in /usr/local/lib/python3.10/dist-packages (from sweetviz) (4.65.0)\n",
            "Requirement already satisfied: scipy>=1.3.2 in /usr/local/lib/python3.10/dist-packages (from sweetviz) (1.10.1)\n",
            "Requirement already satisfied: jinja2>=2.11.1 in /usr/local/lib/python3.10/dist-packages (from sweetviz) (3.1.2)\n",
            "Requirement already satisfied: importlib-resources>=1.2.0 in /usr/local/lib/python3.10/dist-packages (from sweetviz) (5.12.0)\n",
            "Requirement already satisfied: MarkupSafe>=2.0 in /usr/local/lib/python3.10/dist-packages (from jinja2>=2.11.1->sweetviz) (2.1.3)\n",
            "Requirement already satisfied: contourpy>=1.0.1 in /usr/local/lib/python3.10/dist-packages (from matplotlib>=3.1.3->sweetviz) (1.1.0)\n",
            "Requirement already satisfied: cycler>=0.10 in /usr/local/lib/python3.10/dist-packages (from matplotlib>=3.1.3->sweetviz) (0.11.0)\n",
            "Requirement already satisfied: fonttools>=4.22.0 in /usr/local/lib/python3.10/dist-packages (from matplotlib>=3.1.3->sweetviz) (4.40.0)\n",
            "Requirement already satisfied: kiwisolver>=1.0.1 in /usr/local/lib/python3.10/dist-packages (from matplotlib>=3.1.3->sweetviz) (1.4.4)\n",
            "Requirement already satisfied: packaging>=20.0 in /usr/local/lib/python3.10/dist-packages (from matplotlib>=3.1.3->sweetviz) (23.1)\n",
            "Requirement already satisfied: pillow>=6.2.0 in /usr/local/lib/python3.10/dist-packages (from matplotlib>=3.1.3->sweetviz) (8.4.0)\n",
            "Requirement already satisfied: pyparsing>=2.3.1 in /usr/local/lib/python3.10/dist-packages (from matplotlib>=3.1.3->sweetviz) (3.1.0)\n",
            "Requirement already satisfied: python-dateutil>=2.7 in /usr/local/lib/python3.10/dist-packages (from matplotlib>=3.1.3->sweetviz) (2.8.2)\n",
            "Requirement already satisfied: pytz>=2020.1 in /usr/local/lib/python3.10/dist-packages (from pandas!=1.0.0,!=1.0.1,!=1.0.2,>=0.25.3->sweetviz) (2022.7.1)\n",
            "Requirement already satisfied: six>=1.5 in /usr/local/lib/python3.10/dist-packages (from python-dateutil>=2.7->matplotlib>=3.1.3->sweetviz) (1.16.0)\n"
          ]
        }
      ]
    },
    {
      "cell_type": "code",
      "source": [
        "import numpy as np\n",
        "import pandas as pd\n",
        "import matplotlib.pyplot as plt\n",
        "import seaborn as sns\n",
        "import sweetviz as sv"
      ],
      "metadata": {
        "id": "ogi23F20LM1I"
      },
      "execution_count": 2,
      "outputs": []
    },
    {
      "cell_type": "markdown",
      "source": [
        "## 1.2 Collection Of Datasets"
      ],
      "metadata": {
        "id": "1_PkciBKLKKo"
      }
    },
    {
      "cell_type": "code",
      "execution_count": 3,
      "metadata": {
        "colab": {
          "base_uri": "https://localhost:8080/",
          "height": 365
        },
        "id": "v9T2kbeoKGZc",
        "outputId": "43f9e8e3-d9cc-4e88-a641-dbe6e0adbcb3"
      },
      "outputs": [
        {
          "output_type": "display_data",
          "data": {
            "text/plain": [
              "<IPython.core.display.HTML object>"
            ],
            "text/html": [
              "\n",
              "     <input type=\"file\" id=\"files-71f312a2-da67-4484-ad3b-6c72aeb6d520\" name=\"files[]\" multiple disabled\n",
              "        style=\"border:none\" />\n",
              "     <output id=\"result-71f312a2-da67-4484-ad3b-6c72aeb6d520\">\n",
              "      Upload widget is only available when the cell has been executed in the\n",
              "      current browser session. Please rerun this cell to enable.\n",
              "      </output>\n",
              "      <script>// Copyright 2017 Google LLC\n",
              "//\n",
              "// Licensed under the Apache License, Version 2.0 (the \"License\");\n",
              "// you may not use this file except in compliance with the License.\n",
              "// You may obtain a copy of the License at\n",
              "//\n",
              "//      http://www.apache.org/licenses/LICENSE-2.0\n",
              "//\n",
              "// Unless required by applicable law or agreed to in writing, software\n",
              "// distributed under the License is distributed on an \"AS IS\" BASIS,\n",
              "// WITHOUT WARRANTIES OR CONDITIONS OF ANY KIND, either express or implied.\n",
              "// See the License for the specific language governing permissions and\n",
              "// limitations under the License.\n",
              "\n",
              "/**\n",
              " * @fileoverview Helpers for google.colab Python module.\n",
              " */\n",
              "(function(scope) {\n",
              "function span(text, styleAttributes = {}) {\n",
              "  const element = document.createElement('span');\n",
              "  element.textContent = text;\n",
              "  for (const key of Object.keys(styleAttributes)) {\n",
              "    element.style[key] = styleAttributes[key];\n",
              "  }\n",
              "  return element;\n",
              "}\n",
              "\n",
              "// Max number of bytes which will be uploaded at a time.\n",
              "const MAX_PAYLOAD_SIZE = 100 * 1024;\n",
              "\n",
              "function _uploadFiles(inputId, outputId) {\n",
              "  const steps = uploadFilesStep(inputId, outputId);\n",
              "  const outputElement = document.getElementById(outputId);\n",
              "  // Cache steps on the outputElement to make it available for the next call\n",
              "  // to uploadFilesContinue from Python.\n",
              "  outputElement.steps = steps;\n",
              "\n",
              "  return _uploadFilesContinue(outputId);\n",
              "}\n",
              "\n",
              "// This is roughly an async generator (not supported in the browser yet),\n",
              "// where there are multiple asynchronous steps and the Python side is going\n",
              "// to poll for completion of each step.\n",
              "// This uses a Promise to block the python side on completion of each step,\n",
              "// then passes the result of the previous step as the input to the next step.\n",
              "function _uploadFilesContinue(outputId) {\n",
              "  const outputElement = document.getElementById(outputId);\n",
              "  const steps = outputElement.steps;\n",
              "\n",
              "  const next = steps.next(outputElement.lastPromiseValue);\n",
              "  return Promise.resolve(next.value.promise).then((value) => {\n",
              "    // Cache the last promise value to make it available to the next\n",
              "    // step of the generator.\n",
              "    outputElement.lastPromiseValue = value;\n",
              "    return next.value.response;\n",
              "  });\n",
              "}\n",
              "\n",
              "/**\n",
              " * Generator function which is called between each async step of the upload\n",
              " * process.\n",
              " * @param {string} inputId Element ID of the input file picker element.\n",
              " * @param {string} outputId Element ID of the output display.\n",
              " * @return {!Iterable<!Object>} Iterable of next steps.\n",
              " */\n",
              "function* uploadFilesStep(inputId, outputId) {\n",
              "  const inputElement = document.getElementById(inputId);\n",
              "  inputElement.disabled = false;\n",
              "\n",
              "  const outputElement = document.getElementById(outputId);\n",
              "  outputElement.innerHTML = '';\n",
              "\n",
              "  const pickedPromise = new Promise((resolve) => {\n",
              "    inputElement.addEventListener('change', (e) => {\n",
              "      resolve(e.target.files);\n",
              "    });\n",
              "  });\n",
              "\n",
              "  const cancel = document.createElement('button');\n",
              "  inputElement.parentElement.appendChild(cancel);\n",
              "  cancel.textContent = 'Cancel upload';\n",
              "  const cancelPromise = new Promise((resolve) => {\n",
              "    cancel.onclick = () => {\n",
              "      resolve(null);\n",
              "    };\n",
              "  });\n",
              "\n",
              "  // Wait for the user to pick the files.\n",
              "  const files = yield {\n",
              "    promise: Promise.race([pickedPromise, cancelPromise]),\n",
              "    response: {\n",
              "      action: 'starting',\n",
              "    }\n",
              "  };\n",
              "\n",
              "  cancel.remove();\n",
              "\n",
              "  // Disable the input element since further picks are not allowed.\n",
              "  inputElement.disabled = true;\n",
              "\n",
              "  if (!files) {\n",
              "    return {\n",
              "      response: {\n",
              "        action: 'complete',\n",
              "      }\n",
              "    };\n",
              "  }\n",
              "\n",
              "  for (const file of files) {\n",
              "    const li = document.createElement('li');\n",
              "    li.append(span(file.name, {fontWeight: 'bold'}));\n",
              "    li.append(span(\n",
              "        `(${file.type || 'n/a'}) - ${file.size} bytes, ` +\n",
              "        `last modified: ${\n",
              "            file.lastModifiedDate ? file.lastModifiedDate.toLocaleDateString() :\n",
              "                                    'n/a'} - `));\n",
              "    const percent = span('0% done');\n",
              "    li.appendChild(percent);\n",
              "\n",
              "    outputElement.appendChild(li);\n",
              "\n",
              "    const fileDataPromise = new Promise((resolve) => {\n",
              "      const reader = new FileReader();\n",
              "      reader.onload = (e) => {\n",
              "        resolve(e.target.result);\n",
              "      };\n",
              "      reader.readAsArrayBuffer(file);\n",
              "    });\n",
              "    // Wait for the data to be ready.\n",
              "    let fileData = yield {\n",
              "      promise: fileDataPromise,\n",
              "      response: {\n",
              "        action: 'continue',\n",
              "      }\n",
              "    };\n",
              "\n",
              "    // Use a chunked sending to avoid message size limits. See b/62115660.\n",
              "    let position = 0;\n",
              "    do {\n",
              "      const length = Math.min(fileData.byteLength - position, MAX_PAYLOAD_SIZE);\n",
              "      const chunk = new Uint8Array(fileData, position, length);\n",
              "      position += length;\n",
              "\n",
              "      const base64 = btoa(String.fromCharCode.apply(null, chunk));\n",
              "      yield {\n",
              "        response: {\n",
              "          action: 'append',\n",
              "          file: file.name,\n",
              "          data: base64,\n",
              "        },\n",
              "      };\n",
              "\n",
              "      let percentDone = fileData.byteLength === 0 ?\n",
              "          100 :\n",
              "          Math.round((position / fileData.byteLength) * 100);\n",
              "      percent.textContent = `${percentDone}% done`;\n",
              "\n",
              "    } while (position < fileData.byteLength);\n",
              "  }\n",
              "\n",
              "  // All done.\n",
              "  yield {\n",
              "    response: {\n",
              "      action: 'complete',\n",
              "    }\n",
              "  };\n",
              "}\n",
              "\n",
              "scope.google = scope.google || {};\n",
              "scope.google.colab = scope.google.colab || {};\n",
              "scope.google.colab._files = {\n",
              "  _uploadFiles,\n",
              "  _uploadFilesContinue,\n",
              "};\n",
              "})(self);\n",
              "</script> "
            ]
          },
          "metadata": {}
        },
        {
          "output_type": "error",
          "ename": "KeyboardInterrupt",
          "evalue": "ignored",
          "traceback": [
            "\u001b[0;31m---------------------------------------------------------------------------\u001b[0m",
            "\u001b[0;31mKeyboardInterrupt\u001b[0m                         Traceback (most recent call last)",
            "\u001b[0;32m<ipython-input-3-a492513d704a>\u001b[0m in \u001b[0;36m<cell line: 2>\u001b[0;34m()\u001b[0m\n\u001b[1;32m      1\u001b[0m \u001b[0;32mfrom\u001b[0m \u001b[0mgoogle\u001b[0m\u001b[0;34m.\u001b[0m\u001b[0mcolab\u001b[0m \u001b[0;32mimport\u001b[0m \u001b[0mfiles\u001b[0m\u001b[0;34m\u001b[0m\u001b[0;34m\u001b[0m\u001b[0m\n\u001b[0;32m----> 2\u001b[0;31m \u001b[0muploaded_2016\u001b[0m \u001b[0;34m=\u001b[0m \u001b[0mfiles\u001b[0m\u001b[0;34m.\u001b[0m\u001b[0mupload\u001b[0m\u001b[0;34m(\u001b[0m\u001b[0;34m)\u001b[0m\u001b[0;34m\u001b[0m\u001b[0;34m\u001b[0m\u001b[0m\n\u001b[0m",
            "\u001b[0;32m/usr/local/lib/python3.10/dist-packages/google/colab/files.py\u001b[0m in \u001b[0;36mupload\u001b[0;34m()\u001b[0m\n\u001b[1;32m     67\u001b[0m   \"\"\"\n\u001b[1;32m     68\u001b[0m \u001b[0;34m\u001b[0m\u001b[0m\n\u001b[0;32m---> 69\u001b[0;31m   \u001b[0muploaded_files\u001b[0m \u001b[0;34m=\u001b[0m \u001b[0m_upload_files\u001b[0m\u001b[0;34m(\u001b[0m\u001b[0mmultiple\u001b[0m\u001b[0;34m=\u001b[0m\u001b[0;32mTrue\u001b[0m\u001b[0;34m)\u001b[0m\u001b[0;34m\u001b[0m\u001b[0;34m\u001b[0m\u001b[0m\n\u001b[0m\u001b[1;32m     70\u001b[0m   \u001b[0;31m# Mapping from original filename to filename as saved locally.\u001b[0m\u001b[0;34m\u001b[0m\u001b[0;34m\u001b[0m\u001b[0m\n\u001b[1;32m     71\u001b[0m   \u001b[0mlocal_filenames\u001b[0m \u001b[0;34m=\u001b[0m \u001b[0mdict\u001b[0m\u001b[0;34m(\u001b[0m\u001b[0;34m)\u001b[0m\u001b[0;34m\u001b[0m\u001b[0;34m\u001b[0m\u001b[0m\n",
            "\u001b[0;32m/usr/local/lib/python3.10/dist-packages/google/colab/files.py\u001b[0m in \u001b[0;36m_upload_files\u001b[0;34m(multiple)\u001b[0m\n\u001b[1;32m    159\u001b[0m \u001b[0;34m\u001b[0m\u001b[0m\n\u001b[1;32m    160\u001b[0m   \u001b[0;32mwhile\u001b[0m \u001b[0mresult\u001b[0m\u001b[0;34m[\u001b[0m\u001b[0;34m'action'\u001b[0m\u001b[0;34m]\u001b[0m \u001b[0;34m!=\u001b[0m \u001b[0;34m'complete'\u001b[0m\u001b[0;34m:\u001b[0m\u001b[0;34m\u001b[0m\u001b[0;34m\u001b[0m\u001b[0m\n\u001b[0;32m--> 161\u001b[0;31m     result = _output.eval_js(\n\u001b[0m\u001b[1;32m    162\u001b[0m         'google.colab._files._uploadFilesContinue(\"{output_id}\")'.format(\n\u001b[1;32m    163\u001b[0m             \u001b[0moutput_id\u001b[0m\u001b[0;34m=\u001b[0m\u001b[0moutput_id\u001b[0m\u001b[0;34m\u001b[0m\u001b[0;34m\u001b[0m\u001b[0m\n",
            "\u001b[0;32m/usr/local/lib/python3.10/dist-packages/google/colab/output/_js.py\u001b[0m in \u001b[0;36meval_js\u001b[0;34m(script, ignore_result, timeout_sec)\u001b[0m\n\u001b[1;32m     38\u001b[0m   \u001b[0;32mif\u001b[0m \u001b[0mignore_result\u001b[0m\u001b[0;34m:\u001b[0m\u001b[0;34m\u001b[0m\u001b[0;34m\u001b[0m\u001b[0m\n\u001b[1;32m     39\u001b[0m     \u001b[0;32mreturn\u001b[0m\u001b[0;34m\u001b[0m\u001b[0;34m\u001b[0m\u001b[0m\n\u001b[0;32m---> 40\u001b[0;31m   \u001b[0;32mreturn\u001b[0m \u001b[0m_message\u001b[0m\u001b[0;34m.\u001b[0m\u001b[0mread_reply_from_input\u001b[0m\u001b[0;34m(\u001b[0m\u001b[0mrequest_id\u001b[0m\u001b[0;34m,\u001b[0m \u001b[0mtimeout_sec\u001b[0m\u001b[0;34m)\u001b[0m\u001b[0;34m\u001b[0m\u001b[0;34m\u001b[0m\u001b[0m\n\u001b[0m\u001b[1;32m     41\u001b[0m \u001b[0;34m\u001b[0m\u001b[0m\n\u001b[1;32m     42\u001b[0m \u001b[0;34m\u001b[0m\u001b[0m\n",
            "\u001b[0;32m/usr/local/lib/python3.10/dist-packages/google/colab/_message.py\u001b[0m in \u001b[0;36mread_reply_from_input\u001b[0;34m(message_id, timeout_sec)\u001b[0m\n\u001b[1;32m     94\u001b[0m     \u001b[0mreply\u001b[0m \u001b[0;34m=\u001b[0m \u001b[0m_read_next_input_message\u001b[0m\u001b[0;34m(\u001b[0m\u001b[0;34m)\u001b[0m\u001b[0;34m\u001b[0m\u001b[0;34m\u001b[0m\u001b[0m\n\u001b[1;32m     95\u001b[0m     \u001b[0;32mif\u001b[0m \u001b[0mreply\u001b[0m \u001b[0;34m==\u001b[0m \u001b[0m_NOT_READY\u001b[0m \u001b[0;32mor\u001b[0m \u001b[0;32mnot\u001b[0m \u001b[0misinstance\u001b[0m\u001b[0;34m(\u001b[0m\u001b[0mreply\u001b[0m\u001b[0;34m,\u001b[0m \u001b[0mdict\u001b[0m\u001b[0;34m)\u001b[0m\u001b[0;34m:\u001b[0m\u001b[0;34m\u001b[0m\u001b[0;34m\u001b[0m\u001b[0m\n\u001b[0;32m---> 96\u001b[0;31m       \u001b[0mtime\u001b[0m\u001b[0;34m.\u001b[0m\u001b[0msleep\u001b[0m\u001b[0;34m(\u001b[0m\u001b[0;36m0.025\u001b[0m\u001b[0;34m)\u001b[0m\u001b[0;34m\u001b[0m\u001b[0;34m\u001b[0m\u001b[0m\n\u001b[0m\u001b[1;32m     97\u001b[0m       \u001b[0;32mcontinue\u001b[0m\u001b[0;34m\u001b[0m\u001b[0;34m\u001b[0m\u001b[0m\n\u001b[1;32m     98\u001b[0m     if (\n",
            "\u001b[0;31mKeyboardInterrupt\u001b[0m: "
          ]
        }
      ],
      "source": [
        "from google.colab import files\n",
        "uploaded_2016 = files.upload()"
      ]
    },
    {
      "cell_type": "code",
      "source": [
        "import io\n",
        "df2016 = pd.read_csv(io.BytesIO(uploaded_2016['ITA Data CY 2016.csv']))\n",
        "# Dataset2016 is now stored in a Pandas Dataframe"
      ],
      "metadata": {
        "id": "Ne9Prq5EKof0"
      },
      "execution_count": 5,
      "outputs": []
    },
    {
      "cell_type": "code",
      "source": [
        "uploaded_2017 = files.upload()"
      ],
      "metadata": {
        "colab": {
          "base_uri": "https://localhost:8080/",
          "height": 71
        },
        "id": "4hjLRngHOa1H",
        "outputId": "047a5697-4388-46f3-dc01-d5d5453dea6d"
      },
      "execution_count": 6,
      "outputs": [
        {
          "output_type": "display_data",
          "data": {
            "text/plain": [
              "<IPython.core.display.HTML object>"
            ],
            "text/html": [
              "\n",
              "     <input type=\"file\" id=\"files-02a39617-90d8-4f31-a4e6-d2c87ad93f1c\" name=\"files[]\" multiple disabled\n",
              "        style=\"border:none\" />\n",
              "     <output id=\"result-02a39617-90d8-4f31-a4e6-d2c87ad93f1c\">\n",
              "      Upload widget is only available when the cell has been executed in the\n",
              "      current browser session. Please rerun this cell to enable.\n",
              "      </output>\n",
              "      <script>// Copyright 2017 Google LLC\n",
              "//\n",
              "// Licensed under the Apache License, Version 2.0 (the \"License\");\n",
              "// you may not use this file except in compliance with the License.\n",
              "// You may obtain a copy of the License at\n",
              "//\n",
              "//      http://www.apache.org/licenses/LICENSE-2.0\n",
              "//\n",
              "// Unless required by applicable law or agreed to in writing, software\n",
              "// distributed under the License is distributed on an \"AS IS\" BASIS,\n",
              "// WITHOUT WARRANTIES OR CONDITIONS OF ANY KIND, either express or implied.\n",
              "// See the License for the specific language governing permissions and\n",
              "// limitations under the License.\n",
              "\n",
              "/**\n",
              " * @fileoverview Helpers for google.colab Python module.\n",
              " */\n",
              "(function(scope) {\n",
              "function span(text, styleAttributes = {}) {\n",
              "  const element = document.createElement('span');\n",
              "  element.textContent = text;\n",
              "  for (const key of Object.keys(styleAttributes)) {\n",
              "    element.style[key] = styleAttributes[key];\n",
              "  }\n",
              "  return element;\n",
              "}\n",
              "\n",
              "// Max number of bytes which will be uploaded at a time.\n",
              "const MAX_PAYLOAD_SIZE = 100 * 1024;\n",
              "\n",
              "function _uploadFiles(inputId, outputId) {\n",
              "  const steps = uploadFilesStep(inputId, outputId);\n",
              "  const outputElement = document.getElementById(outputId);\n",
              "  // Cache steps on the outputElement to make it available for the next call\n",
              "  // to uploadFilesContinue from Python.\n",
              "  outputElement.steps = steps;\n",
              "\n",
              "  return _uploadFilesContinue(outputId);\n",
              "}\n",
              "\n",
              "// This is roughly an async generator (not supported in the browser yet),\n",
              "// where there are multiple asynchronous steps and the Python side is going\n",
              "// to poll for completion of each step.\n",
              "// This uses a Promise to block the python side on completion of each step,\n",
              "// then passes the result of the previous step as the input to the next step.\n",
              "function _uploadFilesContinue(outputId) {\n",
              "  const outputElement = document.getElementById(outputId);\n",
              "  const steps = outputElement.steps;\n",
              "\n",
              "  const next = steps.next(outputElement.lastPromiseValue);\n",
              "  return Promise.resolve(next.value.promise).then((value) => {\n",
              "    // Cache the last promise value to make it available to the next\n",
              "    // step of the generator.\n",
              "    outputElement.lastPromiseValue = value;\n",
              "    return next.value.response;\n",
              "  });\n",
              "}\n",
              "\n",
              "/**\n",
              " * Generator function which is called between each async step of the upload\n",
              " * process.\n",
              " * @param {string} inputId Element ID of the input file picker element.\n",
              " * @param {string} outputId Element ID of the output display.\n",
              " * @return {!Iterable<!Object>} Iterable of next steps.\n",
              " */\n",
              "function* uploadFilesStep(inputId, outputId) {\n",
              "  const inputElement = document.getElementById(inputId);\n",
              "  inputElement.disabled = false;\n",
              "\n",
              "  const outputElement = document.getElementById(outputId);\n",
              "  outputElement.innerHTML = '';\n",
              "\n",
              "  const pickedPromise = new Promise((resolve) => {\n",
              "    inputElement.addEventListener('change', (e) => {\n",
              "      resolve(e.target.files);\n",
              "    });\n",
              "  });\n",
              "\n",
              "  const cancel = document.createElement('button');\n",
              "  inputElement.parentElement.appendChild(cancel);\n",
              "  cancel.textContent = 'Cancel upload';\n",
              "  const cancelPromise = new Promise((resolve) => {\n",
              "    cancel.onclick = () => {\n",
              "      resolve(null);\n",
              "    };\n",
              "  });\n",
              "\n",
              "  // Wait for the user to pick the files.\n",
              "  const files = yield {\n",
              "    promise: Promise.race([pickedPromise, cancelPromise]),\n",
              "    response: {\n",
              "      action: 'starting',\n",
              "    }\n",
              "  };\n",
              "\n",
              "  cancel.remove();\n",
              "\n",
              "  // Disable the input element since further picks are not allowed.\n",
              "  inputElement.disabled = true;\n",
              "\n",
              "  if (!files) {\n",
              "    return {\n",
              "      response: {\n",
              "        action: 'complete',\n",
              "      }\n",
              "    };\n",
              "  }\n",
              "\n",
              "  for (const file of files) {\n",
              "    const li = document.createElement('li');\n",
              "    li.append(span(file.name, {fontWeight: 'bold'}));\n",
              "    li.append(span(\n",
              "        `(${file.type || 'n/a'}) - ${file.size} bytes, ` +\n",
              "        `last modified: ${\n",
              "            file.lastModifiedDate ? file.lastModifiedDate.toLocaleDateString() :\n",
              "                                    'n/a'} - `));\n",
              "    const percent = span('0% done');\n",
              "    li.appendChild(percent);\n",
              "\n",
              "    outputElement.appendChild(li);\n",
              "\n",
              "    const fileDataPromise = new Promise((resolve) => {\n",
              "      const reader = new FileReader();\n",
              "      reader.onload = (e) => {\n",
              "        resolve(e.target.result);\n",
              "      };\n",
              "      reader.readAsArrayBuffer(file);\n",
              "    });\n",
              "    // Wait for the data to be ready.\n",
              "    let fileData = yield {\n",
              "      promise: fileDataPromise,\n",
              "      response: {\n",
              "        action: 'continue',\n",
              "      }\n",
              "    };\n",
              "\n",
              "    // Use a chunked sending to avoid message size limits. See b/62115660.\n",
              "    let position = 0;\n",
              "    do {\n",
              "      const length = Math.min(fileData.byteLength - position, MAX_PAYLOAD_SIZE);\n",
              "      const chunk = new Uint8Array(fileData, position, length);\n",
              "      position += length;\n",
              "\n",
              "      const base64 = btoa(String.fromCharCode.apply(null, chunk));\n",
              "      yield {\n",
              "        response: {\n",
              "          action: 'append',\n",
              "          file: file.name,\n",
              "          data: base64,\n",
              "        },\n",
              "      };\n",
              "\n",
              "      let percentDone = fileData.byteLength === 0 ?\n",
              "          100 :\n",
              "          Math.round((position / fileData.byteLength) * 100);\n",
              "      percent.textContent = `${percentDone}% done`;\n",
              "\n",
              "    } while (position < fileData.byteLength);\n",
              "  }\n",
              "\n",
              "  // All done.\n",
              "  yield {\n",
              "    response: {\n",
              "      action: 'complete',\n",
              "    }\n",
              "  };\n",
              "}\n",
              "\n",
              "scope.google = scope.google || {};\n",
              "scope.google.colab = scope.google.colab || {};\n",
              "scope.google.colab._files = {\n",
              "  _uploadFiles,\n",
              "  _uploadFilesContinue,\n",
              "};\n",
              "})(self);\n",
              "</script> "
            ]
          },
          "metadata": {}
        },
        {
          "output_type": "stream",
          "name": "stdout",
          "text": [
            "Saving ITA Data CY 2017.csv to ITA Data CY 2017.csv\n"
          ]
        }
      ]
    },
    {
      "cell_type": "code",
      "source": [
        "df2017 = pd.read_csv(io.BytesIO(uploaded_2017['ITA Data CY 2017.csv']))\n",
        "# Dataset2017 is now stored in a Pandas Dataframe"
      ],
      "metadata": {
        "id": "_w3--WA8OavG"
      },
      "execution_count": 7,
      "outputs": []
    },
    {
      "cell_type": "code",
      "source": [
        "uploaded_2018 = files.upload()"
      ],
      "metadata": {
        "colab": {
          "base_uri": "https://localhost:8080/",
          "height": 71
        },
        "id": "UERRu3KCOaq2",
        "outputId": "3cf3aba5-53c8-4d22-c474-b8e2aa8eabf3"
      },
      "execution_count": 8,
      "outputs": [
        {
          "output_type": "display_data",
          "data": {
            "text/plain": [
              "<IPython.core.display.HTML object>"
            ],
            "text/html": [
              "\n",
              "     <input type=\"file\" id=\"files-9b852946-3a94-4982-b3ce-d4ce20038a1a\" name=\"files[]\" multiple disabled\n",
              "        style=\"border:none\" />\n",
              "     <output id=\"result-9b852946-3a94-4982-b3ce-d4ce20038a1a\">\n",
              "      Upload widget is only available when the cell has been executed in the\n",
              "      current browser session. Please rerun this cell to enable.\n",
              "      </output>\n",
              "      <script>// Copyright 2017 Google LLC\n",
              "//\n",
              "// Licensed under the Apache License, Version 2.0 (the \"License\");\n",
              "// you may not use this file except in compliance with the License.\n",
              "// You may obtain a copy of the License at\n",
              "//\n",
              "//      http://www.apache.org/licenses/LICENSE-2.0\n",
              "//\n",
              "// Unless required by applicable law or agreed to in writing, software\n",
              "// distributed under the License is distributed on an \"AS IS\" BASIS,\n",
              "// WITHOUT WARRANTIES OR CONDITIONS OF ANY KIND, either express or implied.\n",
              "// See the License for the specific language governing permissions and\n",
              "// limitations under the License.\n",
              "\n",
              "/**\n",
              " * @fileoverview Helpers for google.colab Python module.\n",
              " */\n",
              "(function(scope) {\n",
              "function span(text, styleAttributes = {}) {\n",
              "  const element = document.createElement('span');\n",
              "  element.textContent = text;\n",
              "  for (const key of Object.keys(styleAttributes)) {\n",
              "    element.style[key] = styleAttributes[key];\n",
              "  }\n",
              "  return element;\n",
              "}\n",
              "\n",
              "// Max number of bytes which will be uploaded at a time.\n",
              "const MAX_PAYLOAD_SIZE = 100 * 1024;\n",
              "\n",
              "function _uploadFiles(inputId, outputId) {\n",
              "  const steps = uploadFilesStep(inputId, outputId);\n",
              "  const outputElement = document.getElementById(outputId);\n",
              "  // Cache steps on the outputElement to make it available for the next call\n",
              "  // to uploadFilesContinue from Python.\n",
              "  outputElement.steps = steps;\n",
              "\n",
              "  return _uploadFilesContinue(outputId);\n",
              "}\n",
              "\n",
              "// This is roughly an async generator (not supported in the browser yet),\n",
              "// where there are multiple asynchronous steps and the Python side is going\n",
              "// to poll for completion of each step.\n",
              "// This uses a Promise to block the python side on completion of each step,\n",
              "// then passes the result of the previous step as the input to the next step.\n",
              "function _uploadFilesContinue(outputId) {\n",
              "  const outputElement = document.getElementById(outputId);\n",
              "  const steps = outputElement.steps;\n",
              "\n",
              "  const next = steps.next(outputElement.lastPromiseValue);\n",
              "  return Promise.resolve(next.value.promise).then((value) => {\n",
              "    // Cache the last promise value to make it available to the next\n",
              "    // step of the generator.\n",
              "    outputElement.lastPromiseValue = value;\n",
              "    return next.value.response;\n",
              "  });\n",
              "}\n",
              "\n",
              "/**\n",
              " * Generator function which is called between each async step of the upload\n",
              " * process.\n",
              " * @param {string} inputId Element ID of the input file picker element.\n",
              " * @param {string} outputId Element ID of the output display.\n",
              " * @return {!Iterable<!Object>} Iterable of next steps.\n",
              " */\n",
              "function* uploadFilesStep(inputId, outputId) {\n",
              "  const inputElement = document.getElementById(inputId);\n",
              "  inputElement.disabled = false;\n",
              "\n",
              "  const outputElement = document.getElementById(outputId);\n",
              "  outputElement.innerHTML = '';\n",
              "\n",
              "  const pickedPromise = new Promise((resolve) => {\n",
              "    inputElement.addEventListener('change', (e) => {\n",
              "      resolve(e.target.files);\n",
              "    });\n",
              "  });\n",
              "\n",
              "  const cancel = document.createElement('button');\n",
              "  inputElement.parentElement.appendChild(cancel);\n",
              "  cancel.textContent = 'Cancel upload';\n",
              "  const cancelPromise = new Promise((resolve) => {\n",
              "    cancel.onclick = () => {\n",
              "      resolve(null);\n",
              "    };\n",
              "  });\n",
              "\n",
              "  // Wait for the user to pick the files.\n",
              "  const files = yield {\n",
              "    promise: Promise.race([pickedPromise, cancelPromise]),\n",
              "    response: {\n",
              "      action: 'starting',\n",
              "    }\n",
              "  };\n",
              "\n",
              "  cancel.remove();\n",
              "\n",
              "  // Disable the input element since further picks are not allowed.\n",
              "  inputElement.disabled = true;\n",
              "\n",
              "  if (!files) {\n",
              "    return {\n",
              "      response: {\n",
              "        action: 'complete',\n",
              "      }\n",
              "    };\n",
              "  }\n",
              "\n",
              "  for (const file of files) {\n",
              "    const li = document.createElement('li');\n",
              "    li.append(span(file.name, {fontWeight: 'bold'}));\n",
              "    li.append(span(\n",
              "        `(${file.type || 'n/a'}) - ${file.size} bytes, ` +\n",
              "        `last modified: ${\n",
              "            file.lastModifiedDate ? file.lastModifiedDate.toLocaleDateString() :\n",
              "                                    'n/a'} - `));\n",
              "    const percent = span('0% done');\n",
              "    li.appendChild(percent);\n",
              "\n",
              "    outputElement.appendChild(li);\n",
              "\n",
              "    const fileDataPromise = new Promise((resolve) => {\n",
              "      const reader = new FileReader();\n",
              "      reader.onload = (e) => {\n",
              "        resolve(e.target.result);\n",
              "      };\n",
              "      reader.readAsArrayBuffer(file);\n",
              "    });\n",
              "    // Wait for the data to be ready.\n",
              "    let fileData = yield {\n",
              "      promise: fileDataPromise,\n",
              "      response: {\n",
              "        action: 'continue',\n",
              "      }\n",
              "    };\n",
              "\n",
              "    // Use a chunked sending to avoid message size limits. See b/62115660.\n",
              "    let position = 0;\n",
              "    do {\n",
              "      const length = Math.min(fileData.byteLength - position, MAX_PAYLOAD_SIZE);\n",
              "      const chunk = new Uint8Array(fileData, position, length);\n",
              "      position += length;\n",
              "\n",
              "      const base64 = btoa(String.fromCharCode.apply(null, chunk));\n",
              "      yield {\n",
              "        response: {\n",
              "          action: 'append',\n",
              "          file: file.name,\n",
              "          data: base64,\n",
              "        },\n",
              "      };\n",
              "\n",
              "      let percentDone = fileData.byteLength === 0 ?\n",
              "          100 :\n",
              "          Math.round((position / fileData.byteLength) * 100);\n",
              "      percent.textContent = `${percentDone}% done`;\n",
              "\n",
              "    } while (position < fileData.byteLength);\n",
              "  }\n",
              "\n",
              "  // All done.\n",
              "  yield {\n",
              "    response: {\n",
              "      action: 'complete',\n",
              "    }\n",
              "  };\n",
              "}\n",
              "\n",
              "scope.google = scope.google || {};\n",
              "scope.google.colab = scope.google.colab || {};\n",
              "scope.google.colab._files = {\n",
              "  _uploadFiles,\n",
              "  _uploadFilesContinue,\n",
              "};\n",
              "})(self);\n",
              "</script> "
            ]
          },
          "metadata": {}
        },
        {
          "output_type": "stream",
          "name": "stdout",
          "text": [
            "Saving ITA Data CY 2018.csv to ITA Data CY 2018.csv\n"
          ]
        }
      ]
    },
    {
      "cell_type": "code",
      "source": [
        "df2018 = pd.read_csv(io.BytesIO(uploaded_2018['ITA Data CY 2018.csv']),encoding='cp1252')\n",
        "# Dataset2018 is now stored in a Pandas Dataframe"
      ],
      "metadata": {
        "id": "l_6McLTUOaju"
      },
      "execution_count": 11,
      "outputs": []
    },
    {
      "cell_type": "code",
      "source": [
        "uploaded_2019 = files.upload()"
      ],
      "metadata": {
        "colab": {
          "base_uri": "https://localhost:8080/",
          "height": 71
        },
        "id": "qxCzst9fOaa-",
        "outputId": "d71f3b48-6ede-4f9e-8a3d-37bf0be1b701"
      },
      "execution_count": 12,
      "outputs": [
        {
          "output_type": "display_data",
          "data": {
            "text/plain": [
              "<IPython.core.display.HTML object>"
            ],
            "text/html": [
              "\n",
              "     <input type=\"file\" id=\"files-a51310cf-f4b4-4398-8b42-079a8547d1d9\" name=\"files[]\" multiple disabled\n",
              "        style=\"border:none\" />\n",
              "     <output id=\"result-a51310cf-f4b4-4398-8b42-079a8547d1d9\">\n",
              "      Upload widget is only available when the cell has been executed in the\n",
              "      current browser session. Please rerun this cell to enable.\n",
              "      </output>\n",
              "      <script>// Copyright 2017 Google LLC\n",
              "//\n",
              "// Licensed under the Apache License, Version 2.0 (the \"License\");\n",
              "// you may not use this file except in compliance with the License.\n",
              "// You may obtain a copy of the License at\n",
              "//\n",
              "//      http://www.apache.org/licenses/LICENSE-2.0\n",
              "//\n",
              "// Unless required by applicable law or agreed to in writing, software\n",
              "// distributed under the License is distributed on an \"AS IS\" BASIS,\n",
              "// WITHOUT WARRANTIES OR CONDITIONS OF ANY KIND, either express or implied.\n",
              "// See the License for the specific language governing permissions and\n",
              "// limitations under the License.\n",
              "\n",
              "/**\n",
              " * @fileoverview Helpers for google.colab Python module.\n",
              " */\n",
              "(function(scope) {\n",
              "function span(text, styleAttributes = {}) {\n",
              "  const element = document.createElement('span');\n",
              "  element.textContent = text;\n",
              "  for (const key of Object.keys(styleAttributes)) {\n",
              "    element.style[key] = styleAttributes[key];\n",
              "  }\n",
              "  return element;\n",
              "}\n",
              "\n",
              "// Max number of bytes which will be uploaded at a time.\n",
              "const MAX_PAYLOAD_SIZE = 100 * 1024;\n",
              "\n",
              "function _uploadFiles(inputId, outputId) {\n",
              "  const steps = uploadFilesStep(inputId, outputId);\n",
              "  const outputElement = document.getElementById(outputId);\n",
              "  // Cache steps on the outputElement to make it available for the next call\n",
              "  // to uploadFilesContinue from Python.\n",
              "  outputElement.steps = steps;\n",
              "\n",
              "  return _uploadFilesContinue(outputId);\n",
              "}\n",
              "\n",
              "// This is roughly an async generator (not supported in the browser yet),\n",
              "// where there are multiple asynchronous steps and the Python side is going\n",
              "// to poll for completion of each step.\n",
              "// This uses a Promise to block the python side on completion of each step,\n",
              "// then passes the result of the previous step as the input to the next step.\n",
              "function _uploadFilesContinue(outputId) {\n",
              "  const outputElement = document.getElementById(outputId);\n",
              "  const steps = outputElement.steps;\n",
              "\n",
              "  const next = steps.next(outputElement.lastPromiseValue);\n",
              "  return Promise.resolve(next.value.promise).then((value) => {\n",
              "    // Cache the last promise value to make it available to the next\n",
              "    // step of the generator.\n",
              "    outputElement.lastPromiseValue = value;\n",
              "    return next.value.response;\n",
              "  });\n",
              "}\n",
              "\n",
              "/**\n",
              " * Generator function which is called between each async step of the upload\n",
              " * process.\n",
              " * @param {string} inputId Element ID of the input file picker element.\n",
              " * @param {string} outputId Element ID of the output display.\n",
              " * @return {!Iterable<!Object>} Iterable of next steps.\n",
              " */\n",
              "function* uploadFilesStep(inputId, outputId) {\n",
              "  const inputElement = document.getElementById(inputId);\n",
              "  inputElement.disabled = false;\n",
              "\n",
              "  const outputElement = document.getElementById(outputId);\n",
              "  outputElement.innerHTML = '';\n",
              "\n",
              "  const pickedPromise = new Promise((resolve) => {\n",
              "    inputElement.addEventListener('change', (e) => {\n",
              "      resolve(e.target.files);\n",
              "    });\n",
              "  });\n",
              "\n",
              "  const cancel = document.createElement('button');\n",
              "  inputElement.parentElement.appendChild(cancel);\n",
              "  cancel.textContent = 'Cancel upload';\n",
              "  const cancelPromise = new Promise((resolve) => {\n",
              "    cancel.onclick = () => {\n",
              "      resolve(null);\n",
              "    };\n",
              "  });\n",
              "\n",
              "  // Wait for the user to pick the files.\n",
              "  const files = yield {\n",
              "    promise: Promise.race([pickedPromise, cancelPromise]),\n",
              "    response: {\n",
              "      action: 'starting',\n",
              "    }\n",
              "  };\n",
              "\n",
              "  cancel.remove();\n",
              "\n",
              "  // Disable the input element since further picks are not allowed.\n",
              "  inputElement.disabled = true;\n",
              "\n",
              "  if (!files) {\n",
              "    return {\n",
              "      response: {\n",
              "        action: 'complete',\n",
              "      }\n",
              "    };\n",
              "  }\n",
              "\n",
              "  for (const file of files) {\n",
              "    const li = document.createElement('li');\n",
              "    li.append(span(file.name, {fontWeight: 'bold'}));\n",
              "    li.append(span(\n",
              "        `(${file.type || 'n/a'}) - ${file.size} bytes, ` +\n",
              "        `last modified: ${\n",
              "            file.lastModifiedDate ? file.lastModifiedDate.toLocaleDateString() :\n",
              "                                    'n/a'} - `));\n",
              "    const percent = span('0% done');\n",
              "    li.appendChild(percent);\n",
              "\n",
              "    outputElement.appendChild(li);\n",
              "\n",
              "    const fileDataPromise = new Promise((resolve) => {\n",
              "      const reader = new FileReader();\n",
              "      reader.onload = (e) => {\n",
              "        resolve(e.target.result);\n",
              "      };\n",
              "      reader.readAsArrayBuffer(file);\n",
              "    });\n",
              "    // Wait for the data to be ready.\n",
              "    let fileData = yield {\n",
              "      promise: fileDataPromise,\n",
              "      response: {\n",
              "        action: 'continue',\n",
              "      }\n",
              "    };\n",
              "\n",
              "    // Use a chunked sending to avoid message size limits. See b/62115660.\n",
              "    let position = 0;\n",
              "    do {\n",
              "      const length = Math.min(fileData.byteLength - position, MAX_PAYLOAD_SIZE);\n",
              "      const chunk = new Uint8Array(fileData, position, length);\n",
              "      position += length;\n",
              "\n",
              "      const base64 = btoa(String.fromCharCode.apply(null, chunk));\n",
              "      yield {\n",
              "        response: {\n",
              "          action: 'append',\n",
              "          file: file.name,\n",
              "          data: base64,\n",
              "        },\n",
              "      };\n",
              "\n",
              "      let percentDone = fileData.byteLength === 0 ?\n",
              "          100 :\n",
              "          Math.round((position / fileData.byteLength) * 100);\n",
              "      percent.textContent = `${percentDone}% done`;\n",
              "\n",
              "    } while (position < fileData.byteLength);\n",
              "  }\n",
              "\n",
              "  // All done.\n",
              "  yield {\n",
              "    response: {\n",
              "      action: 'complete',\n",
              "    }\n",
              "  };\n",
              "}\n",
              "\n",
              "scope.google = scope.google || {};\n",
              "scope.google.colab = scope.google.colab || {};\n",
              "scope.google.colab._files = {\n",
              "  _uploadFiles,\n",
              "  _uploadFilesContinue,\n",
              "};\n",
              "})(self);\n",
              "</script> "
            ]
          },
          "metadata": {}
        },
        {
          "output_type": "stream",
          "name": "stdout",
          "text": [
            "Saving ITA Data CY 2019.csv to ITA Data CY 2019.csv\n"
          ]
        }
      ]
    },
    {
      "cell_type": "code",
      "source": [
        "df2019 = pd.read_csv(io.BytesIO(uploaded_2019['ITA Data CY 2019.csv']),low_memory=False)\n",
        "# Dataset2019 is now stored in a Pandas Dataframe"
      ],
      "metadata": {
        "id": "jnYwTTzbOaTP"
      },
      "execution_count": 14,
      "outputs": []
    },
    {
      "cell_type": "code",
      "source": [
        "uploaded_2020 = files.upload()"
      ],
      "metadata": {
        "colab": {
          "base_uri": "https://localhost:8080/",
          "height": 71
        },
        "id": "kaFilrTDPhlu",
        "outputId": "114b258d-3c56-47bd-80d9-ee95db083055"
      },
      "execution_count": 15,
      "outputs": [
        {
          "output_type": "display_data",
          "data": {
            "text/plain": [
              "<IPython.core.display.HTML object>"
            ],
            "text/html": [
              "\n",
              "     <input type=\"file\" id=\"files-c488b7b6-e582-4f94-82f3-925d0aa6e99b\" name=\"files[]\" multiple disabled\n",
              "        style=\"border:none\" />\n",
              "     <output id=\"result-c488b7b6-e582-4f94-82f3-925d0aa6e99b\">\n",
              "      Upload widget is only available when the cell has been executed in the\n",
              "      current browser session. Please rerun this cell to enable.\n",
              "      </output>\n",
              "      <script>// Copyright 2017 Google LLC\n",
              "//\n",
              "// Licensed under the Apache License, Version 2.0 (the \"License\");\n",
              "// you may not use this file except in compliance with the License.\n",
              "// You may obtain a copy of the License at\n",
              "//\n",
              "//      http://www.apache.org/licenses/LICENSE-2.0\n",
              "//\n",
              "// Unless required by applicable law or agreed to in writing, software\n",
              "// distributed under the License is distributed on an \"AS IS\" BASIS,\n",
              "// WITHOUT WARRANTIES OR CONDITIONS OF ANY KIND, either express or implied.\n",
              "// See the License for the specific language governing permissions and\n",
              "// limitations under the License.\n",
              "\n",
              "/**\n",
              " * @fileoverview Helpers for google.colab Python module.\n",
              " */\n",
              "(function(scope) {\n",
              "function span(text, styleAttributes = {}) {\n",
              "  const element = document.createElement('span');\n",
              "  element.textContent = text;\n",
              "  for (const key of Object.keys(styleAttributes)) {\n",
              "    element.style[key] = styleAttributes[key];\n",
              "  }\n",
              "  return element;\n",
              "}\n",
              "\n",
              "// Max number of bytes which will be uploaded at a time.\n",
              "const MAX_PAYLOAD_SIZE = 100 * 1024;\n",
              "\n",
              "function _uploadFiles(inputId, outputId) {\n",
              "  const steps = uploadFilesStep(inputId, outputId);\n",
              "  const outputElement = document.getElementById(outputId);\n",
              "  // Cache steps on the outputElement to make it available for the next call\n",
              "  // to uploadFilesContinue from Python.\n",
              "  outputElement.steps = steps;\n",
              "\n",
              "  return _uploadFilesContinue(outputId);\n",
              "}\n",
              "\n",
              "// This is roughly an async generator (not supported in the browser yet),\n",
              "// where there are multiple asynchronous steps and the Python side is going\n",
              "// to poll for completion of each step.\n",
              "// This uses a Promise to block the python side on completion of each step,\n",
              "// then passes the result of the previous step as the input to the next step.\n",
              "function _uploadFilesContinue(outputId) {\n",
              "  const outputElement = document.getElementById(outputId);\n",
              "  const steps = outputElement.steps;\n",
              "\n",
              "  const next = steps.next(outputElement.lastPromiseValue);\n",
              "  return Promise.resolve(next.value.promise).then((value) => {\n",
              "    // Cache the last promise value to make it available to the next\n",
              "    // step of the generator.\n",
              "    outputElement.lastPromiseValue = value;\n",
              "    return next.value.response;\n",
              "  });\n",
              "}\n",
              "\n",
              "/**\n",
              " * Generator function which is called between each async step of the upload\n",
              " * process.\n",
              " * @param {string} inputId Element ID of the input file picker element.\n",
              " * @param {string} outputId Element ID of the output display.\n",
              " * @return {!Iterable<!Object>} Iterable of next steps.\n",
              " */\n",
              "function* uploadFilesStep(inputId, outputId) {\n",
              "  const inputElement = document.getElementById(inputId);\n",
              "  inputElement.disabled = false;\n",
              "\n",
              "  const outputElement = document.getElementById(outputId);\n",
              "  outputElement.innerHTML = '';\n",
              "\n",
              "  const pickedPromise = new Promise((resolve) => {\n",
              "    inputElement.addEventListener('change', (e) => {\n",
              "      resolve(e.target.files);\n",
              "    });\n",
              "  });\n",
              "\n",
              "  const cancel = document.createElement('button');\n",
              "  inputElement.parentElement.appendChild(cancel);\n",
              "  cancel.textContent = 'Cancel upload';\n",
              "  const cancelPromise = new Promise((resolve) => {\n",
              "    cancel.onclick = () => {\n",
              "      resolve(null);\n",
              "    };\n",
              "  });\n",
              "\n",
              "  // Wait for the user to pick the files.\n",
              "  const files = yield {\n",
              "    promise: Promise.race([pickedPromise, cancelPromise]),\n",
              "    response: {\n",
              "      action: 'starting',\n",
              "    }\n",
              "  };\n",
              "\n",
              "  cancel.remove();\n",
              "\n",
              "  // Disable the input element since further picks are not allowed.\n",
              "  inputElement.disabled = true;\n",
              "\n",
              "  if (!files) {\n",
              "    return {\n",
              "      response: {\n",
              "        action: 'complete',\n",
              "      }\n",
              "    };\n",
              "  }\n",
              "\n",
              "  for (const file of files) {\n",
              "    const li = document.createElement('li');\n",
              "    li.append(span(file.name, {fontWeight: 'bold'}));\n",
              "    li.append(span(\n",
              "        `(${file.type || 'n/a'}) - ${file.size} bytes, ` +\n",
              "        `last modified: ${\n",
              "            file.lastModifiedDate ? file.lastModifiedDate.toLocaleDateString() :\n",
              "                                    'n/a'} - `));\n",
              "    const percent = span('0% done');\n",
              "    li.appendChild(percent);\n",
              "\n",
              "    outputElement.appendChild(li);\n",
              "\n",
              "    const fileDataPromise = new Promise((resolve) => {\n",
              "      const reader = new FileReader();\n",
              "      reader.onload = (e) => {\n",
              "        resolve(e.target.result);\n",
              "      };\n",
              "      reader.readAsArrayBuffer(file);\n",
              "    });\n",
              "    // Wait for the data to be ready.\n",
              "    let fileData = yield {\n",
              "      promise: fileDataPromise,\n",
              "      response: {\n",
              "        action: 'continue',\n",
              "      }\n",
              "    };\n",
              "\n",
              "    // Use a chunked sending to avoid message size limits. See b/62115660.\n",
              "    let position = 0;\n",
              "    do {\n",
              "      const length = Math.min(fileData.byteLength - position, MAX_PAYLOAD_SIZE);\n",
              "      const chunk = new Uint8Array(fileData, position, length);\n",
              "      position += length;\n",
              "\n",
              "      const base64 = btoa(String.fromCharCode.apply(null, chunk));\n",
              "      yield {\n",
              "        response: {\n",
              "          action: 'append',\n",
              "          file: file.name,\n",
              "          data: base64,\n",
              "        },\n",
              "      };\n",
              "\n",
              "      let percentDone = fileData.byteLength === 0 ?\n",
              "          100 :\n",
              "          Math.round((position / fileData.byteLength) * 100);\n",
              "      percent.textContent = `${percentDone}% done`;\n",
              "\n",
              "    } while (position < fileData.byteLength);\n",
              "  }\n",
              "\n",
              "  // All done.\n",
              "  yield {\n",
              "    response: {\n",
              "      action: 'complete',\n",
              "    }\n",
              "  };\n",
              "}\n",
              "\n",
              "scope.google = scope.google || {};\n",
              "scope.google.colab = scope.google.colab || {};\n",
              "scope.google.colab._files = {\n",
              "  _uploadFiles,\n",
              "  _uploadFilesContinue,\n",
              "};\n",
              "})(self);\n",
              "</script> "
            ]
          },
          "metadata": {}
        },
        {
          "output_type": "stream",
          "name": "stdout",
          "text": [
            "Saving ITA Data CY 2020.csv to ITA Data CY 2020.csv\n"
          ]
        }
      ]
    },
    {
      "cell_type": "code",
      "source": [
        "df2020 = pd.read_csv(io.BytesIO(uploaded_2020['ITA Data CY 2020.csv']))\n",
        "# Dataset2020 is now stored in a Pandas Dataframe"
      ],
      "metadata": {
        "id": "sEDmujFUPhiO"
      },
      "execution_count": 16,
      "outputs": []
    },
    {
      "cell_type": "code",
      "source": [
        "uploaded_2021 = files.upload()"
      ],
      "metadata": {
        "colab": {
          "base_uri": "https://localhost:8080/",
          "height": 71
        },
        "id": "3u56q_TtPhd2",
        "outputId": "406984c1-86db-4882-e180-e29ba2cd174f"
      },
      "execution_count": 17,
      "outputs": [
        {
          "output_type": "display_data",
          "data": {
            "text/plain": [
              "<IPython.core.display.HTML object>"
            ],
            "text/html": [
              "\n",
              "     <input type=\"file\" id=\"files-9f6bbe71-3c5a-4ec6-b9c4-fcd62e6237c8\" name=\"files[]\" multiple disabled\n",
              "        style=\"border:none\" />\n",
              "     <output id=\"result-9f6bbe71-3c5a-4ec6-b9c4-fcd62e6237c8\">\n",
              "      Upload widget is only available when the cell has been executed in the\n",
              "      current browser session. Please rerun this cell to enable.\n",
              "      </output>\n",
              "      <script>// Copyright 2017 Google LLC\n",
              "//\n",
              "// Licensed under the Apache License, Version 2.0 (the \"License\");\n",
              "// you may not use this file except in compliance with the License.\n",
              "// You may obtain a copy of the License at\n",
              "//\n",
              "//      http://www.apache.org/licenses/LICENSE-2.0\n",
              "//\n",
              "// Unless required by applicable law or agreed to in writing, software\n",
              "// distributed under the License is distributed on an \"AS IS\" BASIS,\n",
              "// WITHOUT WARRANTIES OR CONDITIONS OF ANY KIND, either express or implied.\n",
              "// See the License for the specific language governing permissions and\n",
              "// limitations under the License.\n",
              "\n",
              "/**\n",
              " * @fileoverview Helpers for google.colab Python module.\n",
              " */\n",
              "(function(scope) {\n",
              "function span(text, styleAttributes = {}) {\n",
              "  const element = document.createElement('span');\n",
              "  element.textContent = text;\n",
              "  for (const key of Object.keys(styleAttributes)) {\n",
              "    element.style[key] = styleAttributes[key];\n",
              "  }\n",
              "  return element;\n",
              "}\n",
              "\n",
              "// Max number of bytes which will be uploaded at a time.\n",
              "const MAX_PAYLOAD_SIZE = 100 * 1024;\n",
              "\n",
              "function _uploadFiles(inputId, outputId) {\n",
              "  const steps = uploadFilesStep(inputId, outputId);\n",
              "  const outputElement = document.getElementById(outputId);\n",
              "  // Cache steps on the outputElement to make it available for the next call\n",
              "  // to uploadFilesContinue from Python.\n",
              "  outputElement.steps = steps;\n",
              "\n",
              "  return _uploadFilesContinue(outputId);\n",
              "}\n",
              "\n",
              "// This is roughly an async generator (not supported in the browser yet),\n",
              "// where there are multiple asynchronous steps and the Python side is going\n",
              "// to poll for completion of each step.\n",
              "// This uses a Promise to block the python side on completion of each step,\n",
              "// then passes the result of the previous step as the input to the next step.\n",
              "function _uploadFilesContinue(outputId) {\n",
              "  const outputElement = document.getElementById(outputId);\n",
              "  const steps = outputElement.steps;\n",
              "\n",
              "  const next = steps.next(outputElement.lastPromiseValue);\n",
              "  return Promise.resolve(next.value.promise).then((value) => {\n",
              "    // Cache the last promise value to make it available to the next\n",
              "    // step of the generator.\n",
              "    outputElement.lastPromiseValue = value;\n",
              "    return next.value.response;\n",
              "  });\n",
              "}\n",
              "\n",
              "/**\n",
              " * Generator function which is called between each async step of the upload\n",
              " * process.\n",
              " * @param {string} inputId Element ID of the input file picker element.\n",
              " * @param {string} outputId Element ID of the output display.\n",
              " * @return {!Iterable<!Object>} Iterable of next steps.\n",
              " */\n",
              "function* uploadFilesStep(inputId, outputId) {\n",
              "  const inputElement = document.getElementById(inputId);\n",
              "  inputElement.disabled = false;\n",
              "\n",
              "  const outputElement = document.getElementById(outputId);\n",
              "  outputElement.innerHTML = '';\n",
              "\n",
              "  const pickedPromise = new Promise((resolve) => {\n",
              "    inputElement.addEventListener('change', (e) => {\n",
              "      resolve(e.target.files);\n",
              "    });\n",
              "  });\n",
              "\n",
              "  const cancel = document.createElement('button');\n",
              "  inputElement.parentElement.appendChild(cancel);\n",
              "  cancel.textContent = 'Cancel upload';\n",
              "  const cancelPromise = new Promise((resolve) => {\n",
              "    cancel.onclick = () => {\n",
              "      resolve(null);\n",
              "    };\n",
              "  });\n",
              "\n",
              "  // Wait for the user to pick the files.\n",
              "  const files = yield {\n",
              "    promise: Promise.race([pickedPromise, cancelPromise]),\n",
              "    response: {\n",
              "      action: 'starting',\n",
              "    }\n",
              "  };\n",
              "\n",
              "  cancel.remove();\n",
              "\n",
              "  // Disable the input element since further picks are not allowed.\n",
              "  inputElement.disabled = true;\n",
              "\n",
              "  if (!files) {\n",
              "    return {\n",
              "      response: {\n",
              "        action: 'complete',\n",
              "      }\n",
              "    };\n",
              "  }\n",
              "\n",
              "  for (const file of files) {\n",
              "    const li = document.createElement('li');\n",
              "    li.append(span(file.name, {fontWeight: 'bold'}));\n",
              "    li.append(span(\n",
              "        `(${file.type || 'n/a'}) - ${file.size} bytes, ` +\n",
              "        `last modified: ${\n",
              "            file.lastModifiedDate ? file.lastModifiedDate.toLocaleDateString() :\n",
              "                                    'n/a'} - `));\n",
              "    const percent = span('0% done');\n",
              "    li.appendChild(percent);\n",
              "\n",
              "    outputElement.appendChild(li);\n",
              "\n",
              "    const fileDataPromise = new Promise((resolve) => {\n",
              "      const reader = new FileReader();\n",
              "      reader.onload = (e) => {\n",
              "        resolve(e.target.result);\n",
              "      };\n",
              "      reader.readAsArrayBuffer(file);\n",
              "    });\n",
              "    // Wait for the data to be ready.\n",
              "    let fileData = yield {\n",
              "      promise: fileDataPromise,\n",
              "      response: {\n",
              "        action: 'continue',\n",
              "      }\n",
              "    };\n",
              "\n",
              "    // Use a chunked sending to avoid message size limits. See b/62115660.\n",
              "    let position = 0;\n",
              "    do {\n",
              "      const length = Math.min(fileData.byteLength - position, MAX_PAYLOAD_SIZE);\n",
              "      const chunk = new Uint8Array(fileData, position, length);\n",
              "      position += length;\n",
              "\n",
              "      const base64 = btoa(String.fromCharCode.apply(null, chunk));\n",
              "      yield {\n",
              "        response: {\n",
              "          action: 'append',\n",
              "          file: file.name,\n",
              "          data: base64,\n",
              "        },\n",
              "      };\n",
              "\n",
              "      let percentDone = fileData.byteLength === 0 ?\n",
              "          100 :\n",
              "          Math.round((position / fileData.byteLength) * 100);\n",
              "      percent.textContent = `${percentDone}% done`;\n",
              "\n",
              "    } while (position < fileData.byteLength);\n",
              "  }\n",
              "\n",
              "  // All done.\n",
              "  yield {\n",
              "    response: {\n",
              "      action: 'complete',\n",
              "    }\n",
              "  };\n",
              "}\n",
              "\n",
              "scope.google = scope.google || {};\n",
              "scope.google.colab = scope.google.colab || {};\n",
              "scope.google.colab._files = {\n",
              "  _uploadFiles,\n",
              "  _uploadFilesContinue,\n",
              "};\n",
              "})(self);\n",
              "</script> "
            ]
          },
          "metadata": {}
        },
        {
          "output_type": "stream",
          "name": "stdout",
          "text": [
            "Saving ITA Data CY 2021 submitted thru 8-29-2022.csv to ITA Data CY 2021 submitted thru 8-29-2022.csv\n"
          ]
        }
      ]
    },
    {
      "cell_type": "code",
      "source": [
        "df2021 = pd.read_csv(io.BytesIO(uploaded_2021['ITA Data CY 2021 submitted thru 8-29-2022.csv']))\n",
        "# Dataset2021 is now stored in a Pandas Dataframe"
      ],
      "metadata": {
        "id": "rkFe-fxCPhY2"
      },
      "execution_count": 18,
      "outputs": []
    },
    {
      "cell_type": "code",
      "source": [
        "uploaded_2022 = files.upload()"
      ],
      "metadata": {
        "colab": {
          "base_uri": "https://localhost:8080/",
          "height": 71
        },
        "id": "LcglqBNQPxeS",
        "outputId": "ced77a39-284e-4897-8683-8cb812ec8beb"
      },
      "execution_count": 19,
      "outputs": [
        {
          "output_type": "display_data",
          "data": {
            "text/plain": [
              "<IPython.core.display.HTML object>"
            ],
            "text/html": [
              "\n",
              "     <input type=\"file\" id=\"files-dda81072-8b3d-458c-812d-51cc8173964b\" name=\"files[]\" multiple disabled\n",
              "        style=\"border:none\" />\n",
              "     <output id=\"result-dda81072-8b3d-458c-812d-51cc8173964b\">\n",
              "      Upload widget is only available when the cell has been executed in the\n",
              "      current browser session. Please rerun this cell to enable.\n",
              "      </output>\n",
              "      <script>// Copyright 2017 Google LLC\n",
              "//\n",
              "// Licensed under the Apache License, Version 2.0 (the \"License\");\n",
              "// you may not use this file except in compliance with the License.\n",
              "// You may obtain a copy of the License at\n",
              "//\n",
              "//      http://www.apache.org/licenses/LICENSE-2.0\n",
              "//\n",
              "// Unless required by applicable law or agreed to in writing, software\n",
              "// distributed under the License is distributed on an \"AS IS\" BASIS,\n",
              "// WITHOUT WARRANTIES OR CONDITIONS OF ANY KIND, either express or implied.\n",
              "// See the License for the specific language governing permissions and\n",
              "// limitations under the License.\n",
              "\n",
              "/**\n",
              " * @fileoverview Helpers for google.colab Python module.\n",
              " */\n",
              "(function(scope) {\n",
              "function span(text, styleAttributes = {}) {\n",
              "  const element = document.createElement('span');\n",
              "  element.textContent = text;\n",
              "  for (const key of Object.keys(styleAttributes)) {\n",
              "    element.style[key] = styleAttributes[key];\n",
              "  }\n",
              "  return element;\n",
              "}\n",
              "\n",
              "// Max number of bytes which will be uploaded at a time.\n",
              "const MAX_PAYLOAD_SIZE = 100 * 1024;\n",
              "\n",
              "function _uploadFiles(inputId, outputId) {\n",
              "  const steps = uploadFilesStep(inputId, outputId);\n",
              "  const outputElement = document.getElementById(outputId);\n",
              "  // Cache steps on the outputElement to make it available for the next call\n",
              "  // to uploadFilesContinue from Python.\n",
              "  outputElement.steps = steps;\n",
              "\n",
              "  return _uploadFilesContinue(outputId);\n",
              "}\n",
              "\n",
              "// This is roughly an async generator (not supported in the browser yet),\n",
              "// where there are multiple asynchronous steps and the Python side is going\n",
              "// to poll for completion of each step.\n",
              "// This uses a Promise to block the python side on completion of each step,\n",
              "// then passes the result of the previous step as the input to the next step.\n",
              "function _uploadFilesContinue(outputId) {\n",
              "  const outputElement = document.getElementById(outputId);\n",
              "  const steps = outputElement.steps;\n",
              "\n",
              "  const next = steps.next(outputElement.lastPromiseValue);\n",
              "  return Promise.resolve(next.value.promise).then((value) => {\n",
              "    // Cache the last promise value to make it available to the next\n",
              "    // step of the generator.\n",
              "    outputElement.lastPromiseValue = value;\n",
              "    return next.value.response;\n",
              "  });\n",
              "}\n",
              "\n",
              "/**\n",
              " * Generator function which is called between each async step of the upload\n",
              " * process.\n",
              " * @param {string} inputId Element ID of the input file picker element.\n",
              " * @param {string} outputId Element ID of the output display.\n",
              " * @return {!Iterable<!Object>} Iterable of next steps.\n",
              " */\n",
              "function* uploadFilesStep(inputId, outputId) {\n",
              "  const inputElement = document.getElementById(inputId);\n",
              "  inputElement.disabled = false;\n",
              "\n",
              "  const outputElement = document.getElementById(outputId);\n",
              "  outputElement.innerHTML = '';\n",
              "\n",
              "  const pickedPromise = new Promise((resolve) => {\n",
              "    inputElement.addEventListener('change', (e) => {\n",
              "      resolve(e.target.files);\n",
              "    });\n",
              "  });\n",
              "\n",
              "  const cancel = document.createElement('button');\n",
              "  inputElement.parentElement.appendChild(cancel);\n",
              "  cancel.textContent = 'Cancel upload';\n",
              "  const cancelPromise = new Promise((resolve) => {\n",
              "    cancel.onclick = () => {\n",
              "      resolve(null);\n",
              "    };\n",
              "  });\n",
              "\n",
              "  // Wait for the user to pick the files.\n",
              "  const files = yield {\n",
              "    promise: Promise.race([pickedPromise, cancelPromise]),\n",
              "    response: {\n",
              "      action: 'starting',\n",
              "    }\n",
              "  };\n",
              "\n",
              "  cancel.remove();\n",
              "\n",
              "  // Disable the input element since further picks are not allowed.\n",
              "  inputElement.disabled = true;\n",
              "\n",
              "  if (!files) {\n",
              "    return {\n",
              "      response: {\n",
              "        action: 'complete',\n",
              "      }\n",
              "    };\n",
              "  }\n",
              "\n",
              "  for (const file of files) {\n",
              "    const li = document.createElement('li');\n",
              "    li.append(span(file.name, {fontWeight: 'bold'}));\n",
              "    li.append(span(\n",
              "        `(${file.type || 'n/a'}) - ${file.size} bytes, ` +\n",
              "        `last modified: ${\n",
              "            file.lastModifiedDate ? file.lastModifiedDate.toLocaleDateString() :\n",
              "                                    'n/a'} - `));\n",
              "    const percent = span('0% done');\n",
              "    li.appendChild(percent);\n",
              "\n",
              "    outputElement.appendChild(li);\n",
              "\n",
              "    const fileDataPromise = new Promise((resolve) => {\n",
              "      const reader = new FileReader();\n",
              "      reader.onload = (e) => {\n",
              "        resolve(e.target.result);\n",
              "      };\n",
              "      reader.readAsArrayBuffer(file);\n",
              "    });\n",
              "    // Wait for the data to be ready.\n",
              "    let fileData = yield {\n",
              "      promise: fileDataPromise,\n",
              "      response: {\n",
              "        action: 'continue',\n",
              "      }\n",
              "    };\n",
              "\n",
              "    // Use a chunked sending to avoid message size limits. See b/62115660.\n",
              "    let position = 0;\n",
              "    do {\n",
              "      const length = Math.min(fileData.byteLength - position, MAX_PAYLOAD_SIZE);\n",
              "      const chunk = new Uint8Array(fileData, position, length);\n",
              "      position += length;\n",
              "\n",
              "      const base64 = btoa(String.fromCharCode.apply(null, chunk));\n",
              "      yield {\n",
              "        response: {\n",
              "          action: 'append',\n",
              "          file: file.name,\n",
              "          data: base64,\n",
              "        },\n",
              "      };\n",
              "\n",
              "      let percentDone = fileData.byteLength === 0 ?\n",
              "          100 :\n",
              "          Math.round((position / fileData.byteLength) * 100);\n",
              "      percent.textContent = `${percentDone}% done`;\n",
              "\n",
              "    } while (position < fileData.byteLength);\n",
              "  }\n",
              "\n",
              "  // All done.\n",
              "  yield {\n",
              "    response: {\n",
              "      action: 'complete',\n",
              "    }\n",
              "  };\n",
              "}\n",
              "\n",
              "scope.google = scope.google || {};\n",
              "scope.google.colab = scope.google.colab || {};\n",
              "scope.google.colab._files = {\n",
              "  _uploadFiles,\n",
              "  _uploadFilesContinue,\n",
              "};\n",
              "})(self);\n",
              "</script> "
            ]
          },
          "metadata": {}
        },
        {
          "output_type": "stream",
          "name": "stdout",
          "text": [
            "Saving ITA Data CY 2022 submitted thru 3-2-2023.csv to ITA Data CY 2022 submitted thru 3-2-2023.csv\n"
          ]
        }
      ]
    },
    {
      "cell_type": "code",
      "source": [
        "df2022 = pd.read_csv(io.BytesIO(uploaded_2022['ITA Data CY 2022 submitted thru 3-2-2023.csv']),low_memory=False)\n",
        "# Dataset2022 is now stored in a Pandas Dataframe"
      ],
      "metadata": {
        "id": "qABJxn18PxY_"
      },
      "execution_count": 21,
      "outputs": []
    },
    {
      "cell_type": "markdown",
      "source": [
        "## 1.3 Integration of Datasets"
      ],
      "metadata": {
        "id": "V7ALMo0umHz0"
      }
    },
    {
      "cell_type": "code",
      "source": [
        "data = pd.concat([df2016,df2017,df2018,df2019,df2020,df2021,df2022],axis=0)"
      ],
      "metadata": {
        "id": "dWxWWqOil_IT"
      },
      "execution_count": 22,
      "outputs": []
    },
    {
      "cell_type": "code",
      "source": [
        "data.reset_index(inplace = True)"
      ],
      "metadata": {
        "id": "tprxlIfGmP20"
      },
      "execution_count": 23,
      "outputs": []
    },
    {
      "cell_type": "code",
      "source": [
        "data.drop(['index'],axis=1,inplace=True)"
      ],
      "metadata": {
        "id": "P07zTMO5mTyJ"
      },
      "execution_count": 24,
      "outputs": []
    },
    {
      "cell_type": "markdown",
      "source": [
        "# 2. Data Mining"
      ],
      "metadata": {
        "id": "SknjQnsAmXph"
      }
    },
    {
      "cell_type": "markdown",
      "source": [
        "## 2.1 Overview Of The Dataset"
      ],
      "metadata": {
        "id": "KRlSeLkrmbAp"
      }
    },
    {
      "cell_type": "code",
      "source": [
        "data.head()"
      ],
      "metadata": {
        "colab": {
          "base_uri": "https://localhost:8080/",
          "height": 386
        },
        "id": "4jl79Dr8mVwP",
        "outputId": "b0d494f8-d299-44cc-fdd7-29cad8553c98"
      },
      "execution_count": 25,
      "outputs": [
        {
          "output_type": "execute_result",
          "data": {
            "text/plain": [
              "    id                company_name          establishment_name  ein  \\\n",
              "0  4.0              McKamish, Inc.              McKamish, Inc.  NaN   \n",
              "1  5.0    The Talaria Company, LLC        The Hinckley Company  NaN   \n",
              "2  6.0  Williamsburg Manufacturing  Williamsburg Manufacturing  NaN   \n",
              "3  7.0    The Talaria Company, LLC          Morris Yachts, LLC  NaN   \n",
              "4  8.0    The Talaria Company, LLC            Hunt Yachts, LLC  NaN   \n",
              "\n",
              "       street_address          city state  zip_code  naics_code  \\\n",
              "0      50 55th Street    Pittsburgh    PA   15201.0    238220.0   \n",
              "1   40 Industrial Way       Trenton    ME    4605.0    336612.0   \n",
              "2   408 Maplewood Ave  Williamsburg    IA   52361.0    336370.0   \n",
              "3        27 Ramp Road       Trenton    ME    4605.0    336612.0   \n",
              "4  1909 Alden Landing    Portsmouth    RI    2871.0    336612.0   \n",
              "\n",
              "                                industry_description  ...  \\\n",
              "0  Heating, ventilation and air-conditioning (HVA...  ...   \n",
              "1                       Pleasure boats manufacturing  ...   \n",
              "2                 Motor vehicle metal parts stamping  ...   \n",
              "3                       Pleasure boats manufacturing  ...   \n",
              "4                       Pleasure boats manufacturing  ...   \n",
              "\n",
              "   total_respiratory_conditions  total_skin_disorders  total_hearing_loss  \\\n",
              "0                           0.0                   0.0                 0.0   \n",
              "1                           0.0                   0.0                 0.0   \n",
              "2                           0.0                   0.0                 0.0   \n",
              "3                           0.0                   0.0                 0.0   \n",
              "4                           0.0                   0.0                 0.0   \n",
              "\n",
              "   total_other_illnesses  establishment_id  establishment_type  size  \\\n",
              "0                    0.0           41920.0                 1.0   3.0   \n",
              "1                    0.0           41922.0                 1.0   3.0   \n",
              "2                    0.0           41923.0                 1.0   3.0   \n",
              "3                    0.0           41925.0                 1.0   2.0   \n",
              "4                    0.0           41926.0                 1.0   2.0   \n",
              "\n",
              "   year_filing_for  created_timestamp        change_reason  \n",
              "0           2016.0   8/1/2017 6:12:00                  NaN  \n",
              "1           2016.0   8/1/2017 6:23:00                  NaN  \n",
              "2           2016.0   8/1/2017 6:27:00                  NaN  \n",
              "3           2016.0   8/1/2017 6:36:00  Hit wrong hyperlink  \n",
              "4           2016.0   8/1/2017 6:35:00                  NaN  \n",
              "\n",
              "[5 rows x 31 columns]"
            ],
            "text/html": [
              "\n",
              "  <div id=\"df-44b832fd-2d7c-48b1-9c0d-ddae8681cd03\">\n",
              "    <div class=\"colab-df-container\">\n",
              "      <div>\n",
              "<style scoped>\n",
              "    .dataframe tbody tr th:only-of-type {\n",
              "        vertical-align: middle;\n",
              "    }\n",
              "\n",
              "    .dataframe tbody tr th {\n",
              "        vertical-align: top;\n",
              "    }\n",
              "\n",
              "    .dataframe thead th {\n",
              "        text-align: right;\n",
              "    }\n",
              "</style>\n",
              "<table border=\"1\" class=\"dataframe\">\n",
              "  <thead>\n",
              "    <tr style=\"text-align: right;\">\n",
              "      <th></th>\n",
              "      <th>id</th>\n",
              "      <th>company_name</th>\n",
              "      <th>establishment_name</th>\n",
              "      <th>ein</th>\n",
              "      <th>street_address</th>\n",
              "      <th>city</th>\n",
              "      <th>state</th>\n",
              "      <th>zip_code</th>\n",
              "      <th>naics_code</th>\n",
              "      <th>industry_description</th>\n",
              "      <th>...</th>\n",
              "      <th>total_respiratory_conditions</th>\n",
              "      <th>total_skin_disorders</th>\n",
              "      <th>total_hearing_loss</th>\n",
              "      <th>total_other_illnesses</th>\n",
              "      <th>establishment_id</th>\n",
              "      <th>establishment_type</th>\n",
              "      <th>size</th>\n",
              "      <th>year_filing_for</th>\n",
              "      <th>created_timestamp</th>\n",
              "      <th>change_reason</th>\n",
              "    </tr>\n",
              "  </thead>\n",
              "  <tbody>\n",
              "    <tr>\n",
              "      <th>0</th>\n",
              "      <td>4.0</td>\n",
              "      <td>McKamish, Inc.</td>\n",
              "      <td>McKamish, Inc.</td>\n",
              "      <td>NaN</td>\n",
              "      <td>50 55th Street</td>\n",
              "      <td>Pittsburgh</td>\n",
              "      <td>PA</td>\n",
              "      <td>15201.0</td>\n",
              "      <td>238220.0</td>\n",
              "      <td>Heating, ventilation and air-conditioning (HVA...</td>\n",
              "      <td>...</td>\n",
              "      <td>0.0</td>\n",
              "      <td>0.0</td>\n",
              "      <td>0.0</td>\n",
              "      <td>0.0</td>\n",
              "      <td>41920.0</td>\n",
              "      <td>1.0</td>\n",
              "      <td>3.0</td>\n",
              "      <td>2016.0</td>\n",
              "      <td>8/1/2017 6:12:00</td>\n",
              "      <td>NaN</td>\n",
              "    </tr>\n",
              "    <tr>\n",
              "      <th>1</th>\n",
              "      <td>5.0</td>\n",
              "      <td>The Talaria Company, LLC</td>\n",
              "      <td>The Hinckley Company</td>\n",
              "      <td>NaN</td>\n",
              "      <td>40 Industrial Way</td>\n",
              "      <td>Trenton</td>\n",
              "      <td>ME</td>\n",
              "      <td>4605.0</td>\n",
              "      <td>336612.0</td>\n",
              "      <td>Pleasure boats manufacturing</td>\n",
              "      <td>...</td>\n",
              "      <td>0.0</td>\n",
              "      <td>0.0</td>\n",
              "      <td>0.0</td>\n",
              "      <td>0.0</td>\n",
              "      <td>41922.0</td>\n",
              "      <td>1.0</td>\n",
              "      <td>3.0</td>\n",
              "      <td>2016.0</td>\n",
              "      <td>8/1/2017 6:23:00</td>\n",
              "      <td>NaN</td>\n",
              "    </tr>\n",
              "    <tr>\n",
              "      <th>2</th>\n",
              "      <td>6.0</td>\n",
              "      <td>Williamsburg Manufacturing</td>\n",
              "      <td>Williamsburg Manufacturing</td>\n",
              "      <td>NaN</td>\n",
              "      <td>408 Maplewood Ave</td>\n",
              "      <td>Williamsburg</td>\n",
              "      <td>IA</td>\n",
              "      <td>52361.0</td>\n",
              "      <td>336370.0</td>\n",
              "      <td>Motor vehicle metal parts stamping</td>\n",
              "      <td>...</td>\n",
              "      <td>0.0</td>\n",
              "      <td>0.0</td>\n",
              "      <td>0.0</td>\n",
              "      <td>0.0</td>\n",
              "      <td>41923.0</td>\n",
              "      <td>1.0</td>\n",
              "      <td>3.0</td>\n",
              "      <td>2016.0</td>\n",
              "      <td>8/1/2017 6:27:00</td>\n",
              "      <td>NaN</td>\n",
              "    </tr>\n",
              "    <tr>\n",
              "      <th>3</th>\n",
              "      <td>7.0</td>\n",
              "      <td>The Talaria Company, LLC</td>\n",
              "      <td>Morris Yachts, LLC</td>\n",
              "      <td>NaN</td>\n",
              "      <td>27 Ramp Road</td>\n",
              "      <td>Trenton</td>\n",
              "      <td>ME</td>\n",
              "      <td>4605.0</td>\n",
              "      <td>336612.0</td>\n",
              "      <td>Pleasure boats manufacturing</td>\n",
              "      <td>...</td>\n",
              "      <td>0.0</td>\n",
              "      <td>0.0</td>\n",
              "      <td>0.0</td>\n",
              "      <td>0.0</td>\n",
              "      <td>41925.0</td>\n",
              "      <td>1.0</td>\n",
              "      <td>2.0</td>\n",
              "      <td>2016.0</td>\n",
              "      <td>8/1/2017 6:36:00</td>\n",
              "      <td>Hit wrong hyperlink</td>\n",
              "    </tr>\n",
              "    <tr>\n",
              "      <th>4</th>\n",
              "      <td>8.0</td>\n",
              "      <td>The Talaria Company, LLC</td>\n",
              "      <td>Hunt Yachts, LLC</td>\n",
              "      <td>NaN</td>\n",
              "      <td>1909 Alden Landing</td>\n",
              "      <td>Portsmouth</td>\n",
              "      <td>RI</td>\n",
              "      <td>2871.0</td>\n",
              "      <td>336612.0</td>\n",
              "      <td>Pleasure boats manufacturing</td>\n",
              "      <td>...</td>\n",
              "      <td>0.0</td>\n",
              "      <td>0.0</td>\n",
              "      <td>0.0</td>\n",
              "      <td>0.0</td>\n",
              "      <td>41926.0</td>\n",
              "      <td>1.0</td>\n",
              "      <td>2.0</td>\n",
              "      <td>2016.0</td>\n",
              "      <td>8/1/2017 6:35:00</td>\n",
              "      <td>NaN</td>\n",
              "    </tr>\n",
              "  </tbody>\n",
              "</table>\n",
              "<p>5 rows × 31 columns</p>\n",
              "</div>\n",
              "      <button class=\"colab-df-convert\" onclick=\"convertToInteractive('df-44b832fd-2d7c-48b1-9c0d-ddae8681cd03')\"\n",
              "              title=\"Convert this dataframe to an interactive table.\"\n",
              "              style=\"display:none;\">\n",
              "        \n",
              "  <svg xmlns=\"http://www.w3.org/2000/svg\" height=\"24px\"viewBox=\"0 0 24 24\"\n",
              "       width=\"24px\">\n",
              "    <path d=\"M0 0h24v24H0V0z\" fill=\"none\"/>\n",
              "    <path d=\"M18.56 5.44l.94 2.06.94-2.06 2.06-.94-2.06-.94-.94-2.06-.94 2.06-2.06.94zm-11 1L8.5 8.5l.94-2.06 2.06-.94-2.06-.94L8.5 2.5l-.94 2.06-2.06.94zm10 10l.94 2.06.94-2.06 2.06-.94-2.06-.94-.94-2.06-.94 2.06-2.06.94z\"/><path d=\"M17.41 7.96l-1.37-1.37c-.4-.4-.92-.59-1.43-.59-.52 0-1.04.2-1.43.59L10.3 9.45l-7.72 7.72c-.78.78-.78 2.05 0 2.83L4 21.41c.39.39.9.59 1.41.59.51 0 1.02-.2 1.41-.59l7.78-7.78 2.81-2.81c.8-.78.8-2.07 0-2.86zM5.41 20L4 18.59l7.72-7.72 1.47 1.35L5.41 20z\"/>\n",
              "  </svg>\n",
              "      </button>\n",
              "      \n",
              "  <style>\n",
              "    .colab-df-container {\n",
              "      display:flex;\n",
              "      flex-wrap:wrap;\n",
              "      gap: 12px;\n",
              "    }\n",
              "\n",
              "    .colab-df-convert {\n",
              "      background-color: #E8F0FE;\n",
              "      border: none;\n",
              "      border-radius: 50%;\n",
              "      cursor: pointer;\n",
              "      display: none;\n",
              "      fill: #1967D2;\n",
              "      height: 32px;\n",
              "      padding: 0 0 0 0;\n",
              "      width: 32px;\n",
              "    }\n",
              "\n",
              "    .colab-df-convert:hover {\n",
              "      background-color: #E2EBFA;\n",
              "      box-shadow: 0px 1px 2px rgba(60, 64, 67, 0.3), 0px 1px 3px 1px rgba(60, 64, 67, 0.15);\n",
              "      fill: #174EA6;\n",
              "    }\n",
              "\n",
              "    [theme=dark] .colab-df-convert {\n",
              "      background-color: #3B4455;\n",
              "      fill: #D2E3FC;\n",
              "    }\n",
              "\n",
              "    [theme=dark] .colab-df-convert:hover {\n",
              "      background-color: #434B5C;\n",
              "      box-shadow: 0px 1px 3px 1px rgba(0, 0, 0, 0.15);\n",
              "      filter: drop-shadow(0px 1px 2px rgba(0, 0, 0, 0.3));\n",
              "      fill: #FFFFFF;\n",
              "    }\n",
              "  </style>\n",
              "\n",
              "      <script>\n",
              "        const buttonEl =\n",
              "          document.querySelector('#df-44b832fd-2d7c-48b1-9c0d-ddae8681cd03 button.colab-df-convert');\n",
              "        buttonEl.style.display =\n",
              "          google.colab.kernel.accessAllowed ? 'block' : 'none';\n",
              "\n",
              "        async function convertToInteractive(key) {\n",
              "          const element = document.querySelector('#df-44b832fd-2d7c-48b1-9c0d-ddae8681cd03');\n",
              "          const dataTable =\n",
              "            await google.colab.kernel.invokeFunction('convertToInteractive',\n",
              "                                                     [key], {});\n",
              "          if (!dataTable) return;\n",
              "\n",
              "          const docLinkHtml = 'Like what you see? Visit the ' +\n",
              "            '<a target=\"_blank\" href=https://colab.research.google.com/notebooks/data_table.ipynb>data table notebook</a>'\n",
              "            + ' to learn more about interactive tables.';\n",
              "          element.innerHTML = '';\n",
              "          dataTable['output_type'] = 'display_data';\n",
              "          await google.colab.output.renderOutput(dataTable, element);\n",
              "          const docLink = document.createElement('div');\n",
              "          docLink.innerHTML = docLinkHtml;\n",
              "          element.appendChild(docLink);\n",
              "        }\n",
              "      </script>\n",
              "    </div>\n",
              "  </div>\n",
              "  "
            ]
          },
          "metadata": {},
          "execution_count": 25
        }
      ]
    },
    {
      "cell_type": "code",
      "source": [
        "data.tail()"
      ],
      "metadata": {
        "colab": {
          "base_uri": "https://localhost:8080/",
          "height": 438
        },
        "id": "MkLdFSqemgaW",
        "outputId": "322ae241-0cf3-4053-c2d9-79e831e97958"
      },
      "execution_count": 26,
      "outputs": [
        {
          "output_type": "execute_result",
          "data": {
            "text/plain": [
              "                id                       company_name  \\\n",
              "1972570  2071485.0          DDH Hotel Somerville, LLC   \n",
              "1972571  2071486.0         Skybokx 109 of Natick, LLC   \n",
              "1972572  2071487.0              DDH Hotel Mystic, LLC   \n",
              "1972573  2071488.0                Matrix Surfaces Inc   \n",
              "1972574  2071489.0  Courtyard by Marriott Morgan Hill   \n",
              "\n",
              "                                        establishment_name        ein  \\\n",
              "1972570                     Holiday Inn Boston Bunker Hill  272167407   \n",
              "1972571                                        Skybokx 109  800825611   \n",
              "1972572                                     Hilton Mystic   464591942   \n",
              "1972573                                Matrix Surfaces Inc  330943467   \n",
              "1972574  Courtyard by Marriott San Jose South Morgan Hill   208725068   \n",
              "\n",
              "                                     street_address         city state  \\\n",
              "1972570  30 Washington Street, Somerville, MA 02143   Somerville    MA   \n",
              "1972571                            319 Speen Street       Natick    MA   \n",
              "1972572                         20 Coogan Boulevard       Mystic    CT   \n",
              "1972573                         5449 E La Palma Ave      Anaheim    CA   \n",
              "1972574                          18610 Madrone Pkwy  morgan Hill    CA   \n",
              "\n",
              "            zip_code  naics_code               industry_description  ...  \\\n",
              "1972570       2143.0    721110.0     Hotels (except casino hotels)   ...   \n",
              "1972571       1760.0    721110.0     Hotels (except casino hotels)   ...   \n",
              "1972572       6355.0    721110.0     Hotels (except casino hotels)   ...   \n",
              "1972573      92807.0    238340.0         Ceramic tile installation   ...   \n",
              "1972574  950372837.0    721110.0   Hotels, resort, without casinos   ...   \n",
              "\n",
              "         total_respiratory_conditions  total_skin_disorders  \\\n",
              "1972570                           0.0                   0.0   \n",
              "1972571                           0.0                   0.0   \n",
              "1972572                           0.0                   0.0   \n",
              "1972573                           0.0                   0.0   \n",
              "1972574                           0.0                   0.0   \n",
              "\n",
              "         total_hearing_loss  total_other_illnesses  establishment_id  \\\n",
              "1972570                 0.0                    0.0         1044671.0   \n",
              "1972571                 0.0                    0.0         1044672.0   \n",
              "1972572                 0.0                    0.0         1044673.0   \n",
              "1972573                 0.0                    1.0         1044674.0   \n",
              "1972574                 0.0                    0.0          825476.0   \n",
              "\n",
              "         establishment_type  size  year_filing_for  created_timestamp  \\\n",
              "1972570                 1.0   2.0           2022.0   3/4/2023 2:57:38   \n",
              "1972571                 1.0   2.0           2022.0   3/4/2023 3:00:07   \n",
              "1972572                 1.0   2.0           2022.0   3/4/2023 3:02:51   \n",
              "1972573                 1.0   2.0           2022.0   3/4/2023 3:06:40   \n",
              "1972574                 1.0   1.0           2022.0   3/4/2023 3:15:05   \n",
              "\n",
              "         change_reason  \n",
              "1972570            NaN  \n",
              "1972571            NaN  \n",
              "1972572            NaN  \n",
              "1972573            NaN  \n",
              "1972574            NaN  \n",
              "\n",
              "[5 rows x 31 columns]"
            ],
            "text/html": [
              "\n",
              "  <div id=\"df-132a0368-eeeb-4042-81f4-7fcdfa4ec90e\">\n",
              "    <div class=\"colab-df-container\">\n",
              "      <div>\n",
              "<style scoped>\n",
              "    .dataframe tbody tr th:only-of-type {\n",
              "        vertical-align: middle;\n",
              "    }\n",
              "\n",
              "    .dataframe tbody tr th {\n",
              "        vertical-align: top;\n",
              "    }\n",
              "\n",
              "    .dataframe thead th {\n",
              "        text-align: right;\n",
              "    }\n",
              "</style>\n",
              "<table border=\"1\" class=\"dataframe\">\n",
              "  <thead>\n",
              "    <tr style=\"text-align: right;\">\n",
              "      <th></th>\n",
              "      <th>id</th>\n",
              "      <th>company_name</th>\n",
              "      <th>establishment_name</th>\n",
              "      <th>ein</th>\n",
              "      <th>street_address</th>\n",
              "      <th>city</th>\n",
              "      <th>state</th>\n",
              "      <th>zip_code</th>\n",
              "      <th>naics_code</th>\n",
              "      <th>industry_description</th>\n",
              "      <th>...</th>\n",
              "      <th>total_respiratory_conditions</th>\n",
              "      <th>total_skin_disorders</th>\n",
              "      <th>total_hearing_loss</th>\n",
              "      <th>total_other_illnesses</th>\n",
              "      <th>establishment_id</th>\n",
              "      <th>establishment_type</th>\n",
              "      <th>size</th>\n",
              "      <th>year_filing_for</th>\n",
              "      <th>created_timestamp</th>\n",
              "      <th>change_reason</th>\n",
              "    </tr>\n",
              "  </thead>\n",
              "  <tbody>\n",
              "    <tr>\n",
              "      <th>1972570</th>\n",
              "      <td>2071485.0</td>\n",
              "      <td>DDH Hotel Somerville, LLC</td>\n",
              "      <td>Holiday Inn Boston Bunker Hill</td>\n",
              "      <td>272167407</td>\n",
              "      <td>30 Washington Street, Somerville, MA 02143</td>\n",
              "      <td>Somerville</td>\n",
              "      <td>MA</td>\n",
              "      <td>2143.0</td>\n",
              "      <td>721110.0</td>\n",
              "      <td>Hotels (except casino hotels)</td>\n",
              "      <td>...</td>\n",
              "      <td>0.0</td>\n",
              "      <td>0.0</td>\n",
              "      <td>0.0</td>\n",
              "      <td>0.0</td>\n",
              "      <td>1044671.0</td>\n",
              "      <td>1.0</td>\n",
              "      <td>2.0</td>\n",
              "      <td>2022.0</td>\n",
              "      <td>3/4/2023 2:57:38</td>\n",
              "      <td>NaN</td>\n",
              "    </tr>\n",
              "    <tr>\n",
              "      <th>1972571</th>\n",
              "      <td>2071486.0</td>\n",
              "      <td>Skybokx 109 of Natick, LLC</td>\n",
              "      <td>Skybokx 109</td>\n",
              "      <td>800825611</td>\n",
              "      <td>319 Speen Street</td>\n",
              "      <td>Natick</td>\n",
              "      <td>MA</td>\n",
              "      <td>1760.0</td>\n",
              "      <td>721110.0</td>\n",
              "      <td>Hotels (except casino hotels)</td>\n",
              "      <td>...</td>\n",
              "      <td>0.0</td>\n",
              "      <td>0.0</td>\n",
              "      <td>0.0</td>\n",
              "      <td>0.0</td>\n",
              "      <td>1044672.0</td>\n",
              "      <td>1.0</td>\n",
              "      <td>2.0</td>\n",
              "      <td>2022.0</td>\n",
              "      <td>3/4/2023 3:00:07</td>\n",
              "      <td>NaN</td>\n",
              "    </tr>\n",
              "    <tr>\n",
              "      <th>1972572</th>\n",
              "      <td>2071487.0</td>\n",
              "      <td>DDH Hotel Mystic, LLC</td>\n",
              "      <td>Hilton Mystic</td>\n",
              "      <td>464591942</td>\n",
              "      <td>20 Coogan Boulevard</td>\n",
              "      <td>Mystic</td>\n",
              "      <td>CT</td>\n",
              "      <td>6355.0</td>\n",
              "      <td>721110.0</td>\n",
              "      <td>Hotels (except casino hotels)</td>\n",
              "      <td>...</td>\n",
              "      <td>0.0</td>\n",
              "      <td>0.0</td>\n",
              "      <td>0.0</td>\n",
              "      <td>0.0</td>\n",
              "      <td>1044673.0</td>\n",
              "      <td>1.0</td>\n",
              "      <td>2.0</td>\n",
              "      <td>2022.0</td>\n",
              "      <td>3/4/2023 3:02:51</td>\n",
              "      <td>NaN</td>\n",
              "    </tr>\n",
              "    <tr>\n",
              "      <th>1972573</th>\n",
              "      <td>2071488.0</td>\n",
              "      <td>Matrix Surfaces Inc</td>\n",
              "      <td>Matrix Surfaces Inc</td>\n",
              "      <td>330943467</td>\n",
              "      <td>5449 E La Palma Ave</td>\n",
              "      <td>Anaheim</td>\n",
              "      <td>CA</td>\n",
              "      <td>92807.0</td>\n",
              "      <td>238340.0</td>\n",
              "      <td>Ceramic tile installation</td>\n",
              "      <td>...</td>\n",
              "      <td>0.0</td>\n",
              "      <td>0.0</td>\n",
              "      <td>0.0</td>\n",
              "      <td>1.0</td>\n",
              "      <td>1044674.0</td>\n",
              "      <td>1.0</td>\n",
              "      <td>2.0</td>\n",
              "      <td>2022.0</td>\n",
              "      <td>3/4/2023 3:06:40</td>\n",
              "      <td>NaN</td>\n",
              "    </tr>\n",
              "    <tr>\n",
              "      <th>1972574</th>\n",
              "      <td>2071489.0</td>\n",
              "      <td>Courtyard by Marriott Morgan Hill</td>\n",
              "      <td>Courtyard by Marriott San Jose South Morgan Hill</td>\n",
              "      <td>208725068</td>\n",
              "      <td>18610 Madrone Pkwy</td>\n",
              "      <td>morgan Hill</td>\n",
              "      <td>CA</td>\n",
              "      <td>950372837.0</td>\n",
              "      <td>721110.0</td>\n",
              "      <td>Hotels, resort, without casinos</td>\n",
              "      <td>...</td>\n",
              "      <td>0.0</td>\n",
              "      <td>0.0</td>\n",
              "      <td>0.0</td>\n",
              "      <td>0.0</td>\n",
              "      <td>825476.0</td>\n",
              "      <td>1.0</td>\n",
              "      <td>1.0</td>\n",
              "      <td>2022.0</td>\n",
              "      <td>3/4/2023 3:15:05</td>\n",
              "      <td>NaN</td>\n",
              "    </tr>\n",
              "  </tbody>\n",
              "</table>\n",
              "<p>5 rows × 31 columns</p>\n",
              "</div>\n",
              "      <button class=\"colab-df-convert\" onclick=\"convertToInteractive('df-132a0368-eeeb-4042-81f4-7fcdfa4ec90e')\"\n",
              "              title=\"Convert this dataframe to an interactive table.\"\n",
              "              style=\"display:none;\">\n",
              "        \n",
              "  <svg xmlns=\"http://www.w3.org/2000/svg\" height=\"24px\"viewBox=\"0 0 24 24\"\n",
              "       width=\"24px\">\n",
              "    <path d=\"M0 0h24v24H0V0z\" fill=\"none\"/>\n",
              "    <path d=\"M18.56 5.44l.94 2.06.94-2.06 2.06-.94-2.06-.94-.94-2.06-.94 2.06-2.06.94zm-11 1L8.5 8.5l.94-2.06 2.06-.94-2.06-.94L8.5 2.5l-.94 2.06-2.06.94zm10 10l.94 2.06.94-2.06 2.06-.94-2.06-.94-.94-2.06-.94 2.06-2.06.94z\"/><path d=\"M17.41 7.96l-1.37-1.37c-.4-.4-.92-.59-1.43-.59-.52 0-1.04.2-1.43.59L10.3 9.45l-7.72 7.72c-.78.78-.78 2.05 0 2.83L4 21.41c.39.39.9.59 1.41.59.51 0 1.02-.2 1.41-.59l7.78-7.78 2.81-2.81c.8-.78.8-2.07 0-2.86zM5.41 20L4 18.59l7.72-7.72 1.47 1.35L5.41 20z\"/>\n",
              "  </svg>\n",
              "      </button>\n",
              "      \n",
              "  <style>\n",
              "    .colab-df-container {\n",
              "      display:flex;\n",
              "      flex-wrap:wrap;\n",
              "      gap: 12px;\n",
              "    }\n",
              "\n",
              "    .colab-df-convert {\n",
              "      background-color: #E8F0FE;\n",
              "      border: none;\n",
              "      border-radius: 50%;\n",
              "      cursor: pointer;\n",
              "      display: none;\n",
              "      fill: #1967D2;\n",
              "      height: 32px;\n",
              "      padding: 0 0 0 0;\n",
              "      width: 32px;\n",
              "    }\n",
              "\n",
              "    .colab-df-convert:hover {\n",
              "      background-color: #E2EBFA;\n",
              "      box-shadow: 0px 1px 2px rgba(60, 64, 67, 0.3), 0px 1px 3px 1px rgba(60, 64, 67, 0.15);\n",
              "      fill: #174EA6;\n",
              "    }\n",
              "\n",
              "    [theme=dark] .colab-df-convert {\n",
              "      background-color: #3B4455;\n",
              "      fill: #D2E3FC;\n",
              "    }\n",
              "\n",
              "    [theme=dark] .colab-df-convert:hover {\n",
              "      background-color: #434B5C;\n",
              "      box-shadow: 0px 1px 3px 1px rgba(0, 0, 0, 0.15);\n",
              "      filter: drop-shadow(0px 1px 2px rgba(0, 0, 0, 0.3));\n",
              "      fill: #FFFFFF;\n",
              "    }\n",
              "  </style>\n",
              "\n",
              "      <script>\n",
              "        const buttonEl =\n",
              "          document.querySelector('#df-132a0368-eeeb-4042-81f4-7fcdfa4ec90e button.colab-df-convert');\n",
              "        buttonEl.style.display =\n",
              "          google.colab.kernel.accessAllowed ? 'block' : 'none';\n",
              "\n",
              "        async function convertToInteractive(key) {\n",
              "          const element = document.querySelector('#df-132a0368-eeeb-4042-81f4-7fcdfa4ec90e');\n",
              "          const dataTable =\n",
              "            await google.colab.kernel.invokeFunction('convertToInteractive',\n",
              "                                                     [key], {});\n",
              "          if (!dataTable) return;\n",
              "\n",
              "          const docLinkHtml = 'Like what you see? Visit the ' +\n",
              "            '<a target=\"_blank\" href=https://colab.research.google.com/notebooks/data_table.ipynb>data table notebook</a>'\n",
              "            + ' to learn more about interactive tables.';\n",
              "          element.innerHTML = '';\n",
              "          dataTable['output_type'] = 'display_data';\n",
              "          await google.colab.output.renderOutput(dataTable, element);\n",
              "          const docLink = document.createElement('div');\n",
              "          docLink.innerHTML = docLinkHtml;\n",
              "          element.appendChild(docLink);\n",
              "        }\n",
              "      </script>\n",
              "    </div>\n",
              "  </div>\n",
              "  "
            ]
          },
          "metadata": {},
          "execution_count": 26
        }
      ]
    },
    {
      "cell_type": "code",
      "source": [
        "data.sample(5)"
      ],
      "metadata": {
        "colab": {
          "base_uri": "https://localhost:8080/",
          "height": 456
        },
        "id": "mJWRnGw1mkig",
        "outputId": "75c5a990-21a2-4e59-9a11-9bbf8d4b9490"
      },
      "execution_count": 27,
      "outputs": [
        {
          "output_type": "execute_result",
          "data": {
            "text/plain": [
              "                id                         company_name  \\\n",
              "1953265  2051581.0      Envision Healthcare Corporation   \n",
              "16848      17385.0            Holly Nursing Care Center   \n",
              "581322    582590.0  Schlumberger Technology Corporation   \n",
              "262464    263235.0          Valiant Integrated Services   \n",
              "1201282  1237497.0                           Serco Inc.   \n",
              "\n",
              "                          establishment_name          ein  \\\n",
              "1953265                        1931-00013476    330829318   \n",
              "16848              Holly Nursing Care Center          NaN   \n",
              "581322   Schlumberger Technology Corporation          NaN   \n",
              "262464                        Hickam AFB O&M          NaN   \n",
              "1201282      Serco - Alexandria, VA - Office  222902286.0   \n",
              "\n",
              "                      street_address        city state  zip_code  naics_code  \\\n",
              "1953265       2002 S. CENTRAL AVENUE     COMPTON    CA   90220.0    621910.0   \n",
              "16848      320 North 8th, PO Box 636       Holly    CO   81047.0    623110.0   \n",
              "581322          7104 W County Rd 116     Midland    TX   79706.0    213112.0   \n",
              "262464     755 Scott Circle Rm. B115  Hickam AFB    HI   86853.0    561210.0   \n",
              "1201282  4300 King Street, Suite 101  Alexandria    VA   22302.0    336611.0   \n",
              "\n",
              "                                      industry_description  ...  \\\n",
              "1953265                  Ambulance Services, air or ground  ...   \n",
              "16848    Convalescent homes or convalescent hospitals (...  ...   \n",
              "581322      Pumping oil and gas wells on a contract basis   ...   \n",
              "262464                           Facility Support Services  ...   \n",
              "1201282                        Ship Building and Repairing  ...   \n",
              "\n",
              "         total_respiratory_conditions  total_skin_disorders  \\\n",
              "1953265                           0.0                   0.0   \n",
              "16848                             0.0                   0.0   \n",
              "581322                            0.0                   1.0   \n",
              "262464                            0.0                   0.0   \n",
              "1201282                           1.0                   0.0   \n",
              "\n",
              "         total_hearing_loss  total_other_illnesses  establishment_id  \\\n",
              "1953265                 0.0                    0.0         1033036.0   \n",
              "16848                   0.0                    0.0           63236.0   \n",
              "581322                  0.0                    1.0          444038.0   \n",
              "262464                  0.0                    0.0          131701.0   \n",
              "1201282                 0.0                    0.0          683012.0   \n",
              "\n",
              "         establishment_type  size  year_filing_for    created_timestamp  \\\n",
              "1953265                 1.0   2.0           2022.0    3/2/2023 19:14:52   \n",
              "16848                   1.0   2.0           2016.0  10/13/2017 12:19:00   \n",
              "581322                  1.0   3.0           2018.0   2/19/2019 21:10:24   \n",
              "262464                  1.0   1.0           2017.0    5/2/2018 21:00:51   \n",
              "1201282                 1.0   2.0           2020.0   2/22/2021 13:40:51   \n",
              "\n",
              "         change_reason  \n",
              "1953265            NaN  \n",
              "16848              NaN  \n",
              "581322             NaN  \n",
              "262464             NaN  \n",
              "1201282            NaN  \n",
              "\n",
              "[5 rows x 31 columns]"
            ],
            "text/html": [
              "\n",
              "  <div id=\"df-75de6ffc-9ca7-4f91-8d77-ce6fd1254f10\">\n",
              "    <div class=\"colab-df-container\">\n",
              "      <div>\n",
              "<style scoped>\n",
              "    .dataframe tbody tr th:only-of-type {\n",
              "        vertical-align: middle;\n",
              "    }\n",
              "\n",
              "    .dataframe tbody tr th {\n",
              "        vertical-align: top;\n",
              "    }\n",
              "\n",
              "    .dataframe thead th {\n",
              "        text-align: right;\n",
              "    }\n",
              "</style>\n",
              "<table border=\"1\" class=\"dataframe\">\n",
              "  <thead>\n",
              "    <tr style=\"text-align: right;\">\n",
              "      <th></th>\n",
              "      <th>id</th>\n",
              "      <th>company_name</th>\n",
              "      <th>establishment_name</th>\n",
              "      <th>ein</th>\n",
              "      <th>street_address</th>\n",
              "      <th>city</th>\n",
              "      <th>state</th>\n",
              "      <th>zip_code</th>\n",
              "      <th>naics_code</th>\n",
              "      <th>industry_description</th>\n",
              "      <th>...</th>\n",
              "      <th>total_respiratory_conditions</th>\n",
              "      <th>total_skin_disorders</th>\n",
              "      <th>total_hearing_loss</th>\n",
              "      <th>total_other_illnesses</th>\n",
              "      <th>establishment_id</th>\n",
              "      <th>establishment_type</th>\n",
              "      <th>size</th>\n",
              "      <th>year_filing_for</th>\n",
              "      <th>created_timestamp</th>\n",
              "      <th>change_reason</th>\n",
              "    </tr>\n",
              "  </thead>\n",
              "  <tbody>\n",
              "    <tr>\n",
              "      <th>1953265</th>\n",
              "      <td>2051581.0</td>\n",
              "      <td>Envision Healthcare Corporation</td>\n",
              "      <td>1931-00013476</td>\n",
              "      <td>330829318</td>\n",
              "      <td>2002 S. CENTRAL AVENUE</td>\n",
              "      <td>COMPTON</td>\n",
              "      <td>CA</td>\n",
              "      <td>90220.0</td>\n",
              "      <td>621910.0</td>\n",
              "      <td>Ambulance Services, air or ground</td>\n",
              "      <td>...</td>\n",
              "      <td>0.0</td>\n",
              "      <td>0.0</td>\n",
              "      <td>0.0</td>\n",
              "      <td>0.0</td>\n",
              "      <td>1033036.0</td>\n",
              "      <td>1.0</td>\n",
              "      <td>2.0</td>\n",
              "      <td>2022.0</td>\n",
              "      <td>3/2/2023 19:14:52</td>\n",
              "      <td>NaN</td>\n",
              "    </tr>\n",
              "    <tr>\n",
              "      <th>16848</th>\n",
              "      <td>17385.0</td>\n",
              "      <td>Holly Nursing Care Center</td>\n",
              "      <td>Holly Nursing Care Center</td>\n",
              "      <td>NaN</td>\n",
              "      <td>320 North 8th, PO Box 636</td>\n",
              "      <td>Holly</td>\n",
              "      <td>CO</td>\n",
              "      <td>81047.0</td>\n",
              "      <td>623110.0</td>\n",
              "      <td>Convalescent homes or convalescent hospitals (...</td>\n",
              "      <td>...</td>\n",
              "      <td>0.0</td>\n",
              "      <td>0.0</td>\n",
              "      <td>0.0</td>\n",
              "      <td>0.0</td>\n",
              "      <td>63236.0</td>\n",
              "      <td>1.0</td>\n",
              "      <td>2.0</td>\n",
              "      <td>2016.0</td>\n",
              "      <td>10/13/2017 12:19:00</td>\n",
              "      <td>NaN</td>\n",
              "    </tr>\n",
              "    <tr>\n",
              "      <th>581322</th>\n",
              "      <td>582590.0</td>\n",
              "      <td>Schlumberger Technology Corporation</td>\n",
              "      <td>Schlumberger Technology Corporation</td>\n",
              "      <td>NaN</td>\n",
              "      <td>7104 W County Rd 116</td>\n",
              "      <td>Midland</td>\n",
              "      <td>TX</td>\n",
              "      <td>79706.0</td>\n",
              "      <td>213112.0</td>\n",
              "      <td>Pumping oil and gas wells on a contract basis</td>\n",
              "      <td>...</td>\n",
              "      <td>0.0</td>\n",
              "      <td>1.0</td>\n",
              "      <td>0.0</td>\n",
              "      <td>1.0</td>\n",
              "      <td>444038.0</td>\n",
              "      <td>1.0</td>\n",
              "      <td>3.0</td>\n",
              "      <td>2018.0</td>\n",
              "      <td>2/19/2019 21:10:24</td>\n",
              "      <td>NaN</td>\n",
              "    </tr>\n",
              "    <tr>\n",
              "      <th>262464</th>\n",
              "      <td>263235.0</td>\n",
              "      <td>Valiant Integrated Services</td>\n",
              "      <td>Hickam AFB O&amp;M</td>\n",
              "      <td>NaN</td>\n",
              "      <td>755 Scott Circle Rm. B115</td>\n",
              "      <td>Hickam AFB</td>\n",
              "      <td>HI</td>\n",
              "      <td>86853.0</td>\n",
              "      <td>561210.0</td>\n",
              "      <td>Facility Support Services</td>\n",
              "      <td>...</td>\n",
              "      <td>0.0</td>\n",
              "      <td>0.0</td>\n",
              "      <td>0.0</td>\n",
              "      <td>0.0</td>\n",
              "      <td>131701.0</td>\n",
              "      <td>1.0</td>\n",
              "      <td>1.0</td>\n",
              "      <td>2017.0</td>\n",
              "      <td>5/2/2018 21:00:51</td>\n",
              "      <td>NaN</td>\n",
              "    </tr>\n",
              "    <tr>\n",
              "      <th>1201282</th>\n",
              "      <td>1237497.0</td>\n",
              "      <td>Serco Inc.</td>\n",
              "      <td>Serco - Alexandria, VA - Office</td>\n",
              "      <td>222902286.0</td>\n",
              "      <td>4300 King Street, Suite 101</td>\n",
              "      <td>Alexandria</td>\n",
              "      <td>VA</td>\n",
              "      <td>22302.0</td>\n",
              "      <td>336611.0</td>\n",
              "      <td>Ship Building and Repairing</td>\n",
              "      <td>...</td>\n",
              "      <td>1.0</td>\n",
              "      <td>0.0</td>\n",
              "      <td>0.0</td>\n",
              "      <td>0.0</td>\n",
              "      <td>683012.0</td>\n",
              "      <td>1.0</td>\n",
              "      <td>2.0</td>\n",
              "      <td>2020.0</td>\n",
              "      <td>2/22/2021 13:40:51</td>\n",
              "      <td>NaN</td>\n",
              "    </tr>\n",
              "  </tbody>\n",
              "</table>\n",
              "<p>5 rows × 31 columns</p>\n",
              "</div>\n",
              "      <button class=\"colab-df-convert\" onclick=\"convertToInteractive('df-75de6ffc-9ca7-4f91-8d77-ce6fd1254f10')\"\n",
              "              title=\"Convert this dataframe to an interactive table.\"\n",
              "              style=\"display:none;\">\n",
              "        \n",
              "  <svg xmlns=\"http://www.w3.org/2000/svg\" height=\"24px\"viewBox=\"0 0 24 24\"\n",
              "       width=\"24px\">\n",
              "    <path d=\"M0 0h24v24H0V0z\" fill=\"none\"/>\n",
              "    <path d=\"M18.56 5.44l.94 2.06.94-2.06 2.06-.94-2.06-.94-.94-2.06-.94 2.06-2.06.94zm-11 1L8.5 8.5l.94-2.06 2.06-.94-2.06-.94L8.5 2.5l-.94 2.06-2.06.94zm10 10l.94 2.06.94-2.06 2.06-.94-2.06-.94-.94-2.06-.94 2.06-2.06.94z\"/><path d=\"M17.41 7.96l-1.37-1.37c-.4-.4-.92-.59-1.43-.59-.52 0-1.04.2-1.43.59L10.3 9.45l-7.72 7.72c-.78.78-.78 2.05 0 2.83L4 21.41c.39.39.9.59 1.41.59.51 0 1.02-.2 1.41-.59l7.78-7.78 2.81-2.81c.8-.78.8-2.07 0-2.86zM5.41 20L4 18.59l7.72-7.72 1.47 1.35L5.41 20z\"/>\n",
              "  </svg>\n",
              "      </button>\n",
              "      \n",
              "  <style>\n",
              "    .colab-df-container {\n",
              "      display:flex;\n",
              "      flex-wrap:wrap;\n",
              "      gap: 12px;\n",
              "    }\n",
              "\n",
              "    .colab-df-convert {\n",
              "      background-color: #E8F0FE;\n",
              "      border: none;\n",
              "      border-radius: 50%;\n",
              "      cursor: pointer;\n",
              "      display: none;\n",
              "      fill: #1967D2;\n",
              "      height: 32px;\n",
              "      padding: 0 0 0 0;\n",
              "      width: 32px;\n",
              "    }\n",
              "\n",
              "    .colab-df-convert:hover {\n",
              "      background-color: #E2EBFA;\n",
              "      box-shadow: 0px 1px 2px rgba(60, 64, 67, 0.3), 0px 1px 3px 1px rgba(60, 64, 67, 0.15);\n",
              "      fill: #174EA6;\n",
              "    }\n",
              "\n",
              "    [theme=dark] .colab-df-convert {\n",
              "      background-color: #3B4455;\n",
              "      fill: #D2E3FC;\n",
              "    }\n",
              "\n",
              "    [theme=dark] .colab-df-convert:hover {\n",
              "      background-color: #434B5C;\n",
              "      box-shadow: 0px 1px 3px 1px rgba(0, 0, 0, 0.15);\n",
              "      filter: drop-shadow(0px 1px 2px rgba(0, 0, 0, 0.3));\n",
              "      fill: #FFFFFF;\n",
              "    }\n",
              "  </style>\n",
              "\n",
              "      <script>\n",
              "        const buttonEl =\n",
              "          document.querySelector('#df-75de6ffc-9ca7-4f91-8d77-ce6fd1254f10 button.colab-df-convert');\n",
              "        buttonEl.style.display =\n",
              "          google.colab.kernel.accessAllowed ? 'block' : 'none';\n",
              "\n",
              "        async function convertToInteractive(key) {\n",
              "          const element = document.querySelector('#df-75de6ffc-9ca7-4f91-8d77-ce6fd1254f10');\n",
              "          const dataTable =\n",
              "            await google.colab.kernel.invokeFunction('convertToInteractive',\n",
              "                                                     [key], {});\n",
              "          if (!dataTable) return;\n",
              "\n",
              "          const docLinkHtml = 'Like what you see? Visit the ' +\n",
              "            '<a target=\"_blank\" href=https://colab.research.google.com/notebooks/data_table.ipynb>data table notebook</a>'\n",
              "            + ' to learn more about interactive tables.';\n",
              "          element.innerHTML = '';\n",
              "          dataTable['output_type'] = 'display_data';\n",
              "          await google.colab.output.renderOutput(dataTable, element);\n",
              "          const docLink = document.createElement('div');\n",
              "          docLink.innerHTML = docLinkHtml;\n",
              "          element.appendChild(docLink);\n",
              "        }\n",
              "      </script>\n",
              "    </div>\n",
              "  </div>\n",
              "  "
            ]
          },
          "metadata": {},
          "execution_count": 27
        }
      ]
    },
    {
      "cell_type": "code",
      "source": [
        "data.info()"
      ],
      "metadata": {
        "colab": {
          "base_uri": "https://localhost:8080/"
        },
        "id": "pY56xcJummHI",
        "outputId": "d651edcd-17c8-4533-a735-9c73f22bd434"
      },
      "execution_count": 28,
      "outputs": [
        {
          "output_type": "stream",
          "name": "stdout",
          "text": [
            "<class 'pandas.core.frame.DataFrame'>\n",
            "RangeIndex: 1972575 entries, 0 to 1972574\n",
            "Data columns (total 31 columns):\n",
            " #   Column                        Dtype  \n",
            "---  ------                        -----  \n",
            " 0   id                            float64\n",
            " 1   company_name                  object \n",
            " 2   establishment_name            object \n",
            " 3   ein                           object \n",
            " 4   street_address                object \n",
            " 5   city                          object \n",
            " 6   state                         object \n",
            " 7   zip_code                      float64\n",
            " 8   naics_code                    float64\n",
            " 9   industry_description          object \n",
            " 10  annual_average_employees      float64\n",
            " 11  total_hours_worked            float64\n",
            " 12  no_injuries_illnesses         float64\n",
            " 13  total_deaths                  float64\n",
            " 14  total_dafw_cases              float64\n",
            " 15  total_djtr_cases              float64\n",
            " 16  total_other_cases             float64\n",
            " 17  total_dafw_days               float64\n",
            " 18  total_djtr_days               float64\n",
            " 19  total_injuries                float64\n",
            " 20  total_poisonings              float64\n",
            " 21  total_respiratory_conditions  float64\n",
            " 22  total_skin_disorders          float64\n",
            " 23  total_hearing_loss            float64\n",
            " 24  total_other_illnesses         float64\n",
            " 25  establishment_id              float64\n",
            " 26  establishment_type            object \n",
            " 27  size                          float64\n",
            " 28  year_filing_for               float64\n",
            " 29  created_timestamp             object \n",
            " 30  change_reason                 object \n",
            "dtypes: float64(21), object(10)\n",
            "memory usage: 466.5+ MB\n"
          ]
        }
      ]
    },
    {
      "cell_type": "code",
      "source": [
        "data.describe()"
      ],
      "metadata": {
        "colab": {
          "base_uri": "https://localhost:8080/",
          "height": 393
        },
        "id": "kobRoA-emnsh",
        "outputId": "13b516d9-e7ca-47a2-cbdd-e37fa563c46c"
      },
      "execution_count": 29,
      "outputs": [
        {
          "output_type": "execute_result",
          "data": {
            "text/plain": [
              "                 id      zip_code    naics_code  annual_average_employees  \\\n",
              "count  1.972575e+06  1.972573e+06  1.972575e+06              1.972575e+06   \n",
              "mean   1.024899e+06  2.564559e+07  4.592413e+05              2.179808e+03   \n",
              "std    6.049930e+05  1.287784e+08  1.595484e+05              1.259072e+06   \n",
              "min    4.000000e+00  0.000000e+00  1.111000e+05              0.000000e+00   \n",
              "25%    4.944315e+05  2.980500e+04  3.328120e+05              2.300000e+01   \n",
              "50%    1.019216e+06  5.240400e+04  4.451100e+05              4.800000e+01   \n",
              "75%    1.558474e+06  7.990700e+04  5.616120e+05              1.150000e+02   \n",
              "max    2.071489e+06  9.993000e+08  9.999990e+05              1.331667e+09   \n",
              "\n",
              "       total_hours_worked  no_injuries_illnesses  total_deaths  \\\n",
              "count        1.972562e+06           1.972573e+06  1.972574e+06   \n",
              "mean         8.946953e+06           1.358583e+00  3.252096e-03   \n",
              "std          1.198439e+10           4.795845e-01  6.750226e-02   \n",
              "min         -4.000000e+00           1.000000e+00  0.000000e+00   \n",
              "25%          3.570500e+04           1.000000e+00  0.000000e+00   \n",
              "50%          8.112000e+04           1.000000e+00  0.000000e+00   \n",
              "75%          1.964528e+05           2.000000e+00  0.000000e+00   \n",
              "max          1.683162e+13           2.000000e+00  2.700000e+01   \n",
              "\n",
              "       total_dafw_cases  total_djtr_cases  total_other_cases  ...  \\\n",
              "count      1.972575e+06      1.972574e+06       1.972574e+06  ...   \n",
              "mean       1.792612e+00      1.341494e+00       1.690260e+00  ...   \n",
              "std        9.654402e+00      7.475304e+00       8.711924e+00  ...   \n",
              "min        0.000000e+00      0.000000e+00      -1.000000e+00  ...   \n",
              "25%        0.000000e+00      0.000000e+00       0.000000e+00  ...   \n",
              "50%        0.000000e+00      0.000000e+00       0.000000e+00  ...   \n",
              "75%        1.000000e+00      1.000000e+00       1.000000e+00  ...   \n",
              "max        1.789000e+03      2.277000e+03       1.596000e+03  ...   \n",
              "\n",
              "       total_djtr_days  total_injuries  total_poisonings  \\\n",
              "count     1.972574e+06    1.972574e+06      1.972574e+06   \n",
              "mean      1.139768e+02    4.180021e+00      2.051127e-03   \n",
              "std       5.008029e+04    1.718074e+01      7.783268e-02   \n",
              "min      -1.730000e+02   -1.000000e+00      0.000000e+00   \n",
              "25%       0.000000e+00    0.000000e+00      0.000000e+00   \n",
              "50%       0.000000e+00    1.000000e+00      0.000000e+00   \n",
              "75%       3.500000e+01    4.000000e+00      0.000000e+00   \n",
              "max       7.024762e+07    4.563000e+03      3.100000e+01   \n",
              "\n",
              "       total_respiratory_conditions  total_skin_disorders  total_hearing_loss  \\\n",
              "count                  1.972574e+06          1.972574e+06        1.972574e+06   \n",
              "mean                   3.301270e-01          2.758325e-02        3.657353e-02   \n",
              "std                    5.637211e+00          4.002607e-01        6.221094e-01   \n",
              "min                    0.000000e+00          0.000000e+00        0.000000e+00   \n",
              "25%                    0.000000e+00          0.000000e+00        0.000000e+00   \n",
              "50%                    0.000000e+00          0.000000e+00        0.000000e+00   \n",
              "75%                    0.000000e+00          0.000000e+00        0.000000e+00   \n",
              "max                    1.696000e+03          1.260000e+02        1.990000e+02   \n",
              "\n",
              "       total_other_illnesses  establishment_id          size  year_filing_for  \n",
              "count           1.972574e+06      1.972574e+06  1.972575e+06     1.972574e+06  \n",
              "mean            2.512636e-01      4.202365e+05  1.956810e+00     2.019205e+03  \n",
              "std             3.779218e+00      2.696314e+05  5.204514e-01     1.956930e+00  \n",
              "min             0.000000e+00      4.192000e+04  1.000000e+00     2.016000e+03  \n",
              "25%             0.000000e+00      1.900920e+05  2.000000e+00     2.018000e+03  \n",
              "50%             0.000000e+00      3.695960e+05  2.000000e+00     2.019000e+03  \n",
              "75%             0.000000e+00      6.134658e+05  2.000000e+00     2.021000e+03  \n",
              "max             1.067000e+03      1.044674e+06  3.000000e+00     2.022000e+03  \n",
              "\n",
              "[8 rows x 21 columns]"
            ],
            "text/html": [
              "\n",
              "  <div id=\"df-60a5dfce-77fd-41ed-aeb0-77d1af70e091\">\n",
              "    <div class=\"colab-df-container\">\n",
              "      <div>\n",
              "<style scoped>\n",
              "    .dataframe tbody tr th:only-of-type {\n",
              "        vertical-align: middle;\n",
              "    }\n",
              "\n",
              "    .dataframe tbody tr th {\n",
              "        vertical-align: top;\n",
              "    }\n",
              "\n",
              "    .dataframe thead th {\n",
              "        text-align: right;\n",
              "    }\n",
              "</style>\n",
              "<table border=\"1\" class=\"dataframe\">\n",
              "  <thead>\n",
              "    <tr style=\"text-align: right;\">\n",
              "      <th></th>\n",
              "      <th>id</th>\n",
              "      <th>zip_code</th>\n",
              "      <th>naics_code</th>\n",
              "      <th>annual_average_employees</th>\n",
              "      <th>total_hours_worked</th>\n",
              "      <th>no_injuries_illnesses</th>\n",
              "      <th>total_deaths</th>\n",
              "      <th>total_dafw_cases</th>\n",
              "      <th>total_djtr_cases</th>\n",
              "      <th>total_other_cases</th>\n",
              "      <th>...</th>\n",
              "      <th>total_djtr_days</th>\n",
              "      <th>total_injuries</th>\n",
              "      <th>total_poisonings</th>\n",
              "      <th>total_respiratory_conditions</th>\n",
              "      <th>total_skin_disorders</th>\n",
              "      <th>total_hearing_loss</th>\n",
              "      <th>total_other_illnesses</th>\n",
              "      <th>establishment_id</th>\n",
              "      <th>size</th>\n",
              "      <th>year_filing_for</th>\n",
              "    </tr>\n",
              "  </thead>\n",
              "  <tbody>\n",
              "    <tr>\n",
              "      <th>count</th>\n",
              "      <td>1.972575e+06</td>\n",
              "      <td>1.972573e+06</td>\n",
              "      <td>1.972575e+06</td>\n",
              "      <td>1.972575e+06</td>\n",
              "      <td>1.972562e+06</td>\n",
              "      <td>1.972573e+06</td>\n",
              "      <td>1.972574e+06</td>\n",
              "      <td>1.972575e+06</td>\n",
              "      <td>1.972574e+06</td>\n",
              "      <td>1.972574e+06</td>\n",
              "      <td>...</td>\n",
              "      <td>1.972574e+06</td>\n",
              "      <td>1.972574e+06</td>\n",
              "      <td>1.972574e+06</td>\n",
              "      <td>1.972574e+06</td>\n",
              "      <td>1.972574e+06</td>\n",
              "      <td>1.972574e+06</td>\n",
              "      <td>1.972574e+06</td>\n",
              "      <td>1.972574e+06</td>\n",
              "      <td>1.972575e+06</td>\n",
              "      <td>1.972574e+06</td>\n",
              "    </tr>\n",
              "    <tr>\n",
              "      <th>mean</th>\n",
              "      <td>1.024899e+06</td>\n",
              "      <td>2.564559e+07</td>\n",
              "      <td>4.592413e+05</td>\n",
              "      <td>2.179808e+03</td>\n",
              "      <td>8.946953e+06</td>\n",
              "      <td>1.358583e+00</td>\n",
              "      <td>3.252096e-03</td>\n",
              "      <td>1.792612e+00</td>\n",
              "      <td>1.341494e+00</td>\n",
              "      <td>1.690260e+00</td>\n",
              "      <td>...</td>\n",
              "      <td>1.139768e+02</td>\n",
              "      <td>4.180021e+00</td>\n",
              "      <td>2.051127e-03</td>\n",
              "      <td>3.301270e-01</td>\n",
              "      <td>2.758325e-02</td>\n",
              "      <td>3.657353e-02</td>\n",
              "      <td>2.512636e-01</td>\n",
              "      <td>4.202365e+05</td>\n",
              "      <td>1.956810e+00</td>\n",
              "      <td>2.019205e+03</td>\n",
              "    </tr>\n",
              "    <tr>\n",
              "      <th>std</th>\n",
              "      <td>6.049930e+05</td>\n",
              "      <td>1.287784e+08</td>\n",
              "      <td>1.595484e+05</td>\n",
              "      <td>1.259072e+06</td>\n",
              "      <td>1.198439e+10</td>\n",
              "      <td>4.795845e-01</td>\n",
              "      <td>6.750226e-02</td>\n",
              "      <td>9.654402e+00</td>\n",
              "      <td>7.475304e+00</td>\n",
              "      <td>8.711924e+00</td>\n",
              "      <td>...</td>\n",
              "      <td>5.008029e+04</td>\n",
              "      <td>1.718074e+01</td>\n",
              "      <td>7.783268e-02</td>\n",
              "      <td>5.637211e+00</td>\n",
              "      <td>4.002607e-01</td>\n",
              "      <td>6.221094e-01</td>\n",
              "      <td>3.779218e+00</td>\n",
              "      <td>2.696314e+05</td>\n",
              "      <td>5.204514e-01</td>\n",
              "      <td>1.956930e+00</td>\n",
              "    </tr>\n",
              "    <tr>\n",
              "      <th>min</th>\n",
              "      <td>4.000000e+00</td>\n",
              "      <td>0.000000e+00</td>\n",
              "      <td>1.111000e+05</td>\n",
              "      <td>0.000000e+00</td>\n",
              "      <td>-4.000000e+00</td>\n",
              "      <td>1.000000e+00</td>\n",
              "      <td>0.000000e+00</td>\n",
              "      <td>0.000000e+00</td>\n",
              "      <td>0.000000e+00</td>\n",
              "      <td>-1.000000e+00</td>\n",
              "      <td>...</td>\n",
              "      <td>-1.730000e+02</td>\n",
              "      <td>-1.000000e+00</td>\n",
              "      <td>0.000000e+00</td>\n",
              "      <td>0.000000e+00</td>\n",
              "      <td>0.000000e+00</td>\n",
              "      <td>0.000000e+00</td>\n",
              "      <td>0.000000e+00</td>\n",
              "      <td>4.192000e+04</td>\n",
              "      <td>1.000000e+00</td>\n",
              "      <td>2.016000e+03</td>\n",
              "    </tr>\n",
              "    <tr>\n",
              "      <th>25%</th>\n",
              "      <td>4.944315e+05</td>\n",
              "      <td>2.980500e+04</td>\n",
              "      <td>3.328120e+05</td>\n",
              "      <td>2.300000e+01</td>\n",
              "      <td>3.570500e+04</td>\n",
              "      <td>1.000000e+00</td>\n",
              "      <td>0.000000e+00</td>\n",
              "      <td>0.000000e+00</td>\n",
              "      <td>0.000000e+00</td>\n",
              "      <td>0.000000e+00</td>\n",
              "      <td>...</td>\n",
              "      <td>0.000000e+00</td>\n",
              "      <td>0.000000e+00</td>\n",
              "      <td>0.000000e+00</td>\n",
              "      <td>0.000000e+00</td>\n",
              "      <td>0.000000e+00</td>\n",
              "      <td>0.000000e+00</td>\n",
              "      <td>0.000000e+00</td>\n",
              "      <td>1.900920e+05</td>\n",
              "      <td>2.000000e+00</td>\n",
              "      <td>2.018000e+03</td>\n",
              "    </tr>\n",
              "    <tr>\n",
              "      <th>50%</th>\n",
              "      <td>1.019216e+06</td>\n",
              "      <td>5.240400e+04</td>\n",
              "      <td>4.451100e+05</td>\n",
              "      <td>4.800000e+01</td>\n",
              "      <td>8.112000e+04</td>\n",
              "      <td>1.000000e+00</td>\n",
              "      <td>0.000000e+00</td>\n",
              "      <td>0.000000e+00</td>\n",
              "      <td>0.000000e+00</td>\n",
              "      <td>0.000000e+00</td>\n",
              "      <td>...</td>\n",
              "      <td>0.000000e+00</td>\n",
              "      <td>1.000000e+00</td>\n",
              "      <td>0.000000e+00</td>\n",
              "      <td>0.000000e+00</td>\n",
              "      <td>0.000000e+00</td>\n",
              "      <td>0.000000e+00</td>\n",
              "      <td>0.000000e+00</td>\n",
              "      <td>3.695960e+05</td>\n",
              "      <td>2.000000e+00</td>\n",
              "      <td>2.019000e+03</td>\n",
              "    </tr>\n",
              "    <tr>\n",
              "      <th>75%</th>\n",
              "      <td>1.558474e+06</td>\n",
              "      <td>7.990700e+04</td>\n",
              "      <td>5.616120e+05</td>\n",
              "      <td>1.150000e+02</td>\n",
              "      <td>1.964528e+05</td>\n",
              "      <td>2.000000e+00</td>\n",
              "      <td>0.000000e+00</td>\n",
              "      <td>1.000000e+00</td>\n",
              "      <td>1.000000e+00</td>\n",
              "      <td>1.000000e+00</td>\n",
              "      <td>...</td>\n",
              "      <td>3.500000e+01</td>\n",
              "      <td>4.000000e+00</td>\n",
              "      <td>0.000000e+00</td>\n",
              "      <td>0.000000e+00</td>\n",
              "      <td>0.000000e+00</td>\n",
              "      <td>0.000000e+00</td>\n",
              "      <td>0.000000e+00</td>\n",
              "      <td>6.134658e+05</td>\n",
              "      <td>2.000000e+00</td>\n",
              "      <td>2.021000e+03</td>\n",
              "    </tr>\n",
              "    <tr>\n",
              "      <th>max</th>\n",
              "      <td>2.071489e+06</td>\n",
              "      <td>9.993000e+08</td>\n",
              "      <td>9.999990e+05</td>\n",
              "      <td>1.331667e+09</td>\n",
              "      <td>1.683162e+13</td>\n",
              "      <td>2.000000e+00</td>\n",
              "      <td>2.700000e+01</td>\n",
              "      <td>1.789000e+03</td>\n",
              "      <td>2.277000e+03</td>\n",
              "      <td>1.596000e+03</td>\n",
              "      <td>...</td>\n",
              "      <td>7.024762e+07</td>\n",
              "      <td>4.563000e+03</td>\n",
              "      <td>3.100000e+01</td>\n",
              "      <td>1.696000e+03</td>\n",
              "      <td>1.260000e+02</td>\n",
              "      <td>1.990000e+02</td>\n",
              "      <td>1.067000e+03</td>\n",
              "      <td>1.044674e+06</td>\n",
              "      <td>3.000000e+00</td>\n",
              "      <td>2.022000e+03</td>\n",
              "    </tr>\n",
              "  </tbody>\n",
              "</table>\n",
              "<p>8 rows × 21 columns</p>\n",
              "</div>\n",
              "      <button class=\"colab-df-convert\" onclick=\"convertToInteractive('df-60a5dfce-77fd-41ed-aeb0-77d1af70e091')\"\n",
              "              title=\"Convert this dataframe to an interactive table.\"\n",
              "              style=\"display:none;\">\n",
              "        \n",
              "  <svg xmlns=\"http://www.w3.org/2000/svg\" height=\"24px\"viewBox=\"0 0 24 24\"\n",
              "       width=\"24px\">\n",
              "    <path d=\"M0 0h24v24H0V0z\" fill=\"none\"/>\n",
              "    <path d=\"M18.56 5.44l.94 2.06.94-2.06 2.06-.94-2.06-.94-.94-2.06-.94 2.06-2.06.94zm-11 1L8.5 8.5l.94-2.06 2.06-.94-2.06-.94L8.5 2.5l-.94 2.06-2.06.94zm10 10l.94 2.06.94-2.06 2.06-.94-2.06-.94-.94-2.06-.94 2.06-2.06.94z\"/><path d=\"M17.41 7.96l-1.37-1.37c-.4-.4-.92-.59-1.43-.59-.52 0-1.04.2-1.43.59L10.3 9.45l-7.72 7.72c-.78.78-.78 2.05 0 2.83L4 21.41c.39.39.9.59 1.41.59.51 0 1.02-.2 1.41-.59l7.78-7.78 2.81-2.81c.8-.78.8-2.07 0-2.86zM5.41 20L4 18.59l7.72-7.72 1.47 1.35L5.41 20z\"/>\n",
              "  </svg>\n",
              "      </button>\n",
              "      \n",
              "  <style>\n",
              "    .colab-df-container {\n",
              "      display:flex;\n",
              "      flex-wrap:wrap;\n",
              "      gap: 12px;\n",
              "    }\n",
              "\n",
              "    .colab-df-convert {\n",
              "      background-color: #E8F0FE;\n",
              "      border: none;\n",
              "      border-radius: 50%;\n",
              "      cursor: pointer;\n",
              "      display: none;\n",
              "      fill: #1967D2;\n",
              "      height: 32px;\n",
              "      padding: 0 0 0 0;\n",
              "      width: 32px;\n",
              "    }\n",
              "\n",
              "    .colab-df-convert:hover {\n",
              "      background-color: #E2EBFA;\n",
              "      box-shadow: 0px 1px 2px rgba(60, 64, 67, 0.3), 0px 1px 3px 1px rgba(60, 64, 67, 0.15);\n",
              "      fill: #174EA6;\n",
              "    }\n",
              "\n",
              "    [theme=dark] .colab-df-convert {\n",
              "      background-color: #3B4455;\n",
              "      fill: #D2E3FC;\n",
              "    }\n",
              "\n",
              "    [theme=dark] .colab-df-convert:hover {\n",
              "      background-color: #434B5C;\n",
              "      box-shadow: 0px 1px 3px 1px rgba(0, 0, 0, 0.15);\n",
              "      filter: drop-shadow(0px 1px 2px rgba(0, 0, 0, 0.3));\n",
              "      fill: #FFFFFF;\n",
              "    }\n",
              "  </style>\n",
              "\n",
              "      <script>\n",
              "        const buttonEl =\n",
              "          document.querySelector('#df-60a5dfce-77fd-41ed-aeb0-77d1af70e091 button.colab-df-convert');\n",
              "        buttonEl.style.display =\n",
              "          google.colab.kernel.accessAllowed ? 'block' : 'none';\n",
              "\n",
              "        async function convertToInteractive(key) {\n",
              "          const element = document.querySelector('#df-60a5dfce-77fd-41ed-aeb0-77d1af70e091');\n",
              "          const dataTable =\n",
              "            await google.colab.kernel.invokeFunction('convertToInteractive',\n",
              "                                                     [key], {});\n",
              "          if (!dataTable) return;\n",
              "\n",
              "          const docLinkHtml = 'Like what you see? Visit the ' +\n",
              "            '<a target=\"_blank\" href=https://colab.research.google.com/notebooks/data_table.ipynb>data table notebook</a>'\n",
              "            + ' to learn more about interactive tables.';\n",
              "          element.innerHTML = '';\n",
              "          dataTable['output_type'] = 'display_data';\n",
              "          await google.colab.output.renderOutput(dataTable, element);\n",
              "          const docLink = document.createElement('div');\n",
              "          docLink.innerHTML = docLinkHtml;\n",
              "          element.appendChild(docLink);\n",
              "        }\n",
              "      </script>\n",
              "    </div>\n",
              "  </div>\n",
              "  "
            ]
          },
          "metadata": {},
          "execution_count": 29
        }
      ]
    },
    {
      "cell_type": "markdown",
      "source": [
        "## 2.2 Data Cleaning"
      ],
      "metadata": {
        "id": "xtoUFvP6n9WI"
      }
    },
    {
      "cell_type": "markdown",
      "source": [
        "**We will examine the columns and their values**"
      ],
      "metadata": {
        "id": "1M9iESrNoNba"
      }
    },
    {
      "cell_type": "markdown",
      "source": [
        "### 2.2.1 Columns"
      ],
      "metadata": {
        "id": "TVUMJrYeoSZe"
      }
    },
    {
      "cell_type": "code",
      "source": [
        "data.columns"
      ],
      "metadata": {
        "colab": {
          "base_uri": "https://localhost:8080/"
        },
        "id": "3evXY_4Bmq58",
        "outputId": "ba38c7bb-77f3-4f8c-aba2-edf7739e31f4"
      },
      "execution_count": 30,
      "outputs": [
        {
          "output_type": "execute_result",
          "data": {
            "text/plain": [
              "Index(['id', 'company_name', 'establishment_name', 'ein', 'street_address',\n",
              "       'city', 'state', 'zip_code', 'naics_code', 'industry_description',\n",
              "       'annual_average_employees', 'total_hours_worked',\n",
              "       'no_injuries_illnesses', 'total_deaths', 'total_dafw_cases',\n",
              "       'total_djtr_cases', 'total_other_cases', 'total_dafw_days',\n",
              "       'total_djtr_days', 'total_injuries', 'total_poisonings',\n",
              "       'total_respiratory_conditions', 'total_skin_disorders',\n",
              "       'total_hearing_loss', 'total_other_illnesses', 'establishment_id',\n",
              "       'establishment_type', 'size', 'year_filing_for', 'created_timestamp',\n",
              "       'change_reason'],\n",
              "      dtype='object')"
            ]
          },
          "metadata": {},
          "execution_count": 30
        }
      ]
    },
    {
      "cell_type": "markdown",
      "source": [
        "#### 2.2.1.1 id"
      ],
      "metadata": {
        "id": "XzF6OlDLokSq"
      }
    },
    {
      "cell_type": "code",
      "source": [
        "data['id'].nunique()"
      ],
      "metadata": {
        "colab": {
          "base_uri": "https://localhost:8080/"
        },
        "id": "PlwBukbgodzP",
        "outputId": "817832b9-6ccf-4c84-bff0-001ba4f63921"
      },
      "execution_count": 31,
      "outputs": [
        {
          "output_type": "execute_result",
          "data": {
            "text/plain": [
              "1972575"
            ]
          },
          "metadata": {},
          "execution_count": 31
        }
      ]
    },
    {
      "cell_type": "markdown",
      "source": [
        "**As a result, there are no duplicate identifiers**"
      ],
      "metadata": {
        "id": "WjDBheTaoxsb"
      }
    },
    {
      "cell_type": "markdown",
      "source": [
        "#### 2.2.1.2 company_name"
      ],
      "metadata": {
        "id": "z3d3D5xPpShg"
      }
    },
    {
      "cell_type": "code",
      "source": [
        "data['company_name'].value_counts()"
      ],
      "metadata": {
        "colab": {
          "base_uri": "https://localhost:8080/"
        },
        "id": "3j8M7QJVpJAD",
        "outputId": "c8f4477e-5076-429b-9904-98a48d318fef"
      },
      "execution_count": 33,
      "outputs": [
        {
          "output_type": "execute_result",
          "data": {
            "text/plain": [
              "USPS                    31780\n",
              "Ricoh USA Inc           23766\n",
              "US Postal Service       18191\n",
              "SODEXO                  18040\n",
              "Dollar Tree             14682\n",
              "                        ...  \n",
              "Gentry heating inc          1\n",
              "VILLAGE OF MARINE           1\n",
              "Payless Insulation          1\n",
              "Jacobo Farm Services        1\n",
              "Matrix Surfaces Inc         1\n",
              "Name: company_name, Length: 252166, dtype: int64"
            ]
          },
          "metadata": {},
          "execution_count": 33
        }
      ]
    },
    {
      "cell_type": "code",
      "source": [
        "data['company_name'] = data['company_name'].replace('US Postal Service', 'USPS')"
      ],
      "metadata": {
        "id": "Nt6ChfcKsmr4"
      },
      "execution_count": 42,
      "outputs": []
    },
    {
      "cell_type": "code",
      "source": [
        "data['company_name'].value_counts()"
      ],
      "metadata": {
        "colab": {
          "base_uri": "https://localhost:8080/"
        },
        "id": "_ORd_fqmuCU_",
        "outputId": "98d60fa5-5956-445c-8beb-0549d53f9123"
      },
      "execution_count": 43,
      "outputs": [
        {
          "output_type": "execute_result",
          "data": {
            "text/plain": [
              "USPS                             49971\n",
              "Ricoh USA Inc                    23766\n",
              "SODEXO                           18040\n",
              "Dollar Tree                      14682\n",
              "Wal-Mart Stores Inc.             14098\n",
              "                                 ...  \n",
              "ArmorStruxx, LLC.                    1\n",
              "Global A 1st Flagship Company        1\n",
              "Minnesota Roadways Co                1\n",
              "GoodFibers                           1\n",
              "Matrix Surfaces Inc                  1\n",
              "Name: company_name, Length: 252165, dtype: int64"
            ]
          },
          "metadata": {},
          "execution_count": 43
        }
      ]
    },
    {
      "cell_type": "markdown",
      "source": [
        "**Most of the injuries involved the United States Postal Service (USPS). Next is Ricoh USA Inc, a digital service provider. The third place with the most injuries is Sodexo, which is a French food service and facilities management company.**"
      ],
      "metadata": {
        "id": "W2GHYRlAuOKI"
      }
    },
    {
      "cell_type": "markdown",
      "source": [
        "#### 2.2.1.3 establishment_name"
      ],
      "metadata": {
        "id": "5HXG4kaEuUqh"
      }
    },
    {
      "cell_type": "code",
      "source": [
        "data['establishment_name'].value_counts()"
      ],
      "metadata": {
        "colab": {
          "base_uri": "https://localhost:8080/"
        },
        "id": "HxnhSDwQsNtm",
        "outputId": "14e1134a-7731-4c07-ccee-f5d7962f53d3"
      },
      "execution_count": 44,
      "outputs": [
        {
          "output_type": "execute_result",
          "data": {
            "text/plain": [
              "Main Office                                  1275\n",
              "Corporate Office                              891\n",
              "Corporate                                     816\n",
              "Construction                                  735\n",
              "Headquarters                                  596\n",
              "                                             ... \n",
              "Baltimore Central Booking & Intake Center       1\n",
              "Three Trade Consultants, Inc                    1\n",
              "Catholic Residential Services                   1\n",
              "Lee Company - Fab Shop                          1\n",
              "Matrix Surfaces Inc                             1\n",
              "Name: establishment_name, Length: 770490, dtype: int64"
            ]
          },
          "metadata": {},
          "execution_count": 44
        }
      ]
    },
    {
      "cell_type": "markdown",
      "source": [
        "**It can be seen that most of the Injuries were in the main offices**"
      ],
      "metadata": {
        "id": "NIHFczqWu_Le"
      }
    },
    {
      "cell_type": "markdown",
      "source": [
        "#### 2.2.1.4 ein"
      ],
      "metadata": {
        "id": "X1MgObi_vVzw"
      }
    },
    {
      "cell_type": "code",
      "source": [
        "data['ein'].nunique()"
      ],
      "metadata": {
        "colab": {
          "base_uri": "https://localhost:8080/"
        },
        "id": "n425qP1Jui4h",
        "outputId": "6b313a47-05f5-4578-ce47-d9cb62878b0a"
      },
      "execution_count": 46,
      "outputs": [
        {
          "output_type": "execute_result",
          "data": {
            "text/plain": [
              "223624"
            ]
          },
          "metadata": {},
          "execution_count": 46
        }
      ]
    },
    {
      "cell_type": "code",
      "source": [
        "data['ein'].unique()"
      ],
      "metadata": {
        "colab": {
          "base_uri": "https://localhost:8080/"
        },
        "id": "QdQhgTC4vjm0",
        "outputId": "37c48628-ca4a-4a6e-c221-04df32c26e76"
      },
      "execution_count": 47,
      "outputs": [
        {
          "output_type": "execute_result",
          "data": {
            "text/plain": [
              "array([nan, 232922276.0, 263354553.0, ..., '800825611', '464591942',\n",
              "       '330943467'], dtype=object)"
            ]
          },
          "metadata": {},
          "execution_count": 47
        }
      ]
    },
    {
      "cell_type": "code",
      "source": [
        "data['ein'].isnull().sum()"
      ],
      "metadata": {
        "colab": {
          "base_uri": "https://localhost:8080/"
        },
        "id": "BWyLrf4mv2kX",
        "outputId": "071dee55-934e-47e9-e467-2de80666e33b"
      },
      "execution_count": 48,
      "outputs": [
        {
          "output_type": "execute_result",
          "data": {
            "text/plain": [
              "911056"
            ]
          },
          "metadata": {},
          "execution_count": 48
        }
      ]
    },
    {
      "cell_type": "markdown",
      "source": [
        "**It can be seen that the employers' identification numbers (EIN) are not all unique and there is also missing data in this column**"
      ],
      "metadata": {
        "id": "a4cC3oiJv_OG"
      }
    },
    {
      "cell_type": "markdown",
      "source": [
        "#### 2.2.1.5 street_address"
      ],
      "metadata": {
        "id": "j8lGwdZ4wU1h"
      }
    },
    {
      "cell_type": "code",
      "source": [
        "data['street_address'].value_counts()"
      ],
      "metadata": {
        "colab": {
          "base_uri": "https://localhost:8080/"
        },
        "id": "3mJqo9-rv-l8",
        "outputId": "e4f95ebc-d31f-473a-a0f7-58884c58e7c5"
      },
      "execution_count": 49,
      "outputs": [
        {
          "output_type": "execute_result",
          "data": {
            "text/plain": [
              "VIRTUAL                                   13125\n",
              "1350 EUCLID AVE                             682\n",
              "19387 US 19 N                               541\n",
              "OFFSITE                                     524\n",
              "241 Ralph McGill Boulevard NE BIN10180      468\n",
              "                                          ...  \n",
              "1030 W. Alex-Bell Road                        1\n",
              "LAMBERT ST. LOUIS INT. AIRPORT                1\n",
              "16443 Minnesota Ave                           1\n",
              "7100 Glacier Hwy                              1\n",
              "5449 E La Palma Ave                           1\n",
              "Name: street_address, Length: 712499, dtype: int64"
            ]
          },
          "metadata": {},
          "execution_count": 49
        }
      ]
    },
    {
      "cell_type": "code",
      "source": [
        "data['street_address'].nunique()"
      ],
      "metadata": {
        "colab": {
          "base_uri": "https://localhost:8080/"
        },
        "id": "fLCuIG3uvzjl",
        "outputId": "57331cba-76ff-4570-adab-605e167df250"
      },
      "execution_count": 50,
      "outputs": [
        {
          "output_type": "execute_result",
          "data": {
            "text/plain": [
              "712499"
            ]
          },
          "metadata": {},
          "execution_count": 50
        }
      ]
    },
    {
      "cell_type": "markdown",
      "source": [
        "**All rows are for 712,499 streets in the United States. The most records have been recorded on Virtual Street.**"
      ],
      "metadata": {
        "id": "_g5AruD_wskw"
      }
    },
    {
      "cell_type": "markdown",
      "source": [
        "#### 2.2.1.6 city"
      ],
      "metadata": {
        "id": "Jiuw0xtPxH5d"
      }
    },
    {
      "cell_type": "code",
      "source": [
        "data['city'].value_counts()"
      ],
      "metadata": {
        "colab": {
          "base_uri": "https://localhost:8080/"
        },
        "id": "3Fsday0Nwo5a",
        "outputId": "734b522f-19ce-4ca9-bc2f-b831ba5fd736"
      },
      "execution_count": 51,
      "outputs": [
        {
          "output_type": "execute_result",
          "data": {
            "text/plain": [
              "Houston                           15322\n",
              "Phoenix                            7613\n",
              "Chicago                            7406\n",
              "Columbus                           6840\n",
              "Indianapolis                       6431\n",
              "                                  ...  \n",
              "GLENDIVE                              1\n",
              "GREAT FALLS                           1\n",
              "HAVRE                                 1\n",
              "HELENA                                1\n",
              "Belleuve                              1\n",
              "Name: city, Length: 46506, dtype: int64"
            ]
          },
          "metadata": {},
          "execution_count": 51
        }
      ]
    },
    {
      "cell_type": "code",
      "source": [
        "data['city'].nunique()"
      ],
      "metadata": {
        "colab": {
          "base_uri": "https://localhost:8080/"
        },
        "id": "V2zUGRBTxR8Y",
        "outputId": "8f1738d1-2ebc-45b9-e3a5-7ec0962e3c26"
      },
      "execution_count": 52,
      "outputs": [
        {
          "output_type": "execute_result",
          "data": {
            "text/plain": [
              "46506"
            ]
          },
          "metadata": {},
          "execution_count": 52
        }
      ]
    },
    {
      "cell_type": "markdown",
      "source": [
        "**All rows correspond to 46,506 cities in the United States. The most records are recorded in the city of Houston.**"
      ],
      "metadata": {
        "id": "P5xjNmvpx8yK"
      }
    },
    {
      "cell_type": "markdown",
      "source": [
        "#### 2.2.1.7 state"
      ],
      "metadata": {
        "id": "CYG9LOvcy_5k"
      }
    },
    {
      "cell_type": "code",
      "source": [
        "data['state'].value_counts()"
      ],
      "metadata": {
        "colab": {
          "base_uri": "https://localhost:8080/"
        },
        "id": "tw1bw0iLxXQ-",
        "outputId": "e24773c2-7a27-4726-fb2c-2cc557210c54"
      },
      "execution_count": 53,
      "outputs": [
        {
          "output_type": "execute_result",
          "data": {
            "text/plain": [
              "CA    198270\n",
              "TX    150830\n",
              "FL    105925\n",
              "OH     91801\n",
              "PA     90333\n",
              "       ...  \n",
              "va         1\n",
              "wv         1\n",
              "mn         1\n",
              "Mo         1\n",
              "Va         1\n",
              "Name: state, Length: 99, dtype: int64"
            ]
          },
          "metadata": {},
          "execution_count": 53
        }
      ]
    },
    {
      "cell_type": "code",
      "source": [
        "data['state'].nunique()"
      ],
      "metadata": {
        "colab": {
          "base_uri": "https://localhost:8080/"
        },
        "id": "_ZJwH_lXzzoy",
        "outputId": "76454a28-dd4c-42e9-c269-e7586e9ca827"
      },
      "execution_count": 54,
      "outputs": [
        {
          "output_type": "execute_result",
          "data": {
            "text/plain": [
              "99"
            ]
          },
          "metadata": {},
          "execution_count": 54
        }
      ]
    },
    {
      "cell_type": "markdown",
      "source": [
        "**Of the 99 states recorded in this dataset, most of them were in California, Texas and Florida**"
      ],
      "metadata": {
        "id": "vptA1_7R0pwv"
      }
    },
    {
      "cell_type": "markdown",
      "source": [
        "#### 2.2.1.8 zip_code"
      ],
      "metadata": {
        "id": "UxgdLJW_1aDk"
      }
    },
    {
      "cell_type": "code",
      "source": [
        "data['zip_code'].value_counts()"
      ],
      "metadata": {
        "colab": {
          "base_uri": "https://localhost:8080/"
        },
        "id": "VLN0l13Lz29g",
        "outputId": "1049ae28-d61d-4775-fcce-94a0e1497d7e"
      },
      "execution_count": 55,
      "outputs": [
        {
          "output_type": "execute_result",
          "data": {
            "text/plain": [
              "91761.0        1658\n",
              "28273.0        1364\n",
              "33619.0        1357\n",
              "77041.0        1349\n",
              "90670.0        1307\n",
              "               ... \n",
              "3024.0            1\n",
              "17312.0           1\n",
              "483402857.0       1\n",
              "8813.0            1\n",
              "64432905.0        1\n",
              "Name: zip_code, Length: 71704, dtype: int64"
            ]
          },
          "metadata": {},
          "execution_count": 55
        }
      ]
    },
    {
      "cell_type": "code",
      "source": [
        "data['zip_code'].nunique()"
      ],
      "metadata": {
        "colab": {
          "base_uri": "https://localhost:8080/"
        },
        "id": "fjJ3-oGP1jQy",
        "outputId": "2d6a720d-de6a-4795-aed2-229713cbf142"
      },
      "execution_count": 56,
      "outputs": [
        {
          "output_type": "execute_result",
          "data": {
            "text/plain": [
              "71704"
            ]
          },
          "metadata": {},
          "execution_count": 56
        }
      ]
    },
    {
      "cell_type": "markdown",
      "source": [
        "**71704 zip codes are registered in this dataset.**"
      ],
      "metadata": {
        "id": "G0foF0pG1rqe"
      }
    },
    {
      "cell_type": "markdown",
      "source": [
        "#### 2.2.1.9 naics_code"
      ],
      "metadata": {
        "id": "jvw8Kf1012bs"
      }
    },
    {
      "cell_type": "code",
      "source": [
        "data['naics_code'].value_counts()"
      ],
      "metadata": {
        "colab": {
          "base_uri": "https://localhost:8080/"
        },
        "id": "1F5tsV941o7v",
        "outputId": "974764a9-10aa-4ca8-85f0-ac7b191669bd"
      },
      "execution_count": 57,
      "outputs": [
        {
          "output_type": "execute_result",
          "data": {
            "text/plain": [
              "445110.0    118101\n",
              "623110.0     53296\n",
              "491110.0     50249\n",
              "721110.0     39112\n",
              "722310.0     37077\n",
              "             ...  \n",
              "488519.0         1\n",
              "812231.0         1\n",
              "221123.0         1\n",
              "221125.0         1\n",
              "459310.0         1\n",
              "Name: naics_code, Length: 2268, dtype: int64"
            ]
          },
          "metadata": {},
          "execution_count": 57
        }
      ]
    },
    {
      "cell_type": "code",
      "source": [
        "data['naics_code'].nunique()"
      ],
      "metadata": {
        "colab": {
          "base_uri": "https://localhost:8080/"
        },
        "id": "KOzYEQKe2A1p",
        "outputId": "3427a48b-5cb9-41ad-f16f-70517c618e0a"
      },
      "execution_count": 58,
      "outputs": [
        {
          "output_type": "execute_result",
          "data": {
            "text/plain": [
              "2268"
            ]
          },
          "metadata": {},
          "execution_count": 58
        }
      ]
    },
    {
      "cell_type": "markdown",
      "source": [
        "**A total of 2,268 North American Industry Classification System codes are recorded in this dataset. These codes classify the business of an institution.**"
      ],
      "metadata": {
        "id": "h_t9UQxO2ToG"
      }
    },
    {
      "cell_type": "markdown",
      "source": [
        "#### 2.2.1.10 industry_description"
      ],
      "metadata": {
        "id": "bSEp8a4b2uhO"
      }
    },
    {
      "cell_type": "code",
      "source": [
        "data['industry_description'].value_counts()"
      ],
      "metadata": {
        "colab": {
          "base_uri": "https://localhost:8080/"
        },
        "id": "j9qNr3072K8t",
        "outputId": "dc61ca37-6b38-437a-9d94-3c7062be5ac1"
      },
      "execution_count": 59,
      "outputs": [
        {
          "output_type": "execute_result",
          "data": {
            "text/plain": [
              "Mail and Parcel Delivery                                                 49944\n",
              "Office Equipment                                                         32797\n",
              "Supermarkets and Other Grocery (except Convenience) Stores               23888\n",
              " Skilled nursing facilities                                              18400\n",
              "Food Service Contractors                                                 17070\n",
              "                                                                         ...  \n",
              "Service-Facilities Support                                                   1\n",
              "Gymnasium and playground equipment, manufacturing                            1\n",
              "Property managing, commercial real estate                                    1\n",
              "Temples and fronts (i.e., eyeglass frames), ophthalmic, manufacturing        1\n",
              " Small business development agencies                                         1\n",
              "Name: industry_description, Length: 38567, dtype: int64"
            ]
          },
          "metadata": {},
          "execution_count": 59
        }
      ]
    },
    {
      "cell_type": "code",
      "source": [
        "data['industry_description'].nunique()"
      ],
      "metadata": {
        "colab": {
          "base_uri": "https://localhost:8080/"
        },
        "id": "1WV3TuKF22Fu",
        "outputId": "61213039-8546-45ce-ea56-305e7ba8714c"
      },
      "execution_count": 60,
      "outputs": [
        {
          "output_type": "execute_result",
          "data": {
            "text/plain": [
              "38567"
            ]
          },
          "metadata": {},
          "execution_count": 60
        }
      ]
    },
    {
      "cell_type": "markdown",
      "source": [
        "**The definition of industries in this column is that the largest number, as mentioned, is related to mail and package delivery**"
      ],
      "metadata": {
        "id": "-bd-E2sk3KPD"
      }
    },
    {
      "cell_type": "markdown",
      "source": [
        "#### 2.2.1.11 annual_average_employees"
      ],
      "metadata": {
        "id": "YKV43VGC4TN5"
      }
    },
    {
      "cell_type": "code",
      "source": [
        "data['annual_average_employees'].value_counts()"
      ],
      "metadata": {
        "colab": {
          "base_uri": "https://localhost:8080/"
        },
        "id": "4Z42xX_O28DY",
        "outputId": "e5b16af9-2b7f-4f8a-b714-76d673636c39"
      },
      "execution_count": 61,
      "outputs": [
        {
          "output_type": "execute_result",
          "data": {
            "text/plain": [
              "1.0          47155\n",
              "20.0         41686\n",
              "25.0         34029\n",
              "22.0         33858\n",
              "21.0         33691\n",
              "             ...  \n",
              "4182.0           1\n",
              "14884.0          1\n",
              "1184464.0        1\n",
              "2270695.0        1\n",
              "4390.0           1\n",
              "Name: annual_average_employees, Length: 6759, dtype: int64"
            ]
          },
          "metadata": {},
          "execution_count": 61
        }
      ]
    },
    {
      "cell_type": "code",
      "source": [
        "data['annual_average_employees'].nunique()"
      ],
      "metadata": {
        "colab": {
          "base_uri": "https://localhost:8080/"
        },
        "id": "9b9Kq3uh4jUc",
        "outputId": "dcd5917d-8d01-4596-d4cc-d64b6addb3b7"
      },
      "execution_count": 62,
      "outputs": [
        {
          "output_type": "execute_result",
          "data": {
            "text/plain": [
              "6759"
            ]
          },
          "metadata": {},
          "execution_count": 62
        }
      ]
    },
    {
      "cell_type": "code",
      "source": [
        "data['annual_average_employees'].max()"
      ],
      "metadata": {
        "colab": {
          "base_uri": "https://localhost:8080/"
        },
        "id": "1qMEh1o46806",
        "outputId": "e87f743f-d149-4027-ee48-87a61d0d4abf"
      },
      "execution_count": 63,
      "outputs": [
        {
          "output_type": "execute_result",
          "data": {
            "text/plain": [
              "1331666667.0"
            ]
          },
          "metadata": {},
          "execution_count": 63
        }
      ]
    },
    {
      "cell_type": "markdown",
      "source": [
        "**This column shows the annual average number of employees of the institution, where 47,155 institutions had only 1 employee per year on average.**"
      ],
      "metadata": {
        "id": "WwVpMINX4s0Z"
      }
    },
    {
      "cell_type": "markdown",
      "source": [
        "#### 2.2.1.12 total_hours_worked"
      ],
      "metadata": {
        "id": "nqxEgAAZ7ZVb"
      }
    },
    {
      "cell_type": "code",
      "source": [
        "data['total_hours_worked'].value_counts()"
      ],
      "metadata": {
        "colab": {
          "base_uri": "https://localhost:8080/"
        },
        "id": "FZumWnMb4nG_",
        "outputId": "e282a2cf-a626-4b5e-a32e-db712e515cd5"
      },
      "execution_count": 64,
      "outputs": [
        {
          "output_type": "execute_result",
          "data": {
            "text/plain": [
              "2000.0       12133\n",
              "0.0           5742\n",
              "4000.0        2805\n",
              "2080.0        2249\n",
              "52000.0       1807\n",
              "             ...  \n",
              "1077025.0        1\n",
              "2933793.0        1\n",
              "338435.0         1\n",
              "311716.0         1\n",
              "5695445.0        1\n",
              "Name: total_hours_worked, Length: 515730, dtype: int64"
            ]
          },
          "metadata": {},
          "execution_count": 64
        }
      ]
    },
    {
      "cell_type": "code",
      "source": [
        "data['total_hours_worked'].nunique()"
      ],
      "metadata": {
        "colab": {
          "base_uri": "https://localhost:8080/"
        },
        "id": "Qj9lw1T-ISfz",
        "outputId": "83c3c42f-acfb-4a5d-da0e-8b025bc10c52"
      },
      "execution_count": 65,
      "outputs": [
        {
          "output_type": "execute_result",
          "data": {
            "text/plain": [
              "515730"
            ]
          },
          "metadata": {},
          "execution_count": 65
        }
      ]
    },
    {
      "cell_type": "markdown",
      "source": [
        "**This column displays the total working hours for all employees. 12,133 institutions have calculated 2,000 working hours per year.**"
      ],
      "metadata": {
        "id": "YJDuA1JjIbKO"
      }
    },
    {
      "cell_type": "markdown",
      "source": [
        "#### 2.2.1.13 no_injuries_illnesses"
      ],
      "metadata": {
        "id": "rC3RCaXFI22l"
      }
    },
    {
      "cell_type": "code",
      "source": [
        "data['no_injuries_illnesses'].value_counts()"
      ],
      "metadata": {
        "colab": {
          "base_uri": "https://localhost:8080/"
        },
        "id": "ces6NLDLIZFR",
        "outputId": "f21b9aa6-00fe-4ed8-bd23-b3e2f8208f2b"
      },
      "execution_count": 66,
      "outputs": [
        {
          "output_type": "execute_result",
          "data": {
            "text/plain": [
              "1.0    1265242\n",
              "2.0     707331\n",
              "Name: no_injuries_illnesses, dtype: int64"
            ]
          },
          "metadata": {},
          "execution_count": 66
        }
      ]
    },
    {
      "cell_type": "code",
      "source": [
        "data['no_injuries_illnesses'] = data['no_injuries_illnesses'].replace(2.0, 0.0)"
      ],
      "metadata": {
        "id": "7zeNaaEnJacw"
      },
      "execution_count": 70,
      "outputs": []
    },
    {
      "cell_type": "code",
      "source": [
        "data['no_injuries_illnesses'].value_counts()"
      ],
      "metadata": {
        "colab": {
          "base_uri": "https://localhost:8080/"
        },
        "id": "l6KAa0glJiQs",
        "outputId": "9d240f19-c1a1-44eb-bee2-10f38917b58a"
      },
      "execution_count": 71,
      "outputs": [
        {
          "output_type": "execute_result",
          "data": {
            "text/plain": [
              "1.0    1265242\n",
              "0.0     707331\n",
              "Name: no_injuries_illnesses, dtype: int64"
            ]
          },
          "metadata": {},
          "execution_count": 71
        }
      ]
    },
    {
      "cell_type": "markdown",
      "source": [
        "**Occupational injury occurred in 1265242 institutions during the year, and no occupational injury occurred in 707331 institutions during the year.**"
      ],
      "metadata": {
        "id": "ofTp7YXgJUS7"
      }
    },
    {
      "cell_type": "markdown",
      "source": [
        "#### 2.2.1.14 total_deaths"
      ],
      "metadata": {
        "id": "TV-tNePtLJks"
      }
    },
    {
      "cell_type": "code",
      "source": [
        "data['total_deaths'].value_counts()"
      ],
      "metadata": {
        "colab": {
          "base_uri": "https://localhost:8080/"
        },
        "id": "ocC_BI7DJR44",
        "outputId": "8695ac95-8e6c-45c7-f7cc-ded1c38d0c28"
      },
      "execution_count": 72,
      "outputs": [
        {
          "output_type": "execute_result",
          "data": {
            "text/plain": [
              "0.0     1966697\n",
              "1.0        5546\n",
              "2.0         242\n",
              "3.0          53\n",
              "4.0          15\n",
              "5.0           6\n",
              "7.0           5\n",
              "6.0           4\n",
              "9.0           1\n",
              "11.0          1\n",
              "8.0           1\n",
              "12.0          1\n",
              "10.0          1\n",
              "27.0          1\n",
              "Name: total_deaths, dtype: int64"
            ]
          },
          "metadata": {},
          "execution_count": 72
        }
      ]
    },
    {
      "cell_type": "markdown",
      "source": [
        "**1966697 cases, the total number of deaths in a question was 0.**"
      ],
      "metadata": {
        "id": "HSLwi5A9Mlju"
      }
    },
    {
      "cell_type": "markdown",
      "source": [
        "#### 2.2.1.15 total_dafw_cases"
      ],
      "metadata": {
        "id": "UicjStvRMsZC"
      }
    },
    {
      "cell_type": "code",
      "source": [
        "data['total_dafw_cases'].value_counts()"
      ],
      "metadata": {
        "colab": {
          "base_uri": "https://localhost:8080/"
        },
        "id": "4yw_JsduMMBm",
        "outputId": "58cb4c75-266a-4709-880a-8a0ad5e2308d"
      },
      "execution_count": 73,
      "outputs": [
        {
          "output_type": "execute_result",
          "data": {
            "text/plain": [
              "0.0      1152764\n",
              "1.0       359762\n",
              "2.0       161535\n",
              "3.0        86799\n",
              "4.0        52137\n",
              "          ...   \n",
              "337.0          1\n",
              "855.0          1\n",
              "364.0          1\n",
              "682.0          1\n",
              "190.0          1\n",
              "Name: total_dafw_cases, Length: 491, dtype: int64"
            ]
          },
          "metadata": {},
          "execution_count": 73
        }
      ]
    },
    {
      "cell_type": "markdown",
      "source": [
        "**In most cases, there were 0 days away from work.**"
      ],
      "metadata": {
        "id": "FC6zjZNfNEqk"
      }
    },
    {
      "cell_type": "markdown",
      "source": [
        "#### 2.2.1.16 total_djtr_cases"
      ],
      "metadata": {
        "id": "mM5fNGdONM15"
      }
    },
    {
      "cell_type": "code",
      "source": [
        "data['total_djtr_cases'].value_counts()"
      ],
      "metadata": {
        "colab": {
          "base_uri": "https://localhost:8080/"
        },
        "id": "Z6EgcXgeNCRh",
        "outputId": "4fb4810e-2948-4e7f-bca7-2d1e0f9096b2"
      },
      "execution_count": 74,
      "outputs": [
        {
          "output_type": "execute_result",
          "data": {
            "text/plain": [
              "0.0       1315483\n",
              "1.0        275404\n",
              "2.0        127860\n",
              "3.0         71756\n",
              "4.0         45037\n",
              "           ...   \n",
              "264.0           1\n",
              "301.0           1\n",
              "2197.0          1\n",
              "254.0           1\n",
              "305.0           1\n",
              "Name: total_djtr_cases, Length: 359, dtype: int64"
            ]
          },
          "metadata": {},
          "execution_count": 74
        }
      ]
    },
    {
      "cell_type": "markdown",
      "source": [
        "**In most cases, there is no job transfer or restriction.**"
      ],
      "metadata": {
        "id": "zj6U906xNfl5"
      }
    },
    {
      "cell_type": "markdown",
      "source": [
        "#### 2.2.1.17 total_other_cases"
      ],
      "metadata": {
        "id": "haaHNIkON2rD"
      }
    },
    {
      "cell_type": "code",
      "source": [
        "data['total_other_cases'].value_counts()"
      ],
      "metadata": {
        "colab": {
          "base_uri": "https://localhost:8080/"
        },
        "id": "9_euNvLHNc9Q",
        "outputId": "db97da6d-f9ba-4dc4-c04f-9fadadad67f9"
      },
      "execution_count": 75,
      "outputs": [
        {
          "output_type": "execute_result",
          "data": {
            "text/plain": [
              "0.0      1179462\n",
              "1.0       338399\n",
              "2.0       160802\n",
              "3.0        87741\n",
              "4.0        52889\n",
              "          ...   \n",
              "480.0          1\n",
              "530.0          1\n",
              "379.0          1\n",
              "392.0          1\n",
              "376.0          1\n",
              "Name: total_other_cases, Length: 465, dtype: int64"
            ]
          },
          "metadata": {},
          "execution_count": 75
        }
      ]
    },
    {
      "cell_type": "markdown",
      "source": [
        "**In most cases, there were 0 cases of other injuries.**"
      ],
      "metadata": {
        "id": "CMdNmFHIOeYU"
      }
    },
    {
      "cell_type": "markdown",
      "source": [
        "#### 2.2.1.18 total_dafw_days"
      ],
      "metadata": {
        "id": "55s4spxoOgVq"
      }
    },
    {
      "cell_type": "code",
      "source": [
        "data['total_dafw_days'].value_counts()"
      ],
      "metadata": {
        "colab": {
          "base_uri": "https://localhost:8080/"
        },
        "id": "qKu_L02fOSO6",
        "outputId": "c759bf69-e8b0-4553-d1fe-9c4472d1cc9e"
      },
      "execution_count": 76,
      "outputs": [
        {
          "output_type": "execute_result",
          "data": {
            "text/plain": [
              "0.0        1152666\n",
              "1.0          41883\n",
              "2.0          40368\n",
              "3.0          32173\n",
              "4.0          24047\n",
              "            ...   \n",
              "13421.0          1\n",
              "2234.0           1\n",
              "3392.0           1\n",
              "4530.0           1\n",
              "3755.0           1\n",
              "Name: total_dafw_days, Length: 5017, dtype: int64"
            ]
          },
          "metadata": {},
          "execution_count": 76
        }
      ]
    },
    {
      "cell_type": "markdown",
      "source": [
        "**In 1,152,666 cases, the total number of days away from work was 0.**"
      ],
      "metadata": {
        "id": "2hnsVTCtO6E8"
      }
    },
    {
      "cell_type": "markdown",
      "source": [
        "#### 2.2.1.18 total_djtr_days"
      ],
      "metadata": {
        "id": "OAd9xS4ZPC1J"
      }
    },
    {
      "cell_type": "code",
      "source": [
        "data['total_djtr_days'].value_counts()"
      ],
      "metadata": {
        "colab": {
          "base_uri": "https://localhost:8080/"
        },
        "id": "8JeJ2OSjOwI9",
        "outputId": "a070e6ef-7934-4d1e-db1d-6f3fd07725f6"
      },
      "execution_count": 77,
      "outputs": [
        {
          "output_type": "execute_result",
          "data": {
            "text/plain": [
              "0.0       1193132\n",
              "7.0         19907\n",
              "5.0         14762\n",
              "14.0        14391\n",
              "10.0        13249\n",
              "           ...   \n",
              "3023.0          1\n",
              "4322.0          1\n",
              "3435.0          1\n",
              "5664.0          1\n",
              "2809.0          1\n",
              "Name: total_djtr_days, Length: 5029, dtype: int64"
            ]
          },
          "metadata": {},
          "execution_count": 77
        }
      ]
    },
    {
      "cell_type": "markdown",
      "source": [
        "**In 1,193,132 cases, the total number of days of job transfer or restriction was 0.**"
      ],
      "metadata": {
        "id": "pKcM9rnDPSvi"
      }
    },
    {
      "cell_type": "markdown",
      "source": [
        "#### 2.2.1.19 total_injuries"
      ],
      "metadata": {
        "id": "gJyTB-ocP6mK"
      }
    },
    {
      "cell_type": "code",
      "source": [
        "data['total_injuries'].value_counts()"
      ],
      "metadata": {
        "colab": {
          "base_uri": "https://localhost:8080/"
        },
        "id": "d-y7xljMPRbg",
        "outputId": "078de6be-a45b-4ee8-a2cb-39c8cd4bcfb6"
      },
      "execution_count": 78,
      "outputs": [
        {
          "output_type": "execute_result",
          "data": {
            "text/plain": [
              "0.0       732108\n",
              "1.0       349968\n",
              "2.0       214465\n",
              "3.0       144286\n",
              "4.0       103221\n",
              "           ...  \n",
              "958.0          1\n",
              "1072.0         1\n",
              "635.0          1\n",
              "395.0          1\n",
              "464.0          1\n",
              "Name: total_injuries, Length: 700, dtype: int64"
            ]
          },
          "metadata": {},
          "execution_count": 78
        }
      ]
    },
    {
      "cell_type": "markdown",
      "source": [
        "**The total number of injuries per year in 732,108 institutions was 0.**"
      ],
      "metadata": {
        "id": "T4nOoIvsQUtK"
      }
    },
    {
      "cell_type": "markdown",
      "source": [
        "#### 2.2.1.20 total_poisonings"
      ],
      "metadata": {
        "id": "jV-CWiX3QoVy"
      }
    },
    {
      "cell_type": "code",
      "source": [
        "data['total_poisonings'].value_counts()"
      ],
      "metadata": {
        "colab": {
          "base_uri": "https://localhost:8080/"
        },
        "id": "19ydy4thP_5S",
        "outputId": "61ee8e87-ebf2-441d-b28d-c0a7416be5dd"
      },
      "execution_count": 79,
      "outputs": [
        {
          "output_type": "execute_result",
          "data": {
            "text/plain": [
              "0.0     1969752\n",
              "1.0        2308\n",
              "2.0         276\n",
              "3.0         101\n",
              "4.0          49\n",
              "5.0          30\n",
              "6.0          14\n",
              "8.0          11\n",
              "7.0           8\n",
              "9.0           7\n",
              "10.0          7\n",
              "13.0          2\n",
              "12.0          2\n",
              "11.0          2\n",
              "15.0          1\n",
              "25.0          1\n",
              "19.0          1\n",
              "14.0          1\n",
              "31.0          1\n",
              "Name: total_poisonings, dtype: int64"
            ]
          },
          "metadata": {},
          "execution_count": 79
        }
      ]
    },
    {
      "cell_type": "markdown",
      "source": [
        "**The total number of poisonings was 0 in most cases.**"
      ],
      "metadata": {
        "id": "TTl1pSIoQ7Tr"
      }
    },
    {
      "cell_type": "markdown",
      "source": [
        "#### 2.2.1.21 total_respiratory_conditions"
      ],
      "metadata": {
        "id": "f-ThLiK7RECw"
      }
    },
    {
      "cell_type": "code",
      "source": [
        "data['total_respiratory_conditions'].value_counts()"
      ],
      "metadata": {
        "colab": {
          "base_uri": "https://localhost:8080/"
        },
        "id": "JGSo2RdfQyTJ",
        "outputId": "bdc99364-232d-41ed-bdb4-a56cfe68078b"
      },
      "execution_count": 80,
      "outputs": [
        {
          "output_type": "execute_result",
          "data": {
            "text/plain": [
              "0.0       1899387\n",
              "1.0         28807\n",
              "2.0          9543\n",
              "3.0          5684\n",
              "4.0          3952\n",
              "           ...   \n",
              "310.0           1\n",
              "353.0           1\n",
              "809.0           1\n",
              "210.0           1\n",
              "1407.0          1\n",
              "Name: total_respiratory_conditions, Length: 353, dtype: int64"
            ]
          },
          "metadata": {},
          "execution_count": 80
        }
      ]
    },
    {
      "cell_type": "markdown",
      "source": [
        "**The total number of respiratory injury conditions was 0 in most cases.**"
      ],
      "metadata": {
        "id": "h9LRr-GNRWlI"
      }
    },
    {
      "cell_type": "markdown",
      "source": [
        "#### 2.2.1.22 total_skin_disorders"
      ],
      "metadata": {
        "id": "p0ezFxTFRiKp"
      }
    },
    {
      "cell_type": "code",
      "source": [
        "data['total_skin_disorders'].value_counts()"
      ],
      "metadata": {
        "colab": {
          "base_uri": "https://localhost:8080/"
        },
        "id": "qU3QT6T0RS2A",
        "outputId": "69ccdba2-139c-4a9b-b48b-98aae9305d56"
      },
      "execution_count": 81,
      "outputs": [
        {
          "output_type": "execute_result",
          "data": {
            "text/plain": [
              "0.0      1937929\n",
              "1.0        26613\n",
              "2.0         4631\n",
              "3.0         1532\n",
              "4.0          693\n",
              "5.0          387\n",
              "6.0          216\n",
              "7.0          145\n",
              "8.0           89\n",
              "10.0          61\n",
              "9.0           51\n",
              "12.0          38\n",
              "11.0          29\n",
              "13.0          24\n",
              "14.0          15\n",
              "16.0          12\n",
              "15.0          12\n",
              "25.0           8\n",
              "18.0           8\n",
              "17.0           7\n",
              "21.0           6\n",
              "19.0           6\n",
              "22.0           6\n",
              "20.0           4\n",
              "23.0           4\n",
              "26.0           3\n",
              "29.0           3\n",
              "36.0           3\n",
              "27.0           3\n",
              "30.0           2\n",
              "76.0           2\n",
              "32.0           2\n",
              "31.0           2\n",
              "24.0           2\n",
              "34.0           2\n",
              "55.0           2\n",
              "80.0           1\n",
              "112.0          1\n",
              "105.0          1\n",
              "39.0           1\n",
              "41.0           1\n",
              "42.0           1\n",
              "35.0           1\n",
              "63.0           1\n",
              "53.0           1\n",
              "37.0           1\n",
              "94.0           1\n",
              "72.0           1\n",
              "90.0           1\n",
              "45.0           1\n",
              "62.0           1\n",
              "59.0           1\n",
              "126.0          1\n",
              "106.0          1\n",
              "64.0           1\n",
              "49.0           1\n",
              "122.0          1\n",
              "50.0           1\n",
              "Name: total_skin_disorders, dtype: int64"
            ]
          },
          "metadata": {},
          "execution_count": 81
        }
      ]
    },
    {
      "cell_type": "markdown",
      "source": [
        "**The total number of skin disorders and injuries per year was also 0 in most cases.**"
      ],
      "metadata": {
        "id": "Q94XD_9kR7tI"
      }
    },
    {
      "cell_type": "markdown",
      "source": [
        "#### 2.2.1.23 total_hearing_loss"
      ],
      "metadata": {
        "id": "gXik0QrvSBRJ"
      }
    },
    {
      "cell_type": "code",
      "source": [
        "data['total_hearing_loss'].value_counts()"
      ],
      "metadata": {
        "colab": {
          "base_uri": "https://localhost:8080/"
        },
        "id": "W-WJf947RsSW",
        "outputId": "d52d0c16-f256-486c-da2d-7f8b31c3525c"
      },
      "execution_count": 82,
      "outputs": [
        {
          "output_type": "execute_result",
          "data": {
            "text/plain": [
              "0.0      1946453\n",
              "1.0        13603\n",
              "2.0         4978\n",
              "3.0         2529\n",
              "4.0         1518\n",
              "          ...   \n",
              "78.0           1\n",
              "95.0           1\n",
              "72.0           1\n",
              "105.0          1\n",
              "108.0          1\n",
              "Name: total_hearing_loss, Length: 76, dtype: int64"
            ]
          },
          "metadata": {},
          "execution_count": 82
        }
      ]
    },
    {
      "cell_type": "markdown",
      "source": [
        "**The total number of hearing loss in the institute was 0 in 1,946,453 cases.**"
      ],
      "metadata": {
        "id": "zarFnbmxSUAR"
      }
    },
    {
      "cell_type": "markdown",
      "source": [
        "#### 2.2.1.24 total_other_illnesses"
      ],
      "metadata": {
        "id": "Ie6sCWj8SpiP"
      }
    },
    {
      "cell_type": "code",
      "source": [
        "data['total_other_illnesses'].value_counts()"
      ],
      "metadata": {
        "colab": {
          "base_uri": "https://localhost:8080/"
        },
        "id": "610I9x2gSNs8",
        "outputId": "fe5fc075-fc71-4358-e493-96345be14244"
      },
      "execution_count": 83,
      "outputs": [
        {
          "output_type": "execute_result",
          "data": {
            "text/plain": [
              "0.0      1843055\n",
              "1.0        75058\n",
              "2.0        21198\n",
              "3.0         9514\n",
              "4.0         5302\n",
              "          ...   \n",
              "273.0          1\n",
              "344.0          1\n",
              "461.0          1\n",
              "699.0          1\n",
              "304.0          1\n",
              "Name: total_other_illnesses, Length: 286, dtype: int64"
            ]
          },
          "metadata": {},
          "execution_count": 83
        }
      ]
    },
    {
      "cell_type": "markdown",
      "source": [
        "**The total number of other diseases in the year was 0 at 1,843,055 cases.**"
      ],
      "metadata": {
        "id": "gfX24LNIS32q"
      }
    },
    {
      "cell_type": "markdown",
      "source": [
        "#### 2.2.1.25 establishment_id"
      ],
      "metadata": {
        "id": "LvXriSq6TV4P"
      }
    },
    {
      "cell_type": "code",
      "source": [
        "data['establishment_id'].nunique()"
      ],
      "metadata": {
        "colab": {
          "base_uri": "https://localhost:8080/"
        },
        "id": "1xGWJCLOS2ij",
        "outputId": "a1bad88a-1280-4c7a-941a-7fae440b3307"
      },
      "execution_count": 84,
      "outputs": [
        {
          "output_type": "execute_result",
          "data": {
            "text/plain": [
              "871736"
            ]
          },
          "metadata": {},
          "execution_count": 84
        }
      ]
    },
    {
      "cell_type": "code",
      "source": [
        "data['establishment_id'].value_counts()"
      ],
      "metadata": {
        "colab": {
          "base_uri": "https://localhost:8080/"
        },
        "id": "KXqBqu3ATvWA",
        "outputId": "5562c4a0-d72a-4b95-9d3b-46565aca140a"
      },
      "execution_count": 85,
      "outputs": [
        {
          "output_type": "execute_result",
          "data": {
            "text/plain": [
              "178612.0     8\n",
              "173632.0     8\n",
              "180295.0     8\n",
              "180127.0     8\n",
              "180529.0     8\n",
              "            ..\n",
              "546636.0     1\n",
              "546635.0     1\n",
              "546634.0     1\n",
              "546633.0     1\n",
              "1044674.0    1\n",
              "Name: establishment_id, Length: 871736, dtype: int64"
            ]
          },
          "metadata": {},
          "execution_count": 85
        }
      ]
    },
    {
      "cell_type": "markdown",
      "source": [
        "**There are 871,736 unique institutions in this dataset that have received a unique number for an individual user account.**"
      ],
      "metadata": {
        "id": "HjmN7uwTT5DH"
      }
    },
    {
      "cell_type": "markdown",
      "source": [
        "#### 2.2.1.26 establishment_type"
      ],
      "metadata": {
        "id": "ly5LLE3-UKRv"
      }
    },
    {
      "cell_type": "code",
      "source": [
        "data['establishment_type'].value_counts()"
      ],
      "metadata": {
        "colab": {
          "base_uri": "https://localhost:8080/"
        },
        "id": "KjVG397RT0tx",
        "outputId": "30e6764a-e4c4-41fa-9c31-5449f19be328"
      },
      "execution_count": 86,
      "outputs": [
        {
          "output_type": "execute_result",
          "data": {
            "text/plain": [
              "1.0                                  1494097\n",
              "1                                     274737\n",
              "3.0                                    45843\n",
              "2.0                                    25837\n",
              "3                                       8298\n",
              "2                                       4483\n",
              "0.0                                       47\n",
              "Executive and Legislative Offices          1\n",
              "Name: establishment_type, dtype: int64"
            ]
          },
          "metadata": {},
          "execution_count": 86
        }
      ]
    },
    {
      "cell_type": "code",
      "source": [
        "data['establishment_type'] = data['establishment_type'].replace([1.0,2.0,3.0], [1,2,3])\n",
        "data['establishment_type'] = data['establishment_type'].replace(['1','2','3','0.0'], [1,2,3,0])"
      ],
      "metadata": {
        "id": "jd7aOeXpUYBH"
      },
      "execution_count": 142,
      "outputs": []
    },
    {
      "cell_type": "code",
      "source": [
        "data['establishment_type'].value_counts()"
      ],
      "metadata": {
        "colab": {
          "base_uri": "https://localhost:8080/"
        },
        "id": "EPbsSoG4VKbK",
        "outputId": "a9b548db-9e27-4b69-b943-f8ce2f17ecf6"
      },
      "execution_count": 143,
      "outputs": [
        {
          "output_type": "execute_result",
          "data": {
            "text/plain": [
              "1    1538094\n",
              "3      49940\n",
              "2      25106\n",
              "Name: establishment_type, dtype: int64"
            ]
          },
          "metadata": {},
          "execution_count": 143
        }
      ]
    },
    {
      "cell_type": "code",
      "source": [
        "data[data['establishment_type']=='Executive and Legislative Offices']"
      ],
      "metadata": {
        "id": "oakE5mYyyrLl"
      },
      "execution_count": null,
      "outputs": []
    },
    {
      "cell_type": "code",
      "source": [
        "data.drop(831728,axis=0,inplace=True)"
      ],
      "metadata": {
        "id": "7bwUp_Cmysv7"
      },
      "execution_count": null,
      "outputs": []
    },
    {
      "cell_type": "markdown",
      "source": [
        "**1,768,834 institutions in this dataset are not a government entity. 30,320 are state government institutions and 54,141 are local government institutions**"
      ],
      "metadata": {
        "id": "9M1W_GX6VK4P"
      }
    },
    {
      "cell_type": "markdown",
      "source": [
        "#### 2.2.1.27 size"
      ],
      "metadata": {
        "id": "DDpoaX6xYVoW"
      }
    },
    {
      "cell_type": "code",
      "source": [
        "data['size'].value_counts()"
      ],
      "metadata": {
        "colab": {
          "base_uri": "https://localhost:8080/"
        },
        "id": "w2cylV9uYHmV",
        "outputId": "cd3543a3-2ddf-4781-e9b4-9189feb8e614"
      },
      "execution_count": 91,
      "outputs": [
        {
          "output_type": "execute_result",
          "data": {
            "text/plain": [
              "2.0    1434585\n",
              "1.0     311593\n",
              "3.0     226397\n",
              "Name: size, dtype: int64"
            ]
          },
          "metadata": {},
          "execution_count": 91
        }
      ]
    },
    {
      "cell_type": "markdown",
      "source": [
        "**311,593 institutions have less than 20 employees. 1,434,585 institutions have between 20 and 249 employees and 226,397 institutions have 250 or more employees.**"
      ],
      "metadata": {
        "id": "4pUA1TwOYs4V"
      }
    },
    {
      "cell_type": "markdown",
      "source": [
        "#### 2.2.1.28 year_filing_for"
      ],
      "metadata": {
        "id": "LYY8PvTkZMHH"
      }
    },
    {
      "cell_type": "code",
      "source": [
        "data['year_filing_for'].value_counts()"
      ],
      "metadata": {
        "colab": {
          "base_uri": "https://localhost:8080/"
        },
        "id": "kCrAdJRAYrQq",
        "outputId": "e9ba1ca7-ee6b-481e-a9dc-26f7221588cf"
      },
      "execution_count": 92,
      "outputs": [
        {
          "output_type": "execute_result",
          "data": {
            "text/plain": [
              "2022.0    316537\n",
              "2021.0    307900\n",
              "2020.0    293392\n",
              "2019.0    290475\n",
              "2018.0    289534\n",
              "2017.0    259758\n",
              "2016.0    214978\n",
              "Name: year_filing_for, dtype: int64"
            ]
          },
          "metadata": {},
          "execution_count": 92
        }
      ]
    },
    {
      "cell_type": "markdown",
      "source": [
        "**It can be seen that the occurrence of accidents during the years 2016 to 2022 had an upward trend.**"
      ],
      "metadata": {
        "id": "vjKEoxKJZnc9"
      }
    },
    {
      "cell_type": "markdown",
      "source": [
        "#### 2.2.1.29 created_timestamp"
      ],
      "metadata": {
        "id": "5vY0ubHYZ0TF"
      }
    },
    {
      "cell_type": "code",
      "source": [
        "data['created_timestamp'].value_counts()"
      ],
      "metadata": {
        "colab": {
          "base_uri": "https://localhost:8080/"
        },
        "id": "DqfCfBqLZkGV",
        "outputId": "0349ac0d-8422-4aef-9629-41a0a6a23c55"
      },
      "execution_count": 93,
      "outputs": [
        {
          "output_type": "execute_result",
          "data": {
            "text/plain": [
              "11/27/2017 15:25:00    720\n",
              "2/28/2022 20:05:00     635\n",
              "11/7/2017 17:00:00     623\n",
              "11/29/2017 16:22:00    520\n",
              "11/21/2017 20:43:00    518\n",
              "                      ... \n",
              "2/4/2020 20:29:23        1\n",
              "2/4/2020 20:29:31        1\n",
              "2/4/2020 20:29:48        1\n",
              "2/4/2020 20:29:49        1\n",
              "3/4/2023 3:15:05         1\n",
              "Name: created_timestamp, Length: 1186463, dtype: int64"
            ]
          },
          "metadata": {},
          "execution_count": 93
        }
      ]
    },
    {
      "cell_type": "markdown",
      "source": [
        "#### 2.2.1.30 change_reason"
      ],
      "metadata": {
        "id": "fJSDklu2awRd"
      }
    },
    {
      "cell_type": "code",
      "source": [
        "data['change_reason'].value_counts()"
      ],
      "metadata": {
        "colab": {
          "base_uri": "https://localhost:8080/"
        },
        "id": "gJcoX3Hzavuu",
        "outputId": "b3a51533-e816-46fc-9037-bba6e3987da8"
      },
      "execution_count": 94,
      "outputs": [
        {
          "output_type": "execute_result",
          "data": {
            "text/plain": [
              "0                                                                       11543\n",
              "                                                                        10064\n",
              "Initial Submission                                                       2761\n",
              "Previously rejected for comma in Total Hours Worked column               2403\n",
              "initial submission                                                       1071\n",
              "                                                                        ...  \n",
              "Had to edit the establishment.                                              1\n",
              "Thought I type in number wrong but correct first time.                      1\n",
              "Hours error                                                                 1\n",
              "Data error entry for total hours worked due to decimal point issue.         1\n",
              "Made a mistake on the annual average number of employees.                   1\n",
              "Name: change_reason, Length: 19029, dtype: int64"
            ]
          },
          "metadata": {},
          "execution_count": 94
        }
      ]
    },
    {
      "cell_type": "markdown",
      "source": [
        "### 2.2.2 Drop Non-Important Columns"
      ],
      "metadata": {
        "id": "yC5OTX52bgg-"
      }
    },
    {
      "cell_type": "code",
      "source": [
        "plt.figure(figsize=(8,5))\n",
        "sns.heatmap(data=data.isnull(),cbar=False,yticklabels=False,cmap='viridis')"
      ],
      "metadata": {
        "colab": {
          "base_uri": "https://localhost:8080/",
          "height": 642
        },
        "id": "1OCwHv74btGN",
        "outputId": "2df5e27b-4bda-4d09-9e3b-55bdc180b00b"
      },
      "execution_count": 95,
      "outputs": [
        {
          "output_type": "execute_result",
          "data": {
            "text/plain": [
              "<Axes: >"
            ]
          },
          "metadata": {},
          "execution_count": 95
        },
        {
          "output_type": "display_data",
          "data": {
            "text/plain": [
              "<Figure size 800x500 with 1 Axes>"
            ],
            "image/png": "[encoded data removed]"
          },
          "metadata": {}
        }
      ]
    },
    {
      "cell_type": "code",
      "source": [
        "data.drop(['change_reason','created_timestamp','ein'],\n",
        "         axis=1,inplace=True)"
      ],
      "metadata": {
        "id": "6GzhlaY_aNoH"
      },
      "execution_count": 96,
      "outputs": []
    },
    {
      "cell_type": "markdown",
      "source": [
        "### 2.2.3 Drop Missing Data"
      ],
      "metadata": {
        "id": "f2SPNEBwdOlt"
      }
    },
    {
      "cell_type": "code",
      "source": [
        "data.dropna(inplace=True)"
      ],
      "metadata": {
        "id": "KTpnOlRMdF4m"
      },
      "execution_count": 97,
      "outputs": []
    },
    {
      "cell_type": "code",
      "source": [
        "plt.figure(figsize=(8,5))\n",
        "sns.heatmap(data=data.isnull(),cbar=False,yticklabels=False,cmap='viridis')"
      ],
      "metadata": {
        "colab": {
          "base_uri": "https://localhost:8080/",
          "height": 642
        },
        "id": "brm5XjKadeBB",
        "outputId": "071d43ec-4c21-4f23-c536-e92ba76f53cd"
      },
      "execution_count": 98,
      "outputs": [
        {
          "output_type": "execute_result",
          "data": {
            "text/plain": [
              "<Axes: >"
            ]
          },
          "metadata": {},
          "execution_count": 98
        },
        {
          "output_type": "display_data",
          "data": {
            "text/plain": [
              "<Figure size 800x500 with 1 Axes>"
            ],
            "image/png": "[encoded data removed]"
          },
          "metadata": {}
        }
      ]
    },
    {
      "cell_type": "markdown",
      "source": [
        "## 2.4 Data Transform"
      ],
      "metadata": {
        "id": "I0ia9O8keyGV"
      }
    },
    {
      "cell_type": "code",
      "source": [
        "data['dafw rate'] = data['total_dafw_days'] / data['total_dafw_cases']"
      ],
      "metadata": {
        "id": "LhatoztNexMA"
      },
      "execution_count": 100,
      "outputs": []
    },
    {
      "cell_type": "code",
      "source": [
        "data['djtr rate'] = data['total_djtr_days'] / data['total_djtr_cases']"
      ],
      "metadata": {
        "id": "pq6oQfWnexEl"
      },
      "execution_count": 101,
      "outputs": []
    },
    {
      "cell_type": "code",
      "source": [
        "data['dafw rate'] = data['dafw rate'].replace([np.nan,np.inf], [0,0])"
      ],
      "metadata": {
        "id": "ie0NTbdmfue3"
      },
      "execution_count": 152,
      "outputs": []
    },
    {
      "cell_type": "code",
      "source": [
        "data['djtr rate'] = data['djtr rate'].replace([np.nan,np.inf], [0,0])"
      ],
      "metadata": {
        "id": "qU4C1KGgkq-l"
      },
      "execution_count": 153,
      "outputs": []
    },
    {
      "cell_type": "code",
      "source": [
        "data.sample(10)"
      ],
      "metadata": {
        "id": "p1uubgaYleJA"
      },
      "execution_count": null,
      "outputs": []
    },
    {
      "cell_type": "code",
      "source": [
        "data.info()"
      ],
      "metadata": {
        "colab": {
          "base_uri": "https://localhost:8080/"
        },
        "id": "ydCHnqnamz3_",
        "outputId": "99022fd9-b490-448a-d0e4-a50a03900afd"
      },
      "execution_count": 144,
      "outputs": [
        {
          "output_type": "stream",
          "name": "stdout",
          "text": [
            "<class 'pandas.core.frame.DataFrame'>\n",
            "Int64Index: 1613140 entries, 0 to 1972574\n",
            "Data columns (total 30 columns):\n",
            " #   Column                        Non-Null Count    Dtype  \n",
            "---  ------                        --------------    -----  \n",
            " 0   id                            1613140 non-null  float64\n",
            " 1   company_name                  1613140 non-null  object \n",
            " 2   establishment_name            1613140 non-null  object \n",
            " 3   street_address                1613140 non-null  object \n",
            " 4   city                          1613140 non-null  object \n",
            " 5   state                         1613140 non-null  object \n",
            " 6   zip_code                      1613140 non-null  float64\n",
            " 7   naics_code                    1613140 non-null  float64\n",
            " 8   industry_description          1613140 non-null  object \n",
            " 9   annual_average_employees      1613140 non-null  float64\n",
            " 10  total_hours_worked            1613140 non-null  float64\n",
            " 11  no_injuries_illnesses         1613140 non-null  float64\n",
            " 12  total_deaths                  1613140 non-null  float64\n",
            " 13  total_dafw_cases              1613140 non-null  float64\n",
            " 14  total_djtr_cases              1613140 non-null  float64\n",
            " 15  total_other_cases             1613140 non-null  float64\n",
            " 16  total_dafw_days               1613140 non-null  float64\n",
            " 17  total_djtr_days               1613140 non-null  float64\n",
            " 18  total_injuries                1613140 non-null  float64\n",
            " 19  total_poisonings              1613140 non-null  float64\n",
            " 20  total_respiratory_conditions  1613140 non-null  float64\n",
            " 21  total_skin_disorders          1613140 non-null  float64\n",
            " 22  total_hearing_loss            1613140 non-null  float64\n",
            " 23  total_other_illnesses         1613140 non-null  float64\n",
            " 24  establishment_id              1613140 non-null  float64\n",
            " 25  establishment_type            1613140 non-null  int64  \n",
            " 26  size                          1613140 non-null  float64\n",
            " 27  year_filing_for               1613140 non-null  float64\n",
            " 28  dafw rate                     1613140 non-null  float64\n",
            " 29  djtr rate                     1613140 non-null  float64\n",
            "dtypes: float64(23), int64(1), object(6)\n",
            "memory usage: 381.5+ MB\n"
          ]
        }
      ]
    },
    {
      "cell_type": "markdown",
      "source": [
        "## 2.3 EDA: Exploratory Data Analysis"
      ],
      "metadata": {
        "id": "Syu1gKn_eMg0"
      }
    },
    {
      "cell_type": "markdown",
      "source": [
        "### 2.3.1 Auto EDA with Sweetviz"
      ],
      "metadata": {
        "id": "gqU4SuqlebAt"
      }
    },
    {
      "cell_type": "code",
      "source": [
        "#analyzing the dataset\n",
        "advert_report = sv.analyze([data,'Work Related Injury'],target_feat='no_injuries_illnesses',pairwise_analysis=\"on\")\n",
        "#display the report\n",
        "advert_report.show_notebook(w='100%')"
      ],
      "metadata": {
        "colab": {
          "base_uri": "https://localhost:8080/",
          "height": 1000,
          "referenced_widgets": [
            "fa1b7223d4064c86a1cef19edc1e6ed6",
            "3c53df28d2424f52b1625b4b29395e3e",
            "31798fc273f3473ab1dc5547d5ca05ba",
            "c64efc7b4af9447ba06d8d99c90a626e",
            "d395e426c7c94081847bddc9194c0933",
            "12d125c6b827418380c09027090e1940",
            "b0d49a837cb0454d8535fedef908fe5f",
            "271fb6c01b5a45dfb381d7894ffd0e6a",
            "f9b9cce6f584491dbae36d8a93b67e31",
            "2aad4923c9f545369593cdaf3ccf31b7",
            "7506cbff1efd4277bf3cd245c74fe1d5"
          ]
        },
        "id": "OiOM-daQduI-",
        "outputId": "23e345f4-d551-458a-9fb5-54a85931ab6d"
      },
      "execution_count": 145,
      "outputs": [
        {
          "output_type": "stream",
          "name": "stderr",
          "text": [
            "/usr/local/lib/python3.10/dist-packages/sweetviz/dataframe_report.py:74: FutureWarning: iteritems is deprecated and will be removed in a future version. Use .items instead.\n",
            "  all_source_names = [cur_name for cur_name, cur_series in source_df.iteritems()]\n",
            "/usr/local/lib/python3.10/dist-packages/sweetviz/dataframe_report.py:109: FutureWarning: iteritems is deprecated and will be removed in a future version. Use .items instead.\n",
            "  filtered_series_names_in_source = [cur_name for cur_name, cur_series in source_df.iteritems()\n"
          ]
        },
        {
          "output_type": "display_data",
          "data": {
            "text/plain": [
              "                                             |          | [  0%]   00:00 -> (? left)"
            ],
            "application/vnd.jupyter.widget-view+json": {
              "version_major": 2,
              "version_minor": 0,
              "model_id": "fa1b7223d4064c86a1cef19edc1e6ed6"
            }
          },
          "metadata": {}
        },
        {
          "output_type": "stream",
          "name": "stderr",
          "text": [
            "/usr/local/lib/python3.10/dist-packages/sweetviz/series_analyzer_cat.py:28: FutureWarning: iteritems is deprecated and will be removed in a future version. Use .items instead.\n",
            "  for item in category_counts.iteritems():\n",
            "/usr/local/lib/python3.10/dist-packages/sweetviz/series_analyzer_numeric.py:25: FutureWarning: The 'mad' method is deprecated and will be removed in a future version. To compute the same result, you may do `(df - df.mean()).abs().mean()`.\n",
            "  stats[\"mad\"] = series.mad()\n",
            "/usr/local/lib/python3.10/dist-packages/sweetviz/series_analyzer_text.py:19: FutureWarning: iteritems is deprecated and will be removed in a future version. Use .items instead.\n",
            "  for item in to_process.source_counts[\"value_counts_without_nan\"].iteritems():\n",
            "/usr/local/lib/python3.10/dist-packages/sweetviz/series_analyzer_text.py:19: FutureWarning: iteritems is deprecated and will be removed in a future version. Use .items instead.\n",
            "  for item in to_process.source_counts[\"value_counts_without_nan\"].iteritems():\n",
            "/usr/local/lib/python3.10/dist-packages/sweetviz/series_analyzer_text.py:19: FutureWarning: iteritems is deprecated and will be removed in a future version. Use .items instead.\n",
            "  for item in to_process.source_counts[\"value_counts_without_nan\"].iteritems():\n",
            "/usr/local/lib/python3.10/dist-packages/sweetviz/series_analyzer_text.py:19: FutureWarning: iteritems is deprecated and will be removed in a future version. Use .items instead.\n",
            "  for item in to_process.source_counts[\"value_counts_without_nan\"].iteritems():\n",
            "/usr/local/lib/python3.10/dist-packages/sweetviz/series_analyzer_cat.py:28: FutureWarning: iteritems is deprecated and will be removed in a future version. Use .items instead.\n",
            "  for item in category_counts.iteritems():\n",
            "/usr/local/lib/python3.10/dist-packages/sweetviz/series_analyzer_numeric.py:25: FutureWarning: The 'mad' method is deprecated and will be removed in a future version. To compute the same result, you may do `(df - df.mean()).abs().mean()`.\n",
            "  stats[\"mad\"] = series.mad()\n",
            "/usr/local/lib/python3.10/dist-packages/sweetviz/series_analyzer_numeric.py:25: FutureWarning: The 'mad' method is deprecated and will be removed in a future version. To compute the same result, you may do `(df - df.mean()).abs().mean()`.\n",
            "  stats[\"mad\"] = series.mad()\n",
            "/usr/local/lib/python3.10/dist-packages/sweetviz/series_analyzer_text.py:19: FutureWarning: iteritems is deprecated and will be removed in a future version. Use .items instead.\n",
            "  for item in to_process.source_counts[\"value_counts_without_nan\"].iteritems():\n",
            "/usr/local/lib/python3.10/dist-packages/sweetviz/series_analyzer_numeric.py:25: FutureWarning: The 'mad' method is deprecated and will be removed in a future version. To compute the same result, you may do `(df - df.mean()).abs().mean()`.\n",
            "  stats[\"mad\"] = series.mad()\n",
            "/usr/local/lib/python3.10/dist-packages/sweetviz/series_analyzer_numeric.py:25: FutureWarning: The 'mad' method is deprecated and will be removed in a future version. To compute the same result, you may do `(df - df.mean()).abs().mean()`.\n",
            "  stats[\"mad\"] = series.mad()\n",
            "/usr/local/lib/python3.10/dist-packages/sweetviz/series_analyzer_numeric.py:25: FutureWarning: The 'mad' method is deprecated and will be removed in a future version. To compute the same result, you may do `(df - df.mean()).abs().mean()`.\n",
            "  stats[\"mad\"] = series.mad()\n",
            "/usr/local/lib/python3.10/dist-packages/sweetviz/series_analyzer_numeric.py:25: FutureWarning: The 'mad' method is deprecated and will be removed in a future version. To compute the same result, you may do `(df - df.mean()).abs().mean()`.\n",
            "  stats[\"mad\"] = series.mad()\n",
            "/usr/local/lib/python3.10/dist-packages/sweetviz/series_analyzer_numeric.py:25: FutureWarning: The 'mad' method is deprecated and will be removed in a future version. To compute the same result, you may do `(df - df.mean()).abs().mean()`.\n",
            "  stats[\"mad\"] = series.mad()\n",
            "/usr/local/lib/python3.10/dist-packages/sweetviz/series_analyzer_numeric.py:25: FutureWarning: The 'mad' method is deprecated and will be removed in a future version. To compute the same result, you may do `(df - df.mean()).abs().mean()`.\n",
            "  stats[\"mad\"] = series.mad()\n",
            "/usr/local/lib/python3.10/dist-packages/sweetviz/series_analyzer_numeric.py:25: FutureWarning: The 'mad' method is deprecated and will be removed in a future version. To compute the same result, you may do `(df - df.mean()).abs().mean()`.\n",
            "  stats[\"mad\"] = series.mad()\n",
            "/usr/local/lib/python3.10/dist-packages/sweetviz/series_analyzer_numeric.py:25: FutureWarning: The 'mad' method is deprecated and will be removed in a future version. To compute the same result, you may do `(df - df.mean()).abs().mean()`.\n",
            "  stats[\"mad\"] = series.mad()\n",
            "/usr/local/lib/python3.10/dist-packages/sweetviz/series_analyzer_numeric.py:25: FutureWarning: The 'mad' method is deprecated and will be removed in a future version. To compute the same result, you may do `(df - df.mean()).abs().mean()`.\n",
            "  stats[\"mad\"] = series.mad()\n",
            "/usr/local/lib/python3.10/dist-packages/sweetviz/series_analyzer_numeric.py:25: FutureWarning: The 'mad' method is deprecated and will be removed in a future version. To compute the same result, you may do `(df - df.mean()).abs().mean()`.\n",
            "  stats[\"mad\"] = series.mad()\n",
            "/usr/local/lib/python3.10/dist-packages/sweetviz/series_analyzer_numeric.py:25: FutureWarning: The 'mad' method is deprecated and will be removed in a future version. To compute the same result, you may do `(df - df.mean()).abs().mean()`.\n",
            "  stats[\"mad\"] = series.mad()\n",
            "/usr/local/lib/python3.10/dist-packages/sweetviz/series_analyzer_numeric.py:25: FutureWarning: The 'mad' method is deprecated and will be removed in a future version. To compute the same result, you may do `(df - df.mean()).abs().mean()`.\n",
            "  stats[\"mad\"] = series.mad()\n",
            "/usr/local/lib/python3.10/dist-packages/sweetviz/series_analyzer_numeric.py:25: FutureWarning: The 'mad' method is deprecated and will be removed in a future version. To compute the same result, you may do `(df - df.mean()).abs().mean()`.\n",
            "  stats[\"mad\"] = series.mad()\n",
            "/usr/local/lib/python3.10/dist-packages/sweetviz/series_analyzer_numeric.py:25: FutureWarning: The 'mad' method is deprecated and will be removed in a future version. To compute the same result, you may do `(df - df.mean()).abs().mean()`.\n",
            "  stats[\"mad\"] = series.mad()\n",
            "/usr/local/lib/python3.10/dist-packages/sweetviz/series_analyzer_numeric.py:25: FutureWarning: The 'mad' method is deprecated and will be removed in a future version. To compute the same result, you may do `(df - df.mean()).abs().mean()`.\n",
            "  stats[\"mad\"] = series.mad()\n",
            "/usr/local/lib/python3.10/dist-packages/sweetviz/series_analyzer_cat.py:28: FutureWarning: iteritems is deprecated and will be removed in a future version. Use .items instead.\n",
            "  for item in category_counts.iteritems():\n",
            "/usr/local/lib/python3.10/dist-packages/sweetviz/series_analyzer_cat.py:28: FutureWarning: iteritems is deprecated and will be removed in a future version. Use .items instead.\n",
            "  for item in category_counts.iteritems():\n",
            "/usr/local/lib/python3.10/dist-packages/sweetviz/series_analyzer_cat.py:28: FutureWarning: iteritems is deprecated and will be removed in a future version. Use .items instead.\n",
            "  for item in category_counts.iteritems():\n",
            "/usr/local/lib/python3.10/dist-packages/sweetviz/series_analyzer_numeric.py:25: FutureWarning: The 'mad' method is deprecated and will be removed in a future version. To compute the same result, you may do `(df - df.mean()).abs().mean()`.\n",
            "  stats[\"mad\"] = series.mad()\n"
          ]
        },
        {
          "output_type": "error",
          "ename": "ValueError",
          "evalue": "ignored",
          "traceback": [
            "\u001b[0;31m---------------------------------------------------------------------------\u001b[0m",
            "\u001b[0;31mValueError\u001b[0m                                Traceback (most recent call last)",
            "\u001b[0;32m<ipython-input-145-6756073b0da4>\u001b[0m in \u001b[0;36m<cell line: 2>\u001b[0;34m()\u001b[0m\n\u001b[1;32m      1\u001b[0m \u001b[0;31m#analyzing the dataset\u001b[0m\u001b[0;34m\u001b[0m\u001b[0;34m\u001b[0m\u001b[0m\n\u001b[0;32m----> 2\u001b[0;31m \u001b[0madvert_report\u001b[0m \u001b[0;34m=\u001b[0m \u001b[0msv\u001b[0m\u001b[0;34m.\u001b[0m\u001b[0manalyze\u001b[0m\u001b[0;34m(\u001b[0m\u001b[0;34m[\u001b[0m\u001b[0mdata\u001b[0m\u001b[0;34m,\u001b[0m\u001b[0;34m'Work Related Injury'\u001b[0m\u001b[0;34m]\u001b[0m\u001b[0;34m,\u001b[0m\u001b[0mtarget_feat\u001b[0m\u001b[0;34m=\u001b[0m\u001b[0;34m'no_injuries_illnesses'\u001b[0m\u001b[0;34m,\u001b[0m\u001b[0mpairwise_analysis\u001b[0m\u001b[0;34m=\u001b[0m\u001b[0;34m\"on\"\u001b[0m\u001b[0;34m)\u001b[0m\u001b[0;34m\u001b[0m\u001b[0;34m\u001b[0m\u001b[0m\n\u001b[0m\u001b[1;32m      3\u001b[0m \u001b[0;31m#display the report\u001b[0m\u001b[0;34m\u001b[0m\u001b[0;34m\u001b[0m\u001b[0m\n\u001b[1;32m      4\u001b[0m \u001b[0madvert_report\u001b[0m\u001b[0;34m.\u001b[0m\u001b[0mshow_notebook\u001b[0m\u001b[0;34m(\u001b[0m\u001b[0mw\u001b[0m\u001b[0;34m=\u001b[0m\u001b[0;34m'100%'\u001b[0m\u001b[0;34m)\u001b[0m\u001b[0;34m\u001b[0m\u001b[0;34m\u001b[0m\u001b[0m\n",
            "\u001b[0;32m/usr/local/lib/python3.10/dist-packages/sweetviz/sv_public.py\u001b[0m in \u001b[0;36manalyze\u001b[0;34m(source, target_feat, feat_cfg, pairwise_analysis)\u001b[0m\n\u001b[1;32m     10\u001b[0m             \u001b[0mfeat_cfg\u001b[0m\u001b[0;34m:\u001b[0m \u001b[0mFeatureConfig\u001b[0m \u001b[0;34m=\u001b[0m \u001b[0;32mNone\u001b[0m\u001b[0;34m,\u001b[0m\u001b[0;34m\u001b[0m\u001b[0;34m\u001b[0m\u001b[0m\n\u001b[1;32m     11\u001b[0m             pairwise_analysis: str = 'auto'):\n\u001b[0;32m---> 12\u001b[0;31m     report = sweetviz.DataframeReport(source, target_feat, None,\n\u001b[0m\u001b[1;32m     13\u001b[0m                                       pairwise_analysis, feat_cfg)\n\u001b[1;32m     14\u001b[0m     \u001b[0;32mreturn\u001b[0m \u001b[0mreport\u001b[0m\u001b[0;34m\u001b[0m\u001b[0;34m\u001b[0m\u001b[0m\n",
            "\u001b[0;32m/usr/local/lib/python3.10/dist-packages/sweetviz/dataframe_report.py\u001b[0m in \u001b[0;36m__init__\u001b[0;34m(self, source, target_feature_name, compare, pairwise_analysis, fc)\u001b[0m\n\u001b[1;32m    254\u001b[0m             \u001b[0;31m# start = time.perf_counter()\u001b[0m\u001b[0;34m\u001b[0m\u001b[0;34m\u001b[0m\u001b[0m\n\u001b[1;32m    255\u001b[0m             \u001b[0mself\u001b[0m\u001b[0;34m.\u001b[0m\u001b[0mprogress_bar\u001b[0m\u001b[0;34m.\u001b[0m\u001b[0mset_description_str\u001b[0m\u001b[0;34m(\u001b[0m\u001b[0;34mf\"Feature: {f.source.name}\"\u001b[0m\u001b[0;34m)\u001b[0m\u001b[0;34m\u001b[0m\u001b[0;34m\u001b[0m\u001b[0m\n\u001b[0;32m--> 256\u001b[0;31m             \u001b[0mself\u001b[0m\u001b[0;34m.\u001b[0m\u001b[0m_features\u001b[0m\u001b[0;34m[\u001b[0m\u001b[0mf\u001b[0m\u001b[0;34m.\u001b[0m\u001b[0msource\u001b[0m\u001b[0;34m.\u001b[0m\u001b[0mname\u001b[0m\u001b[0;34m]\u001b[0m \u001b[0;34m=\u001b[0m \u001b[0msa\u001b[0m\u001b[0;34m.\u001b[0m\u001b[0manalyze_feature_to_dictionary\u001b[0m\u001b[0;34m(\u001b[0m\u001b[0mf\u001b[0m\u001b[0;34m)\u001b[0m\u001b[0;34m\u001b[0m\u001b[0;34m\u001b[0m\u001b[0m\n\u001b[0m\u001b[1;32m    257\u001b[0m             \u001b[0mself\u001b[0m\u001b[0;34m.\u001b[0m\u001b[0mprogress_bar\u001b[0m\u001b[0;34m.\u001b[0m\u001b[0mupdate\u001b[0m\u001b[0;34m(\u001b[0m\u001b[0;36m1\u001b[0m\u001b[0;34m)\u001b[0m\u001b[0;34m\u001b[0m\u001b[0;34m\u001b[0m\u001b[0m\n\u001b[1;32m    258\u001b[0m             \u001b[0;31m# print(f\"DONE FEATURE------> {f.source.name}\"\u001b[0m\u001b[0;34m\u001b[0m\u001b[0;34m\u001b[0m\u001b[0m\n",
            "\u001b[0;32m/usr/local/lib/python3.10/dist-packages/sweetviz/series_analyzer.py\u001b[0m in \u001b[0;36manalyze_feature_to_dictionary\u001b[0;34m(to_process)\u001b[0m\n\u001b[1;32m    134\u001b[0m     \u001b[0;31m# Perform full analysis on source/compare/target\u001b[0m\u001b[0;34m\u001b[0m\u001b[0;34m\u001b[0m\u001b[0m\n\u001b[1;32m    135\u001b[0m     \u001b[0;32mif\u001b[0m \u001b[0mreturned_feature_dict\u001b[0m\u001b[0;34m[\u001b[0m\u001b[0;34m\"type\"\u001b[0m\u001b[0;34m]\u001b[0m \u001b[0;34m==\u001b[0m \u001b[0mFeatureType\u001b[0m\u001b[0;34m.\u001b[0m\u001b[0mTYPE_NUM\u001b[0m\u001b[0;34m:\u001b[0m\u001b[0;34m\u001b[0m\u001b[0;34m\u001b[0m\u001b[0m\n\u001b[0;32m--> 136\u001b[0;31m         \u001b[0msweetviz\u001b[0m\u001b[0;34m.\u001b[0m\u001b[0mseries_analyzer_numeric\u001b[0m\u001b[0;34m.\u001b[0m\u001b[0manalyze\u001b[0m\u001b[0;34m(\u001b[0m\u001b[0mto_process\u001b[0m\u001b[0;34m,\u001b[0m \u001b[0mreturned_feature_dict\u001b[0m\u001b[0;34m)\u001b[0m\u001b[0;34m\u001b[0m\u001b[0;34m\u001b[0m\u001b[0m\n\u001b[0m\u001b[1;32m    137\u001b[0m     \u001b[0;32melif\u001b[0m \u001b[0mreturned_feature_dict\u001b[0m\u001b[0;34m[\u001b[0m\u001b[0;34m\"type\"\u001b[0m\u001b[0;34m]\u001b[0m \u001b[0;34m==\u001b[0m \u001b[0mFeatureType\u001b[0m\u001b[0;34m.\u001b[0m\u001b[0mTYPE_CAT\u001b[0m\u001b[0;34m:\u001b[0m\u001b[0;34m\u001b[0m\u001b[0;34m\u001b[0m\u001b[0m\n\u001b[1;32m    138\u001b[0m         \u001b[0msweetviz\u001b[0m\u001b[0;34m.\u001b[0m\u001b[0mseries_analyzer_cat\u001b[0m\u001b[0;34m.\u001b[0m\u001b[0manalyze\u001b[0m\u001b[0;34m(\u001b[0m\u001b[0mto_process\u001b[0m\u001b[0;34m,\u001b[0m \u001b[0mreturned_feature_dict\u001b[0m\u001b[0;34m)\u001b[0m\u001b[0;34m\u001b[0m\u001b[0;34m\u001b[0m\u001b[0m\n",
            "\u001b[0;32m/usr/local/lib/python3.10/dist-packages/sweetviz/series_analyzer_numeric.py\u001b[0m in \u001b[0;36manalyze\u001b[0;34m(to_process, feature_dict)\u001b[0m\n\u001b[1;32m     99\u001b[0m     \u001b[0mdo_detail_numeric\u001b[0m\u001b[0;34m(\u001b[0m\u001b[0mto_process\u001b[0m\u001b[0;34m.\u001b[0m\u001b[0msource\u001b[0m\u001b[0;34m,\u001b[0m \u001b[0mto_process\u001b[0m\u001b[0;34m.\u001b[0m\u001b[0msource_counts\u001b[0m\u001b[0;34m,\u001b[0m \u001b[0mto_process\u001b[0m\u001b[0;34m.\u001b[0m\u001b[0mcompare_counts\u001b[0m\u001b[0;34m,\u001b[0m \u001b[0mfeature_dict\u001b[0m\u001b[0;34m)\u001b[0m\u001b[0;34m\u001b[0m\u001b[0;34m\u001b[0m\u001b[0m\n\u001b[1;32m    100\u001b[0m \u001b[0;34m\u001b[0m\u001b[0m\n\u001b[0;32m--> 101\u001b[0;31m     \u001b[0mfeature_dict\u001b[0m\u001b[0;34m[\u001b[0m\u001b[0;34m\"minigraph\"\u001b[0m\u001b[0;34m]\u001b[0m \u001b[0;34m=\u001b[0m \u001b[0mGraphNumeric\u001b[0m\u001b[0;34m(\u001b[0m\u001b[0;34m\"mini\"\u001b[0m\u001b[0;34m,\u001b[0m \u001b[0mto_process\u001b[0m\u001b[0;34m)\u001b[0m\u001b[0;34m\u001b[0m\u001b[0;34m\u001b[0m\u001b[0m\n\u001b[0m\u001b[1;32m    102\u001b[0m     \u001b[0mfeature_dict\u001b[0m\u001b[0;34m[\u001b[0m\u001b[0;34m\"detail_graphs\"\u001b[0m\u001b[0;34m]\u001b[0m \u001b[0;34m=\u001b[0m \u001b[0mlist\u001b[0m\u001b[0;34m(\u001b[0m\u001b[0;34m)\u001b[0m\u001b[0;34m\u001b[0m\u001b[0;34m\u001b[0m\u001b[0m\n\u001b[1;32m    103\u001b[0m     \u001b[0;32mfor\u001b[0m \u001b[0mnum_bins\u001b[0m \u001b[0;32min\u001b[0m \u001b[0;34m[\u001b[0m\u001b[0;36m0\u001b[0m\u001b[0;34m,\u001b[0m \u001b[0;36m5\u001b[0m\u001b[0;34m,\u001b[0m \u001b[0;36m15\u001b[0m\u001b[0;34m,\u001b[0m \u001b[0;36m30\u001b[0m\u001b[0;34m]\u001b[0m\u001b[0;34m:\u001b[0m\u001b[0;34m\u001b[0m\u001b[0;34m\u001b[0m\u001b[0m\n",
            "\u001b[0;32m/usr/local/lib/python3.10/dist-packages/sweetviz/graph_numeric.py\u001b[0m in \u001b[0;36m__init__\u001b[0;34m(self, which_graph, to_process)\u001b[0m\n\u001b[1;32m     69\u001b[0m \u001b[0;34m\u001b[0m\u001b[0m\n\u001b[1;32m     70\u001b[0m         \u001b[0mnp\u001b[0m\u001b[0;34m.\u001b[0m\u001b[0mwarnings\u001b[0m\u001b[0;34m.\u001b[0m\u001b[0mfilterwarnings\u001b[0m\u001b[0;34m(\u001b[0m\u001b[0;34m'ignore'\u001b[0m\u001b[0;34m,\u001b[0m \u001b[0mcategory\u001b[0m\u001b[0;34m=\u001b[0m\u001b[0mnp\u001b[0m\u001b[0;34m.\u001b[0m\u001b[0mVisibleDeprecationWarning\u001b[0m\u001b[0;34m)\u001b[0m\u001b[0;34m\u001b[0m\u001b[0;34m\u001b[0m\u001b[0m\n\u001b[0;32m---> 71\u001b[0;31m         self.hist_specs = axs.hist(plot_data, weights = normalizing_weights, bins=self.num_bins, \\\n\u001b[0m\u001b[1;32m     72\u001b[0m                                    rwidth = (100.0 - gap_percent) / 100.0)\n\u001b[1;32m     73\u001b[0m         \u001b[0mnp\u001b[0m\u001b[0;34m.\u001b[0m\u001b[0mwarnings\u001b[0m\u001b[0;34m.\u001b[0m\u001b[0mfilterwarnings\u001b[0m\u001b[0;34m(\u001b[0m\u001b[0;34m'once'\u001b[0m\u001b[0;34m,\u001b[0m \u001b[0mcategory\u001b[0m\u001b[0;34m=\u001b[0m\u001b[0mnp\u001b[0m\u001b[0;34m.\u001b[0m\u001b[0mVisibleDeprecationWarning\u001b[0m\u001b[0;34m)\u001b[0m\u001b[0;34m\u001b[0m\u001b[0;34m\u001b[0m\u001b[0m\n",
            "\u001b[0;32m/usr/local/lib/python3.10/dist-packages/matplotlib/__init__.py\u001b[0m in \u001b[0;36minner\u001b[0;34m(ax, data, *args, **kwargs)\u001b[0m\n\u001b[1;32m   1440\u001b[0m     \u001b[0;32mdef\u001b[0m \u001b[0minner\u001b[0m\u001b[0;34m(\u001b[0m\u001b[0max\u001b[0m\u001b[0;34m,\u001b[0m \u001b[0;34m*\u001b[0m\u001b[0margs\u001b[0m\u001b[0;34m,\u001b[0m \u001b[0mdata\u001b[0m\u001b[0;34m=\u001b[0m\u001b[0;32mNone\u001b[0m\u001b[0;34m,\u001b[0m \u001b[0;34m**\u001b[0m\u001b[0mkwargs\u001b[0m\u001b[0;34m)\u001b[0m\u001b[0;34m:\u001b[0m\u001b[0;34m\u001b[0m\u001b[0;34m\u001b[0m\u001b[0m\n\u001b[1;32m   1441\u001b[0m         \u001b[0;32mif\u001b[0m \u001b[0mdata\u001b[0m \u001b[0;32mis\u001b[0m \u001b[0;32mNone\u001b[0m\u001b[0;34m:\u001b[0m\u001b[0;34m\u001b[0m\u001b[0;34m\u001b[0m\u001b[0m\n\u001b[0;32m-> 1442\u001b[0;31m             \u001b[0;32mreturn\u001b[0m \u001b[0mfunc\u001b[0m\u001b[0;34m(\u001b[0m\u001b[0max\u001b[0m\u001b[0;34m,\u001b[0m \u001b[0;34m*\u001b[0m\u001b[0mmap\u001b[0m\u001b[0;34m(\u001b[0m\u001b[0msanitize_sequence\u001b[0m\u001b[0;34m,\u001b[0m \u001b[0margs\u001b[0m\u001b[0;34m)\u001b[0m\u001b[0;34m,\u001b[0m \u001b[0;34m**\u001b[0m\u001b[0mkwargs\u001b[0m\u001b[0;34m)\u001b[0m\u001b[0;34m\u001b[0m\u001b[0;34m\u001b[0m\u001b[0m\n\u001b[0m\u001b[1;32m   1443\u001b[0m \u001b[0;34m\u001b[0m\u001b[0m\n\u001b[1;32m   1444\u001b[0m         \u001b[0mbound\u001b[0m \u001b[0;34m=\u001b[0m \u001b[0mnew_sig\u001b[0m\u001b[0;34m.\u001b[0m\u001b[0mbind\u001b[0m\u001b[0;34m(\u001b[0m\u001b[0max\u001b[0m\u001b[0;34m,\u001b[0m \u001b[0;34m*\u001b[0m\u001b[0margs\u001b[0m\u001b[0;34m,\u001b[0m \u001b[0;34m**\u001b[0m\u001b[0mkwargs\u001b[0m\u001b[0;34m)\u001b[0m\u001b[0;34m\u001b[0m\u001b[0;34m\u001b[0m\u001b[0m\n",
            "\u001b[0;32m/usr/local/lib/python3.10/dist-packages/matplotlib/axes/_axes.py\u001b[0m in \u001b[0;36mhist\u001b[0;34m(self, x, bins, range, density, weights, cumulative, bottom, histtype, align, orientation, rwidth, log, color, label, stacked, **kwargs)\u001b[0m\n\u001b[1;32m   6788\u001b[0m             \u001b[0;31m# this will automatically overwrite bins,\u001b[0m\u001b[0;34m\u001b[0m\u001b[0;34m\u001b[0m\u001b[0m\n\u001b[1;32m   6789\u001b[0m             \u001b[0;31m# so that each histogram uses the same bins\u001b[0m\u001b[0;34m\u001b[0m\u001b[0;34m\u001b[0m\u001b[0m\n\u001b[0;32m-> 6790\u001b[0;31m             \u001b[0mm\u001b[0m\u001b[0;34m,\u001b[0m \u001b[0mbins\u001b[0m \u001b[0;34m=\u001b[0m \u001b[0mnp\u001b[0m\u001b[0;34m.\u001b[0m\u001b[0mhistogram\u001b[0m\u001b[0;34m(\u001b[0m\u001b[0mx\u001b[0m\u001b[0;34m[\u001b[0m\u001b[0mi\u001b[0m\u001b[0;34m]\u001b[0m\u001b[0;34m,\u001b[0m \u001b[0mbins\u001b[0m\u001b[0;34m,\u001b[0m \u001b[0mweights\u001b[0m\u001b[0;34m=\u001b[0m\u001b[0mw\u001b[0m\u001b[0;34m[\u001b[0m\u001b[0mi\u001b[0m\u001b[0;34m]\u001b[0m\u001b[0;34m,\u001b[0m \u001b[0;34m**\u001b[0m\u001b[0mhist_kwargs\u001b[0m\u001b[0;34m)\u001b[0m\u001b[0;34m\u001b[0m\u001b[0;34m\u001b[0m\u001b[0m\n\u001b[0m\u001b[1;32m   6791\u001b[0m             \u001b[0mtops\u001b[0m\u001b[0;34m.\u001b[0m\u001b[0mappend\u001b[0m\u001b[0;34m(\u001b[0m\u001b[0mm\u001b[0m\u001b[0;34m)\u001b[0m\u001b[0;34m\u001b[0m\u001b[0;34m\u001b[0m\u001b[0m\n\u001b[1;32m   6792\u001b[0m         \u001b[0mtops\u001b[0m \u001b[0;34m=\u001b[0m \u001b[0mnp\u001b[0m\u001b[0;34m.\u001b[0m\u001b[0marray\u001b[0m\u001b[0;34m(\u001b[0m\u001b[0mtops\u001b[0m\u001b[0;34m,\u001b[0m \u001b[0mfloat\u001b[0m\u001b[0;34m)\u001b[0m  \u001b[0;31m# causes problems later if it's an int\u001b[0m\u001b[0;34m\u001b[0m\u001b[0;34m\u001b[0m\u001b[0m\n",
            "\u001b[0;32m/usr/local/lib/python3.10/dist-packages/numpy/core/overrides.py\u001b[0m in \u001b[0;36mhistogram\u001b[0;34m(*args, **kwargs)\u001b[0m\n",
            "\u001b[0;32m/usr/local/lib/python3.10/dist-packages/numpy/lib/histograms.py\u001b[0m in \u001b[0;36mhistogram\u001b[0;34m(a, bins, range, normed, weights, density)\u001b[0m\n\u001b[1;32m    791\u001b[0m     \u001b[0ma\u001b[0m\u001b[0;34m,\u001b[0m \u001b[0mweights\u001b[0m \u001b[0;34m=\u001b[0m \u001b[0m_ravel_and_check_weights\u001b[0m\u001b[0;34m(\u001b[0m\u001b[0ma\u001b[0m\u001b[0;34m,\u001b[0m \u001b[0mweights\u001b[0m\u001b[0;34m)\u001b[0m\u001b[0;34m\u001b[0m\u001b[0;34m\u001b[0m\u001b[0m\n\u001b[1;32m    792\u001b[0m \u001b[0;34m\u001b[0m\u001b[0m\n\u001b[0;32m--> 793\u001b[0;31m     \u001b[0mbin_edges\u001b[0m\u001b[0;34m,\u001b[0m \u001b[0muniform_bins\u001b[0m \u001b[0;34m=\u001b[0m \u001b[0m_get_bin_edges\u001b[0m\u001b[0;34m(\u001b[0m\u001b[0ma\u001b[0m\u001b[0;34m,\u001b[0m \u001b[0mbins\u001b[0m\u001b[0;34m,\u001b[0m \u001b[0mrange\u001b[0m\u001b[0;34m,\u001b[0m \u001b[0mweights\u001b[0m\u001b[0;34m)\u001b[0m\u001b[0;34m\u001b[0m\u001b[0;34m\u001b[0m\u001b[0m\n\u001b[0m\u001b[1;32m    794\u001b[0m \u001b[0;34m\u001b[0m\u001b[0m\n\u001b[1;32m    795\u001b[0m     \u001b[0;31m# Histogram is an integer or a float array depending on the weights.\u001b[0m\u001b[0;34m\u001b[0m\u001b[0;34m\u001b[0m\u001b[0m\n",
            "\u001b[0;32m/usr/local/lib/python3.10/dist-packages/numpy/lib/histograms.py\u001b[0m in \u001b[0;36m_get_bin_edges\u001b[0;34m(a, bins, range, weights)\u001b[0m\n\u001b[1;32m    424\u001b[0m             \u001b[0;32mraise\u001b[0m \u001b[0mValueError\u001b[0m\u001b[0;34m(\u001b[0m\u001b[0;34m'`bins` must be positive, when an integer'\u001b[0m\u001b[0;34m)\u001b[0m\u001b[0;34m\u001b[0m\u001b[0;34m\u001b[0m\u001b[0m\n\u001b[1;32m    425\u001b[0m \u001b[0;34m\u001b[0m\u001b[0m\n\u001b[0;32m--> 426\u001b[0;31m         \u001b[0mfirst_edge\u001b[0m\u001b[0;34m,\u001b[0m \u001b[0mlast_edge\u001b[0m \u001b[0;34m=\u001b[0m \u001b[0m_get_outer_edges\u001b[0m\u001b[0;34m(\u001b[0m\u001b[0ma\u001b[0m\u001b[0;34m,\u001b[0m \u001b[0mrange\u001b[0m\u001b[0;34m)\u001b[0m\u001b[0;34m\u001b[0m\u001b[0;34m\u001b[0m\u001b[0m\n\u001b[0m\u001b[1;32m    427\u001b[0m \u001b[0;34m\u001b[0m\u001b[0m\n\u001b[1;32m    428\u001b[0m     \u001b[0;32melif\u001b[0m \u001b[0mnp\u001b[0m\u001b[0;34m.\u001b[0m\u001b[0mndim\u001b[0m\u001b[0;34m(\u001b[0m\u001b[0mbins\u001b[0m\u001b[0;34m)\u001b[0m \u001b[0;34m==\u001b[0m \u001b[0;36m1\u001b[0m\u001b[0;34m:\u001b[0m\u001b[0;34m\u001b[0m\u001b[0;34m\u001b[0m\u001b[0m\n",
            "\u001b[0;32m/usr/local/lib/python3.10/dist-packages/numpy/lib/histograms.py\u001b[0m in \u001b[0;36m_get_outer_edges\u001b[0;34m(a, range)\u001b[0m\n\u001b[1;32m    313\u001b[0m                 'max must be larger than min in range parameter.')\n\u001b[1;32m    314\u001b[0m         \u001b[0;32mif\u001b[0m \u001b[0;32mnot\u001b[0m \u001b[0;34m(\u001b[0m\u001b[0mnp\u001b[0m\u001b[0;34m.\u001b[0m\u001b[0misfinite\u001b[0m\u001b[0;34m(\u001b[0m\u001b[0mfirst_edge\u001b[0m\u001b[0;34m)\u001b[0m \u001b[0;32mand\u001b[0m \u001b[0mnp\u001b[0m\u001b[0;34m.\u001b[0m\u001b[0misfinite\u001b[0m\u001b[0;34m(\u001b[0m\u001b[0mlast_edge\u001b[0m\u001b[0;34m)\u001b[0m\u001b[0;34m)\u001b[0m\u001b[0;34m:\u001b[0m\u001b[0;34m\u001b[0m\u001b[0;34m\u001b[0m\u001b[0m\n\u001b[0;32m--> 315\u001b[0;31m             raise ValueError(\n\u001b[0m\u001b[1;32m    316\u001b[0m                 \"supplied range of [{}, {}] is not finite\".format(first_edge, last_edge))\n\u001b[1;32m    317\u001b[0m     \u001b[0;32melif\u001b[0m \u001b[0ma\u001b[0m\u001b[0;34m.\u001b[0m\u001b[0msize\u001b[0m \u001b[0;34m==\u001b[0m \u001b[0;36m0\u001b[0m\u001b[0;34m:\u001b[0m\u001b[0;34m\u001b[0m\u001b[0;34m\u001b[0m\u001b[0m\n",
            "\u001b[0;31mValueError\u001b[0m: supplied range of [-28642.0, inf] is not finite"
          ]
        },
        {
          "output_type": "display_data",
          "data": {
            "text/plain": [
              "<Figure size 290x120 with 1 Axes>"
            ],
            "image/png": "[encoded data removed]"
          },
          "metadata": {}
        }
      ]
    },
    {
      "cell_type": "code",
      "source": [],
      "metadata": {
        "id": "vetA1pK3oFhq"
      },
      "execution_count": null,
      "outputs": []
    }
  ]
}